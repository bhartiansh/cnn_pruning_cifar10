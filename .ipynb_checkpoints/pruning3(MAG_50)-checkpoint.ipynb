{
 "cells": [
  {
   "cell_type": "markdown",
   "metadata": {
    "colab_type": "text",
    "id": "view-in-github"
   },
   "source": [
    "<a href=\"https://colab.research.google.com/github/bhartiansh/cnn_pruning_cifar10/blob/main/pruning3(MAG_50).ipynb\" target=\"_parent\"><img src=\"https://colab.research.google.com/assets/colab-badge.svg\" alt=\"Open In Colab\"/></a>"
   ]
  },
  {
   "cell_type": "code",
   "execution_count": 1,
   "metadata": {
    "colab": {
     "base_uri": "https://localhost:8080/"
    },
    "id": "zJrGAG5AYSZl",
    "outputId": "7a00c3c6-afdf-4792-ce48-7990423460ea"
   },
   "outputs": [
    {
     "name": "stdout",
     "output_type": "stream",
     "text": [
      "C:\\Users\\kabir\\cnn_pruning_cifar10\\cnn_pruning_cifar10\n"
     ]
    },
    {
     "name": "stderr",
     "output_type": "stream",
     "text": [
      "Cloning into 'cnn_pruning_cifar10'...\n"
     ]
    }
   ],
   "source": [
    "!git clone https://github.com/bhartiansh/cnn_pruning_cifar10.git\n",
    "%cd cnn_pruning_cifar10"
   ]
  },
  {
   "cell_type": "code",
   "execution_count": 4,
   "metadata": {
    "colab": {
     "base_uri": "https://localhost:8080/"
    },
    "id": "fMY9_yoOYTgY",
    "outputId": "d1f5ba65-22a8-4865-b8cb-1f6feda38b2a"
   },
   "outputs": [
    {
     "name": "stdout",
     "output_type": "stream",
     "text": [
      "Note: you may need to restart the kernel to use updated packages.\n"
     ]
    },
    {
     "name": "stderr",
     "output_type": "stream",
     "text": [
      "'C:\\Anaconda' is not recognized as an internal or external command,\n",
      "operable program or batch file.\n"
     ]
    }
   ],
   "source": [
    "%pip install -q tensorflow-model-optimization"
   ]
  },
  {
   "cell_type": "code",
   "execution_count": 4,
   "metadata": {
    "id": "gqphuiD4aQhx"
   },
   "outputs": [],
   "source": [
    "import tensorflow as tf\n",
    "import numpy as np\n",
    "import matplotlib.pyplot as plt\n",
    "import tensorflow_model_optimization as tfmot\n",
    "from models.resnet56_baseline import build_resnet56"
   ]
  },
  {
   "cell_type": "code",
   "execution_count": 5,
   "metadata": {
    "id": "YpppOVlAYXd8"
   },
   "outputs": [],
   "source": [
    "def get_global_magnitude_scores(model):\n",
    "    scores = []\n",
    "    for weight in model.trainable_weights:\n",
    "        if 'kernel' in weight.name:  # Ignore biases and BN params\n",
    "            scores.append(tf.reshape(tf.abs(weight), [-1]))\n",
    "    return tf.concat(scores, axis=0)\n"
   ]
  },
  {
   "cell_type": "code",
   "execution_count": 6,
   "metadata": {
    "id": "95UvjjPHYZOt"
   },
   "outputs": [],
   "source": [
    "def apply_global_magnitude_pruning(model, sparsity):\n",
    "    all_scores = get_global_magnitude_scores(model)\n",
    "    k = int((1 - sparsity) * all_scores.shape[0])\n",
    "    threshold = tf.sort(all_scores, direction='ASCENDING')[k]\n",
    "\n",
    "    # Apply mask\n",
    "    for weight in model.trainable_weights:\n",
    "        if 'kernel' in weight.name:\n",
    "            mask = tf.cast(tf.abs(weight) >= threshold, tf.float32)\n",
    "            pruned = weight * mask\n",
    "            weight.assign(pruned)\n"
   ]
  },
  {
   "cell_type": "code",
   "execution_count": 7,
   "metadata": {
    "id": "1l43sK3XYbk8"
   },
   "outputs": [],
   "source": [
    "def train_magnitude_pruned_model(build_model_fn, x_train, y_train, x_val, y_val,\n",
    "                                 sparsity=0.5, epochs=50, batch_size=128, save_path='magprune_model.h5'):\n",
    "    model = build_model_fn()  # build fresh model\n",
    "    apply_global_magnitude_pruning(model, sparsity)\n",
    "\n",
    "    early_stop = tf.keras.callbacks.EarlyStopping(patience=5, restore_best_weights=True)\n",
    "    checkpoint = tf.keras.callbacks.ModelCheckpoint(save_path, save_best_only=True)\n",
    "\n",
    "    model.compile(optimizer='adam',\n",
    "                  loss='sparse_categorical_crossentropy',\n",
    "                  metrics=['accuracy'])\n",
    "\n",
    "    history = model.fit(x_train, y_train,\n",
    "                        validation_data=(x_val, y_val),\n",
    "                        epochs=epochs,\n",
    "                        batch_size=batch_size,\n",
    "                        callbacks=[early_stop, checkpoint],\n",
    "                        verbose=2)\n",
    "\n",
    "    return model, history\n"
   ]
  },
  {
   "cell_type": "code",
   "execution_count": 8,
   "metadata": {
    "colab": {
     "base_uri": "https://localhost:8080/"
    },
    "id": "eFt8vw0KY8Q_",
    "outputId": "c2d3e054-42f3-4910-97e1-88513d3582cf"
   },
   "outputs": [
    {
     "name": "stdout",
     "output_type": "stream",
     "text": [
      " data\t\t\t  'pruning4(L1_Norm_Filter).ipynb'\n",
      " models\t\t\t  'pruning5(Random_Pruning_Unstructured).ipynb'\n",
      "'pruning1(lth).ipynb'\t   README.md\n",
      "'pruning2(SNIP).ipynb'\t   ResNet56_baseline_model.ipynb\n",
      "'pruning3(MAG_50).ipynb'   traning\n"
     ]
    }
   ],
   "source": [
    "!ls\n"
   ]
  },
  {
   "cell_type": "code",
   "execution_count": 9,
   "metadata": {
    "colab": {
     "base_uri": "https://localhost:8080/"
    },
    "id": "zfbf_hPOYhFW",
    "outputId": "b7793630-740d-4ea1-bd11-82fbfe53bfb9"
   },
   "outputs": [
    {
     "name": "stdout",
     "output_type": "stream",
     "text": [
      "Downloading data from https://www.cs.toronto.edu/~kriz/cifar-10-python.tar.gz\n",
      "\u001b[1m170498071/170498071\u001b[0m \u001b[32m━━━━━━━━━━━━━━━━━━━━\u001b[0m\u001b[37m\u001b[0m \u001b[1m4s\u001b[0m 0us/step\n",
      "Epoch 1/50\n"
     ]
    },
    {
     "name": "stderr",
     "output_type": "stream",
     "text": [
      "WARNING:absl:You are saving your model as an HDF5 file via `model.save()` or `keras.saving.save_model(model)`. This file format is considered legacy. We recommend using instead the native Keras format, e.g. `model.save('my_model.keras')` or `keras.saving.save_model(model, 'my_model.keras')`. \n"
     ]
    },
    {
     "name": "stdout",
     "output_type": "stream",
     "text": [
      "391/391 - 105s - 268ms/step - accuracy: 0.4662 - loss: 1.5083 - val_accuracy: 0.4949 - val_loss: 1.4656\n",
      "Epoch 2/50\n"
     ]
    },
    {
     "name": "stderr",
     "output_type": "stream",
     "text": [
      "WARNING:absl:You are saving your model as an HDF5 file via `model.save()` or `keras.saving.save_model(model)`. This file format is considered legacy. We recommend using instead the native Keras format, e.g. `model.save('my_model.keras')` or `keras.saving.save_model(model, 'my_model.keras')`. \n"
     ]
    },
    {
     "name": "stdout",
     "output_type": "stream",
     "text": [
      "391/391 - 47s - 121ms/step - accuracy: 0.6286 - loss: 1.0438 - val_accuracy: 0.5932 - val_loss: 1.1745\n",
      "Epoch 3/50\n",
      "391/391 - 40s - 101ms/step - accuracy: 0.7043 - loss: 0.8364 - val_accuracy: 0.4545 - val_loss: 2.3068\n",
      "Epoch 4/50\n"
     ]
    },
    {
     "name": "stderr",
     "output_type": "stream",
     "text": [
      "WARNING:absl:You are saving your model as an HDF5 file via `model.save()` or `keras.saving.save_model(model)`. This file format is considered legacy. We recommend using instead the native Keras format, e.g. `model.save('my_model.keras')` or `keras.saving.save_model(model, 'my_model.keras')`. \n"
     ]
    },
    {
     "name": "stdout",
     "output_type": "stream",
     "text": [
      "391/391 - 29s - 75ms/step - accuracy: 0.7572 - loss: 0.6892 - val_accuracy: 0.6444 - val_loss: 1.0987\n",
      "Epoch 5/50\n",
      "391/391 - 41s - 104ms/step - accuracy: 0.7932 - loss: 0.5866 - val_accuracy: 0.6598 - val_loss: 1.1124\n",
      "Epoch 6/50\n",
      "391/391 - 41s - 105ms/step - accuracy: 0.8242 - loss: 0.4978 - val_accuracy: 0.6331 - val_loss: 1.3456\n",
      "Epoch 7/50\n",
      "391/391 - 42s - 107ms/step - accuracy: 0.8522 - loss: 0.4228 - val_accuracy: 0.6345 - val_loss: 1.2956\n",
      "Epoch 8/50\n"
     ]
    },
    {
     "name": "stderr",
     "output_type": "stream",
     "text": [
      "WARNING:absl:You are saving your model as an HDF5 file via `model.save()` or `keras.saving.save_model(model)`. This file format is considered legacy. We recommend using instead the native Keras format, e.g. `model.save('my_model.keras')` or `keras.saving.save_model(model, 'my_model.keras')`. \n"
     ]
    },
    {
     "name": "stdout",
     "output_type": "stream",
     "text": [
      "391/391 - 42s - 108ms/step - accuracy: 0.8717 - loss: 0.3627 - val_accuracy: 0.6832 - val_loss: 1.0702\n",
      "Epoch 9/50\n",
      "391/391 - 29s - 74ms/step - accuracy: 0.8944 - loss: 0.3034 - val_accuracy: 0.6812 - val_loss: 1.3440\n",
      "Epoch 10/50\n",
      "391/391 - 41s - 105ms/step - accuracy: 0.9088 - loss: 0.2537 - val_accuracy: 0.6477 - val_loss: 1.3783\n",
      "Epoch 11/50\n",
      "391/391 - 31s - 79ms/step - accuracy: 0.9268 - loss: 0.2102 - val_accuracy: 0.6482 - val_loss: 1.5071\n",
      "Epoch 12/50\n",
      "391/391 - 39s - 100ms/step - accuracy: 0.9369 - loss: 0.1770 - val_accuracy: 0.6578 - val_loss: 1.6090\n",
      "Epoch 13/50\n",
      "391/391 - 42s - 106ms/step - accuracy: 0.9454 - loss: 0.1536 - val_accuracy: 0.7319 - val_loss: 1.1460\n"
     ]
    }
   ],
   "source": [
    "# Load and normalize CIFAR-10\n",
    "(x_train, y_train), (x_test, y_test) = tf.keras.datasets.cifar10.load_data()\n",
    "x_train, x_test = x_train / 255.0, x_test / 255.0\n",
    "\n",
    "# Train magnitude-pruned model\n",
    "model, history = train_magnitude_pruned_model(\n",
    "    build_model_fn=build_resnet56,  # your model builder\n",
    "    x_train=x_train,\n",
    "    y_train=y_train,\n",
    "    x_val=x_test,\n",
    "    y_val=y_test,\n",
    "    sparsity=0.5,  # 50% pruning\n",
    "    save_path='magprune_model.h5'\n",
    ")\n"
   ]
  },
  {
   "cell_type": "code",
   "execution_count": 10,
   "metadata": {
    "colab": {
     "base_uri": "https://localhost:8080/"
    },
    "id": "qidOyJXYYjhq",
    "outputId": "abf89d50-ddae-4ff7-a5b3-a7fed7458c3b"
   },
   "outputs": [
    {
     "name": "stdout",
     "output_type": "stream",
     "text": [
      "Epoch 1/50\n"
     ]
    },
    {
     "name": "stderr",
     "output_type": "stream",
     "text": [
      "WARNING:absl:You are saving your model as an HDF5 file via `model.save()` or `keras.saving.save_model(model)`. This file format is considered legacy. We recommend using instead the native Keras format, e.g. `model.save('my_model.keras')` or `keras.saving.save_model(model, 'my_model.keras')`. \n"
     ]
    },
    {
     "name": "stdout",
     "output_type": "stream",
     "text": [
      "391/391 - 96s - 246ms/step - accuracy: 0.4423 - loss: 1.6145 - val_accuracy: 0.4904 - val_loss: 1.4998\n",
      "Epoch 2/50\n",
      "391/391 - 31s - 78ms/step - accuracy: 0.6254 - loss: 1.0493 - val_accuracy: 0.4859 - val_loss: 1.6776\n",
      "Epoch 3/50\n"
     ]
    },
    {
     "name": "stderr",
     "output_type": "stream",
     "text": [
      "WARNING:absl:You are saving your model as an HDF5 file via `model.save()` or `keras.saving.save_model(model)`. This file format is considered legacy. We recommend using instead the native Keras format, e.g. `model.save('my_model.keras')` or `keras.saving.save_model(model, 'my_model.keras')`. \n"
     ]
    },
    {
     "name": "stdout",
     "output_type": "stream",
     "text": [
      "391/391 - 40s - 102ms/step - accuracy: 0.7106 - loss: 0.8245 - val_accuracy: 0.6571 - val_loss: 1.0465\n",
      "Epoch 4/50\n"
     ]
    },
    {
     "name": "stderr",
     "output_type": "stream",
     "text": [
      "WARNING:absl:You are saving your model as an HDF5 file via `model.save()` or `keras.saving.save_model(model)`. This file format is considered legacy. We recommend using instead the native Keras format, e.g. `model.save('my_model.keras')` or `keras.saving.save_model(model, 'my_model.keras')`. \n"
     ]
    },
    {
     "name": "stdout",
     "output_type": "stream",
     "text": [
      "391/391 - 31s - 79ms/step - accuracy: 0.7622 - loss: 0.6790 - val_accuracy: 0.6876 - val_loss: 0.9395\n",
      "Epoch 5/50\n",
      "391/391 - 39s - 100ms/step - accuracy: 0.7947 - loss: 0.5830 - val_accuracy: 0.6481 - val_loss: 1.0437\n",
      "Epoch 6/50\n"
     ]
    },
    {
     "name": "stderr",
     "output_type": "stream",
     "text": [
      "WARNING:absl:You are saving your model as an HDF5 file via `model.save()` or `keras.saving.save_model(model)`. This file format is considered legacy. We recommend using instead the native Keras format, e.g. `model.save('my_model.keras')` or `keras.saving.save_model(model, 'my_model.keras')`. \n"
     ]
    },
    {
     "name": "stdout",
     "output_type": "stream",
     "text": [
      "391/391 - 42s - 108ms/step - accuracy: 0.8237 - loss: 0.4983 - val_accuracy: 0.7342 - val_loss: 0.7998\n",
      "Epoch 7/50\n",
      "391/391 - 41s - 105ms/step - accuracy: 0.8472 - loss: 0.4334 - val_accuracy: 0.7278 - val_loss: 0.8149\n",
      "Epoch 8/50\n",
      "391/391 - 40s - 102ms/step - accuracy: 0.8668 - loss: 0.3749 - val_accuracy: 0.7053 - val_loss: 1.0699\n",
      "Epoch 9/50\n",
      "391/391 - 41s - 105ms/step - accuracy: 0.8864 - loss: 0.3198 - val_accuracy: 0.5918 - val_loss: 2.0061\n",
      "Epoch 10/50\n",
      "391/391 - 41s - 104ms/step - accuracy: 0.9046 - loss: 0.2696 - val_accuracy: 0.7124 - val_loss: 1.1424\n",
      "Epoch 11/50\n",
      "391/391 - 42s - 108ms/step - accuracy: 0.9191 - loss: 0.2276 - val_accuracy: 0.7535 - val_loss: 0.9529\n"
     ]
    }
   ],
   "source": [
    "# Load and normalize CIFAR-10\n",
    "(x_train, y_train), (x_test, y_test) = tf.keras.datasets.cifar10.load_data()\n",
    "x_train, x_test = x_train / 255.0, x_test / 255.0\n",
    "\n",
    "# Train magnitude-pruned model\n",
    "model, history = train_magnitude_pruned_model(\n",
    "    build_model_fn=build_resnet56,  # your model builder\n",
    "    x_train=x_train,\n",
    "    y_train=y_train,\n",
    "    x_val=x_test,\n",
    "    y_val=y_test,\n",
    "    sparsity=0.3,  # 30% pruning\n",
    "    save_path='magprune_model.h5'\n",
    ")\n"
   ]
  },
  {
   "cell_type": "code",
   "execution_count": 11,
   "metadata": {
    "colab": {
     "base_uri": "https://localhost:8080/"
    },
    "id": "jqaTrYVG8YS_",
    "outputId": "dcf1970b-93c8-43d9-a52e-dbce40df0b3b"
   },
   "outputs": [
    {
     "name": "stdout",
     "output_type": "stream",
     "text": [
      "Epoch 1/50\n"
     ]
    },
    {
     "name": "stderr",
     "output_type": "stream",
     "text": [
      "WARNING:absl:You are saving your model as an HDF5 file via `model.save()` or `keras.saving.save_model(model)`. This file format is considered legacy. We recommend using instead the native Keras format, e.g. `model.save('my_model.keras')` or `keras.saving.save_model(model, 'my_model.keras')`. \n"
     ]
    },
    {
     "name": "stdout",
     "output_type": "stream",
     "text": [
      "391/391 - 97s - 249ms/step - accuracy: 0.4614 - loss: 1.5363 - val_accuracy: 0.3531 - val_loss: 2.1688\n",
      "Epoch 2/50\n"
     ]
    },
    {
     "name": "stderr",
     "output_type": "stream",
     "text": [
      "WARNING:absl:You are saving your model as an HDF5 file via `model.save()` or `keras.saving.save_model(model)`. This file format is considered legacy. We recommend using instead the native Keras format, e.g. `model.save('my_model.keras')` or `keras.saving.save_model(model, 'my_model.keras')`. \n"
     ]
    },
    {
     "name": "stdout",
     "output_type": "stream",
     "text": [
      "391/391 - 30s - 77ms/step - accuracy: 0.6433 - loss: 1.0056 - val_accuracy: 0.6092 - val_loss: 1.1594\n",
      "Epoch 3/50\n",
      "391/391 - 40s - 102ms/step - accuracy: 0.7208 - loss: 0.7935 - val_accuracy: 0.5820 - val_loss: 1.2179\n",
      "Epoch 4/50\n"
     ]
    },
    {
     "name": "stderr",
     "output_type": "stream",
     "text": [
      "WARNING:absl:You are saving your model as an HDF5 file via `model.save()` or `keras.saving.save_model(model)`. This file format is considered legacy. We recommend using instead the native Keras format, e.g. `model.save('my_model.keras')` or `keras.saving.save_model(model, 'my_model.keras')`. \n"
     ]
    },
    {
     "name": "stdout",
     "output_type": "stream",
     "text": [
      "391/391 - 42s - 107ms/step - accuracy: 0.7655 - loss: 0.6681 - val_accuracy: 0.7045 - val_loss: 0.8952\n",
      "Epoch 5/50\n",
      "391/391 - 41s - 104ms/step - accuracy: 0.7980 - loss: 0.5739 - val_accuracy: 0.6924 - val_loss: 0.9665\n",
      "Epoch 6/50\n",
      "391/391 - 41s - 105ms/step - accuracy: 0.8296 - loss: 0.4876 - val_accuracy: 0.6686 - val_loss: 1.1922\n",
      "Epoch 7/50\n",
      "391/391 - 42s - 107ms/step - accuracy: 0.8532 - loss: 0.4189 - val_accuracy: 0.7226 - val_loss: 0.8991\n",
      "Epoch 8/50\n",
      "391/391 - 41s - 106ms/step - accuracy: 0.8760 - loss: 0.3508 - val_accuracy: 0.7208 - val_loss: 0.9509\n",
      "Epoch 9/50\n",
      "391/391 - 40s - 102ms/step - accuracy: 0.8934 - loss: 0.2967 - val_accuracy: 0.6968 - val_loss: 1.1326\n"
     ]
    }
   ],
   "source": [
    "# Load and normalize CIFAR-10\n",
    "(x_train, y_train), (x_test, y_test) = tf.keras.datasets.cifar10.load_data()\n",
    "x_train, x_test = x_train / 255.0, x_test / 255.0\n",
    "\n",
    "# Train magnitude-pruned model\n",
    "model, history = train_magnitude_pruned_model(\n",
    "    build_model_fn=build_resnet56,  # your model builder\n",
    "    x_train=x_train,\n",
    "    y_train=y_train,\n",
    "    x_val=x_test,\n",
    "    y_val=y_test,\n",
    "    sparsity=0.7,  # 70% pruning\n",
    "    save_path='magprune_model.h5'\n",
    ")\n"
   ]
  },
  {
   "cell_type": "markdown",
   "metadata": {
    "id": "m5t6bV1t9VMp"
   },
   "source": []
  },
  {
   "cell_type": "markdown",
   "metadata": {
    "id": "a8zHHYLh9VXo"
   },
   "source": []
  },
  {
   "cell_type": "markdown",
   "metadata": {
    "id": "cNX-xeVN9Vco"
   },
   "source": []
  },
  {
   "cell_type": "code",
   "execution_count": null,
   "metadata": {
    "colab": {
     "base_uri": "https://localhost:8080/",
     "height": 1000
    },
    "id": "Z2x_5I5unKjr",
    "outputId": "011002b3-3e2d-4820-c697-34933bd33ad2"
   },
   "outputs": [
    {
     "name": "stderr",
     "output_type": "stream",
     "text": [
      "ERROR: Could not find a version that satisfies the requirement numpy==1.23.5 (from versions: 1.3.0, 1.4.1, 1.5.0, 1.5.1, 1.6.0, 1.6.1, 1.6.2, 1.7.0, 1.7.1, 1.7.2, 1.8.0, 1.8.1, 1.8.2, 1.9.0, 1.9.1, 1.9.2, 1.9.3, 1.10.0.post2, 1.10.1, 1.10.2, 1.10.4, 1.11.0, 1.11.1, 1.11.2, 1.11.3, 1.12.0, 1.12.1, 1.13.0, 1.13.1, 1.13.3, 1.14.0, 1.14.1, 1.14.2, 1.14.3, 1.14.4, 1.14.5, 1.14.6, 1.15.0, 1.15.1, 1.15.2, 1.15.3, 1.15.4, 1.16.0, 1.16.1, 1.16.2, 1.16.3, 1.16.4, 1.16.5, 1.16.6, 1.17.0, 1.17.1, 1.17.2, 1.17.3, 1.17.4, 1.17.5, 1.18.0, 1.18.1, 1.18.2, 1.18.3, 1.18.4, 1.18.5, 1.19.0, 1.19.1, 1.19.2, 1.19.3, 1.19.4, 1.19.5)\n",
      "ERROR: No matching distribution found for numpy==1.23.5\n",
      "ERROR: Could not find a version that satisfies the requirement tensorflow==2.14.0 (from versions: 1.2.0, 1.2.1, 1.3.0, 1.4.0, 1.5.0, 1.5.1, 1.6.0, 1.7.0, 1.7.1, 1.8.0, 1.9.0, 1.10.0, 1.11.0, 1.12.0, 1.12.2, 1.12.3, 1.13.1, 1.13.2, 1.14.0, 1.15.0, 1.15.2, 1.15.3, 1.15.4, 1.15.5, 2.0.0, 2.0.1, 2.0.2, 2.0.3, 2.0.4, 2.1.0, 2.1.1, 2.1.2, 2.1.3, 2.1.4, 2.2.0, 2.2.1, 2.2.2, 2.2.3, 2.3.0, 2.3.1, 2.3.2, 2.3.3, 2.3.4, 2.4.0, 2.4.1, 2.4.2, 2.4.3, 2.4.4, 2.5.0, 2.5.1, 2.5.2, 2.6.0rc0, 2.6.0rc1, 2.6.0rc2, 2.6.0, 2.6.1, 2.6.2)\n",
      "ERROR: No matching distribution found for tensorflow==2.14.0\n"
     ]
    }
   ],
   "source": [
    "# 1. Force compatible versions (reset everything to Colab defaults)\n",
    "!pip install -U --force-reinstall numpy==1.23.5\n",
    "!pip install -U --force-reinstall tensorflow==2.14.0\n",
    "!pip install -U tensorflow-model-optimization\n",
    "\n",
    "# 2. Restart runtime automatically after install\n",
    "import os\n",
    "os.kill(os.getpid(), 9)"
   ]
  },
  {
   "cell_type": "code",
   "execution_count": null,
   "metadata": {},
   "outputs": [],
   "source": []
  }
 ],
 "metadata": {
  "accelerator": "GPU",
  "colab": {
   "authorship_tag": "ABX9TyPHXNMDrGWPXHiiUckwr/pm",
   "gpuType": "T4",
   "include_colab_link": true,
   "provenance": []
  },
  "kernelspec": {
   "display_name": "Python 3",
   "language": "python",
   "name": "python3"
  },
  "language_info": {
   "codemirror_mode": {
    "name": "ipython",
    "version": 3
   },
   "file_extension": ".py",
   "mimetype": "text/x-python",
   "name": "python",
   "nbconvert_exporter": "python",
   "pygments_lexer": "ipython3",
   "version": "3.6.13"
  }
 },
 "nbformat": 4,
 "nbformat_minor": 1
}
