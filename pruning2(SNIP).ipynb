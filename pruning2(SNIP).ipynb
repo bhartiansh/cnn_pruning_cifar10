{
  "nbformat": 4,
  "nbformat_minor": 0,
  "metadata": {
    "colab": {
      "provenance": [],
      "gpuType": "T4",
      "authorship_tag": "ABX9TyP17k5j+cSZSsaFbLPMgXyR",
      "include_colab_link": true
    },
    "kernelspec": {
      "name": "python3",
      "display_name": "Python 3"
    },
    "language_info": {
      "name": "python"
    },
    "accelerator": "GPU"
  },
  "cells": [
    {
      "cell_type": "markdown",
      "metadata": {
        "id": "view-in-github",
        "colab_type": "text"
      },
      "source": [
        "<a href=\"https://colab.research.google.com/github/bhartiansh/cnn_pruning_cifar10/blob/main/pruning2(SNIP).ipynb\" target=\"_parent\"><img src=\"https://colab.research.google.com/assets/colab-badge.svg\" alt=\"Open In Colab\"/></a>"
      ]
    },
    {
      "cell_type": "code",
      "execution_count": 2,
      "metadata": {
        "colab": {
          "base_uri": "https://localhost:8080/"
        },
        "id": "0f794YJHvzCX",
        "outputId": "49c1f5c0-dcbd-413d-b13f-b71b77f3aa81"
      },
      "outputs": [
        {
          "output_type": "stream",
          "name": "stdout",
          "text": [
            "fatal: destination path 'cnn_pruning_cifar10' already exists and is not an empty directory.\n",
            "/content/cnn_pruning_cifar10\n"
          ]
        }
      ],
      "source": [
        "!git clone https://github.com/bhartiansh/cnn_pruning_cifar10.git\n",
        "%cd cnn_pruning_cifar10"
      ]
    },
    {
      "cell_type": "code",
      "source": [
        "!pip install -q tensorflow-model-optimization"
      ],
      "metadata": {
        "colab": {
          "base_uri": "https://localhost:8080/"
        },
        "id": "dhUaivPSv0zm",
        "outputId": "b1a2e810-87b0-49db-cfa2-13d4c6d46acc"
      },
      "execution_count": 4,
      "outputs": [
        {
          "output_type": "stream",
          "name": "stdout",
          "text": [
            "\u001b[?25l     \u001b[90m━━━━━━━━━━━━━━━━━━━━━━━━━━━━━━━━━━━━━━━━\u001b[0m \u001b[32m0.0/61.0 kB\u001b[0m \u001b[31m?\u001b[0m eta \u001b[36m-:--:--\u001b[0m\r\u001b[2K     \u001b[90m━━━━━━━━━━━━━━━━━━━━━━━━━━━━━━━━━━━━━━━━\u001b[0m \u001b[32m61.0/61.0 kB\u001b[0m \u001b[31m3.6 MB/s\u001b[0m eta \u001b[36m0:00:00\u001b[0m\n",
            "\u001b[2K   \u001b[90m━━━━━━━━━━━━━━━━━━━━━━━━━━━━━━━━━━━━━━━━\u001b[0m \u001b[32m242.5/242.5 kB\u001b[0m \u001b[31m10.3 MB/s\u001b[0m eta \u001b[36m0:00:00\u001b[0m\n",
            "\u001b[2K   \u001b[90m━━━━━━━━━━━━━━━━━━━━━━━━━━━━━━━━━━━━━━━━\u001b[0m \u001b[32m18.3/18.3 MB\u001b[0m \u001b[31m83.3 MB/s\u001b[0m eta \u001b[36m0:00:00\u001b[0m\n",
            "\u001b[?25h"
          ]
        }
      ]
    },
    {
      "cell_type": "code",
      "source": [
        "import tensorflow as tf\n",
        "import numpy as np\n",
        "from models.resnet56_baseline import build_resnet56"
      ],
      "metadata": {
        "id": "QcZN62SRv2HB"
      },
      "execution_count": 5,
      "outputs": []
    },
    {
      "cell_type": "code",
      "source": [
        "def compute_snip_scores(model, x_batch, y_batch, loss_fn=tf.keras.losses.SparseCategoricalCrossentropy()):\n",
        "    with tf.GradientTape() as tape:\n",
        "        preds = model(x_batch, training=True)\n",
        "        loss = loss_fn(y_batch, preds)\n",
        "\n",
        "    grads = tape.gradient(loss, model.trainable_variables)\n",
        "    snip_scores = [tf.abs(g * w) for g, w in zip(grads, model.trainable_variables) if g is not None]\n",
        "    return snip_scores"
      ],
      "metadata": {
        "id": "VbhBboqzv4J2"
      },
      "execution_count": 6,
      "outputs": []
    },
    {
      "cell_type": "code",
      "source": [
        "def snip_prune_model(model, snip_scores, sparsity):\n",
        "    all_scores = tf.concat([tf.reshape(score, [-1]) for score in snip_scores], axis=0)\n",
        "    k = int((1 - sparsity) * tf.size(all_scores).numpy())\n",
        "    threshold = tf.sort(all_scores, direction='DESCENDING')[k]\n",
        "\n",
        "    masks = [tf.cast(score >= threshold, tf.float32) for score in snip_scores]\n",
        "    pruned_weights = [w * m for w, m in zip(model.trainable_variables, masks)]\n",
        "\n",
        "    for var, pruned in zip(model.trainable_variables, pruned_weights):\n",
        "        var.assign(pruned)\n",
        "\n",
        "    return masks\n"
      ],
      "metadata": {
        "id": "YEZuEDwCv5px"
      },
      "execution_count": 7,
      "outputs": []
    },
    {
      "cell_type": "code",
      "source": [
        "def train_pruned_model(model, x_train, y_train, x_val, y_val, epochs=50, batch_size=128, save_path=\"snip_model.h5\"):\n",
        "    early_stop = tf.keras.callbacks.EarlyStopping(patience=5, restore_best_weights=True)\n",
        "    checkpoint = tf.keras.callbacks.ModelCheckpoint(save_path, save_best_only=True)\n",
        "\n",
        "    model.compile(optimizer='adam',\n",
        "                  loss='sparse_categorical_crossentropy',\n",
        "                  metrics=['accuracy'])\n",
        "\n",
        "    history = model.fit(x_train, y_train,\n",
        "                        validation_data=(x_val, y_val),\n",
        "                        epochs=epochs,\n",
        "                        batch_size=batch_size,\n",
        "                        callbacks=[early_stop, checkpoint],\n",
        "                        verbose=2)\n",
        "\n",
        "    return history\n"
      ],
      "metadata": {
        "id": "xJKVIkz5v7HA"
      },
      "execution_count": 8,
      "outputs": []
    },
    {
      "cell_type": "code",
      "source": [
        "# 1. Load dataset\n",
        "(x_train, y_train), (x_test, y_test) = tf.keras.datasets.cifar10.load_data()\n",
        "x_train, x_test = x_train / 255.0, x_test / 255.0\n",
        "\n",
        "# 2. Build your ResNet-56\n",
        "model = build_resnet56()  # Replace with your function\n",
        "\n",
        "# 3. Get SNIP scores from a small batch\n",
        "batch_x, batch_y = x_train[:512], y_train[:512]\n",
        "snip_scores = compute_snip_scores(model, batch_x, batch_y)\n",
        "\n",
        "# 4. Apply pruning with desired sparsity\n",
        "snip_prune_model(model, snip_scores, sparsity=0.5)\n",
        "\n",
        "# 5. Train pruned model\n",
        "history = train_pruned_model(model, x_train, y_train, x_test, y_test)\n"
      ],
      "metadata": {
        "colab": {
          "base_uri": "https://localhost:8080/"
        },
        "id": "AjfjSvklv82F",
        "outputId": "99632cfd-a319-44b0-a5b4-bf887d603300"
      },
      "execution_count": 9,
      "outputs": [
        {
          "output_type": "stream",
          "name": "stdout",
          "text": [
            "Downloading data from https://www.cs.toronto.edu/~kriz/cifar-10-python.tar.gz\n",
            "\u001b[1m170498071/170498071\u001b[0m \u001b[32m━━━━━━━━━━━━━━━━━━━━\u001b[0m\u001b[37m\u001b[0m \u001b[1m4s\u001b[0m 0us/step\n",
            "Epoch 1/50\n"
          ]
        },
        {
          "output_type": "stream",
          "name": "stderr",
          "text": [
            "WARNING:absl:You are saving your model as an HDF5 file via `model.save()` or `keras.saving.save_model(model)`. This file format is considered legacy. We recommend using instead the native Keras format, e.g. `model.save('my_model.keras')` or `keras.saving.save_model(model, 'my_model.keras')`. \n"
          ]
        },
        {
          "output_type": "stream",
          "name": "stdout",
          "text": [
            "391/391 - 101s - 259ms/step - accuracy: 0.4687 - loss: 1.4877 - val_accuracy: 0.4468 - val_loss: 1.7489\n",
            "Epoch 2/50\n"
          ]
        },
        {
          "output_type": "stream",
          "name": "stderr",
          "text": [
            "WARNING:absl:You are saving your model as an HDF5 file via `model.save()` or `keras.saving.save_model(model)`. This file format is considered legacy. We recommend using instead the native Keras format, e.g. `model.save('my_model.keras')` or `keras.saving.save_model(model, 'my_model.keras')`. \n"
          ]
        },
        {
          "output_type": "stream",
          "name": "stdout",
          "text": [
            "391/391 - 47s - 120ms/step - accuracy: 0.6298 - loss: 1.0386 - val_accuracy: 0.5198 - val_loss: 1.4935\n",
            "Epoch 3/50\n"
          ]
        },
        {
          "output_type": "stream",
          "name": "stderr",
          "text": [
            "WARNING:absl:You are saving your model as an HDF5 file via `model.save()` or `keras.saving.save_model(model)`. This file format is considered legacy. We recommend using instead the native Keras format, e.g. `model.save('my_model.keras')` or `keras.saving.save_model(model, 'my_model.keras')`. \n"
          ]
        },
        {
          "output_type": "stream",
          "name": "stdout",
          "text": [
            "391/391 - 40s - 103ms/step - accuracy: 0.7029 - loss: 0.8397 - val_accuracy: 0.6123 - val_loss: 1.1114\n",
            "Epoch 4/50\n"
          ]
        },
        {
          "output_type": "stream",
          "name": "stderr",
          "text": [
            "WARNING:absl:You are saving your model as an HDF5 file via `model.save()` or `keras.saving.save_model(model)`. This file format is considered legacy. We recommend using instead the native Keras format, e.g. `model.save('my_model.keras')` or `keras.saving.save_model(model, 'my_model.keras')`. \n"
          ]
        },
        {
          "output_type": "stream",
          "name": "stdout",
          "text": [
            "391/391 - 41s - 105ms/step - accuracy: 0.7521 - loss: 0.7007 - val_accuracy: 0.6833 - val_loss: 0.9335\n",
            "Epoch 5/50\n",
            "391/391 - 41s - 105ms/step - accuracy: 0.7889 - loss: 0.5994 - val_accuracy: 0.6213 - val_loss: 1.2115\n",
            "Epoch 6/50\n",
            "391/391 - 41s - 105ms/step - accuracy: 0.8203 - loss: 0.5113 - val_accuracy: 0.6118 - val_loss: 1.2621\n",
            "Epoch 7/50\n",
            "391/391 - 41s - 104ms/step - accuracy: 0.8462 - loss: 0.4381 - val_accuracy: 0.6774 - val_loss: 1.1848\n",
            "Epoch 8/50\n",
            "391/391 - 40s - 103ms/step - accuracy: 0.8703 - loss: 0.3687 - val_accuracy: 0.7000 - val_loss: 0.9911\n",
            "Epoch 9/50\n",
            "391/391 - 29s - 74ms/step - accuracy: 0.8896 - loss: 0.3087 - val_accuracy: 0.6997 - val_loss: 1.1888\n"
          ]
        }
      ]
    },
    {
      "cell_type": "code",
      "source": [
        "# 1. Load dataset\n",
        "(x_train, y_train), (x_test, y_test) = tf.keras.datasets.cifar10.load_data()\n",
        "x_train, x_test = x_train / 255.0, x_test / 255.0\n",
        "\n",
        "# 2. Build your ResNet-56\n",
        "model = build_resnet56()  # Replace with your function\n",
        "\n",
        "# 3. Get SNIP scores from a small batch\n",
        "batch_x, batch_y = x_train[:512], y_train[:512]\n",
        "snip_scores = compute_snip_scores(model, batch_x, batch_y)\n",
        "\n",
        "# 4. Apply pruning with desired sparsity\n",
        "snip_prune_model(model, snip_scores, sparsity=0.3)\n",
        "\n",
        "# 5. Train pruned model\n",
        "history = train_pruned_model(model, x_train, y_train, x_test, y_test)"
      ],
      "metadata": {
        "colab": {
          "base_uri": "https://localhost:8080/"
        },
        "id": "x2vj4u6iv-LO",
        "outputId": "46f1c50a-1cf8-43a4-d72f-ca6223afc75c"
      },
      "execution_count": 10,
      "outputs": [
        {
          "output_type": "stream",
          "name": "stdout",
          "text": [
            "Epoch 1/50\n"
          ]
        },
        {
          "output_type": "stream",
          "name": "stderr",
          "text": [
            "WARNING:absl:You are saving your model as an HDF5 file via `model.save()` or `keras.saving.save_model(model)`. This file format is considered legacy. We recommend using instead the native Keras format, e.g. `model.save('my_model.keras')` or `keras.saving.save_model(model, 'my_model.keras')`. \n"
          ]
        },
        {
          "output_type": "stream",
          "name": "stdout",
          "text": [
            "391/391 - 108s - 275ms/step - accuracy: 0.4593 - loss: 1.5328 - val_accuracy: 0.4845 - val_loss: 1.4763\n",
            "Epoch 2/50\n"
          ]
        },
        {
          "output_type": "stream",
          "name": "stderr",
          "text": [
            "WARNING:absl:You are saving your model as an HDF5 file via `model.save()` or `keras.saving.save_model(model)`. This file format is considered legacy. We recommend using instead the native Keras format, e.g. `model.save('my_model.keras')` or `keras.saving.save_model(model, 'my_model.keras')`. \n"
          ]
        },
        {
          "output_type": "stream",
          "name": "stdout",
          "text": [
            "391/391 - 47s - 120ms/step - accuracy: 0.6339 - loss: 1.0216 - val_accuracy: 0.5684 - val_loss: 1.2879\n",
            "Epoch 3/50\n",
            "391/391 - 30s - 78ms/step - accuracy: 0.7195 - loss: 0.7952 - val_accuracy: 0.5833 - val_loss: 1.4018\n",
            "Epoch 4/50\n",
            "391/391 - 39s - 101ms/step - accuracy: 0.7681 - loss: 0.6586 - val_accuracy: 0.5361 - val_loss: 1.6273\n",
            "Epoch 5/50\n"
          ]
        },
        {
          "output_type": "stream",
          "name": "stderr",
          "text": [
            "WARNING:absl:You are saving your model as an HDF5 file via `model.save()` or `keras.saving.save_model(model)`. This file format is considered legacy. We recommend using instead the native Keras format, e.g. `model.save('my_model.keras')` or `keras.saving.save_model(model, 'my_model.keras')`. \n"
          ]
        },
        {
          "output_type": "stream",
          "name": "stdout",
          "text": [
            "391/391 - 42s - 108ms/step - accuracy: 0.8064 - loss: 0.5533 - val_accuracy: 0.7403 - val_loss: 0.7618\n",
            "Epoch 6/50\n",
            "391/391 - 40s - 102ms/step - accuracy: 0.8329 - loss: 0.4760 - val_accuracy: 0.7096 - val_loss: 0.9423\n",
            "Epoch 7/50\n",
            "391/391 - 42s - 108ms/step - accuracy: 0.8534 - loss: 0.4119 - val_accuracy: 0.6797 - val_loss: 1.1364\n",
            "Epoch 8/50\n",
            "391/391 - 41s - 104ms/step - accuracy: 0.8810 - loss: 0.3400 - val_accuracy: 0.7174 - val_loss: 0.9654\n",
            "Epoch 9/50\n",
            "391/391 - 40s - 102ms/step - accuracy: 0.8964 - loss: 0.2906 - val_accuracy: 0.6505 - val_loss: 1.4389\n",
            "Epoch 10/50\n",
            "391/391 - 41s - 105ms/step - accuracy: 0.9159 - loss: 0.2351 - val_accuracy: 0.6534 - val_loss: 1.3954\n"
          ]
        }
      ]
    },
    {
      "cell_type": "code",
      "source": [
        "# 1. Load dataset\n",
        "(x_train, y_train), (x_test, y_test) = tf.keras.datasets.cifar10.load_data()\n",
        "x_train, x_test = x_train / 255.0, x_test / 255.0\n",
        "\n",
        "# 2. Build your ResNet-56\n",
        "model = build_resnet56()  # Replace with your function\n",
        "\n",
        "# 3. Get SNIP scores from a small batch\n",
        "batch_x, batch_y = x_train[:512], y_train[:512]\n",
        "snip_scores = compute_snip_scores(model, batch_x, batch_y)\n",
        "\n",
        "# 4. Apply pruning with desired sparsity\n",
        "snip_prune_model(model, snip_scores, sparsity=0.7)\n",
        "\n",
        "# 5. Train pruned model\n",
        "history = train_pruned_model(model, x_train, y_train, x_test, y_test)"
      ],
      "metadata": {
        "colab": {
          "base_uri": "https://localhost:8080/"
        },
        "id": "iEd33rwH02HL",
        "outputId": "9512c2f6-95df-4f60-ca2e-ca64250d7636"
      },
      "execution_count": 11,
      "outputs": [
        {
          "output_type": "stream",
          "name": "stdout",
          "text": [
            "Epoch 1/50\n"
          ]
        },
        {
          "output_type": "stream",
          "name": "stderr",
          "text": [
            "WARNING:absl:You are saving your model as an HDF5 file via `model.save()` or `keras.saving.save_model(model)`. This file format is considered legacy. We recommend using instead the native Keras format, e.g. `model.save('my_model.keras')` or `keras.saving.save_model(model, 'my_model.keras')`. \n"
          ]
        },
        {
          "output_type": "stream",
          "name": "stdout",
          "text": [
            "391/391 - 98s - 252ms/step - accuracy: 0.4757 - loss: 1.4870 - val_accuracy: 0.4880 - val_loss: 1.5281\n",
            "Epoch 2/50\n"
          ]
        },
        {
          "output_type": "stream",
          "name": "stderr",
          "text": [
            "WARNING:absl:You are saving your model as an HDF5 file via `model.save()` or `keras.saving.save_model(model)`. This file format is considered legacy. We recommend using instead the native Keras format, e.g. `model.save('my_model.keras')` or `keras.saving.save_model(model, 'my_model.keras')`. \n"
          ]
        },
        {
          "output_type": "stream",
          "name": "stdout",
          "text": [
            "391/391 - 51s - 129ms/step - accuracy: 0.6381 - loss: 1.0220 - val_accuracy: 0.5555 - val_loss: 1.2856\n",
            "Epoch 3/50\n"
          ]
        },
        {
          "output_type": "stream",
          "name": "stderr",
          "text": [
            "WARNING:absl:You are saving your model as an HDF5 file via `model.save()` or `keras.saving.save_model(model)`. This file format is considered legacy. We recommend using instead the native Keras format, e.g. `model.save('my_model.keras')` or `keras.saving.save_model(model, 'my_model.keras')`. \n"
          ]
        },
        {
          "output_type": "stream",
          "name": "stdout",
          "text": [
            "391/391 - 41s - 105ms/step - accuracy: 0.7093 - loss: 0.8243 - val_accuracy: 0.6108 - val_loss: 1.2367\n",
            "Epoch 4/50\n"
          ]
        },
        {
          "output_type": "stream",
          "name": "stderr",
          "text": [
            "WARNING:absl:You are saving your model as an HDF5 file via `model.save()` or `keras.saving.save_model(model)`. This file format is considered legacy. We recommend using instead the native Keras format, e.g. `model.save('my_model.keras')` or `keras.saving.save_model(model, 'my_model.keras')`. \n"
          ]
        },
        {
          "output_type": "stream",
          "name": "stdout",
          "text": [
            "391/391 - 40s - 102ms/step - accuracy: 0.7589 - loss: 0.6884 - val_accuracy: 0.6962 - val_loss: 0.8799\n",
            "Epoch 5/50\n",
            "391/391 - 29s - 74ms/step - accuracy: 0.7943 - loss: 0.5877 - val_accuracy: 0.6089 - val_loss: 1.3514\n",
            "Epoch 6/50\n",
            "391/391 - 42s - 107ms/step - accuracy: 0.8225 - loss: 0.5066 - val_accuracy: 0.6816 - val_loss: 1.0406\n",
            "Epoch 7/50\n",
            "391/391 - 29s - 74ms/step - accuracy: 0.8485 - loss: 0.4316 - val_accuracy: 0.6668 - val_loss: 1.2577\n",
            "Epoch 8/50\n",
            "391/391 - 41s - 104ms/step - accuracy: 0.8689 - loss: 0.3699 - val_accuracy: 0.6390 - val_loss: 1.4140\n",
            "Epoch 9/50\n",
            "391/391 - 42s - 106ms/step - accuracy: 0.8901 - loss: 0.3121 - val_accuracy: 0.7385 - val_loss: 0.9246\n"
          ]
        }
      ]
    },
    {
      "cell_type": "code",
      "source": [],
      "metadata": {
        "id": "m6W1hBbp1N_k"
      },
      "execution_count": null,
      "outputs": []
    }
  ]
}