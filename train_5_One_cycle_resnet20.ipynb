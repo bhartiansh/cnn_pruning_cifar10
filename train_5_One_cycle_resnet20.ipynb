{
 "cells": [
  {
   "cell_type": "code",
   "execution_count": 1,
   "id": "626aa994",
   "metadata": {},
   "outputs": [
    {
     "ename": "ModuleNotFoundError",
     "evalue": "No module named 'tensorflow.keras'",
     "output_type": "error",
     "traceback": [
      "\u001b[0;31m---------------------------------------------------------------------------\u001b[0m",
      "\u001b[0;31mModuleNotFoundError\u001b[0m                       Traceback (most recent call last)",
      "Cell \u001b[0;32mIn[1], line 3\u001b[0m\n\u001b[1;32m      1\u001b[0m \u001b[38;5;28;01mimport\u001b[39;00m \u001b[38;5;21;01mnumpy\u001b[39;00m \u001b[38;5;28;01mas\u001b[39;00m \u001b[38;5;21;01mnp\u001b[39;00m\n\u001b[1;32m      2\u001b[0m \u001b[38;5;28;01mimport\u001b[39;00m \u001b[38;5;21;01mtensorflow\u001b[39;00m \u001b[38;5;28;01mas\u001b[39;00m \u001b[38;5;21;01mtf\u001b[39;00m\n\u001b[0;32m----> 3\u001b[0m \u001b[38;5;28;01mfrom\u001b[39;00m \u001b[38;5;21;01mtensorflow\u001b[39;00m\u001b[38;5;21;01m.\u001b[39;00m\u001b[38;5;21;01mkeras\u001b[39;00m\u001b[38;5;21;01m.\u001b[39;00m\u001b[38;5;21;01mdatasets\u001b[39;00m \u001b[38;5;28;01mimport\u001b[39;00m cifar10\n\u001b[1;32m      4\u001b[0m \u001b[38;5;28;01mfrom\u001b[39;00m \u001b[38;5;21;01mtensorflow\u001b[39;00m\u001b[38;5;21;01m.\u001b[39;00m\u001b[38;5;21;01mkeras\u001b[39;00m\u001b[38;5;21;01m.\u001b[39;00m\u001b[38;5;21;01mutils\u001b[39;00m \u001b[38;5;28;01mimport\u001b[39;00m to_categorical\n\u001b[1;32m      5\u001b[0m \u001b[38;5;28;01mfrom\u001b[39;00m \u001b[38;5;21;01mtensorflow\u001b[39;00m\u001b[38;5;21;01m.\u001b[39;00m\u001b[38;5;21;01mkeras\u001b[39;00m\u001b[38;5;21;01m.\u001b[39;00m\u001b[38;5;21;01mcallbacks\u001b[39;00m \u001b[38;5;28;01mimport\u001b[39;00m LearningRateScheduler\n",
      "\u001b[0;31mModuleNotFoundError\u001b[0m: No module named 'tensorflow.keras'"
     ]
    }
   ],
   "source": [
    "import numpy as np\n",
    "import tensorflow as tf\n",
    "from tensorflow.keras.datasets import cifar10\n",
    "from tensorflow.keras.utils import to_categorical\n",
    "from tensorflow.keras.callbacks import LearningRateScheduler\n",
    "from models.resnet20 import resnet20  # Ensure this is available in your environment\n",
    "\n",
    "import os\n",
    "os.makedirs(\"models\", exist_ok=True)\n",
    "\n",
    "# -------------------------\n",
    "# One-Cycle Learning Rate Scheduler\n",
    "# -------------------------\n",
    "def one_cycle_lr_schedule(initial_lr, max_lr, cycle_length, step_size):\n",
    "    def lr_schedule(epoch):\n",
    "        cycle_epoch = epoch % cycle_length\n",
    "        if cycle_epoch < step_size:\n",
    "            return initial_lr + (max_lr - initial_lr) * (cycle_epoch / step_size)\n",
    "        else:\n",
    "            return max_lr - (max_lr - initial_lr) * ((cycle_epoch - step_size) / step_size)\n",
    "    return lr_schedule\n",
    "\n",
    "# -------------------------\n",
    "# One-Cycle Pruning (before training)\n",
    "# -------------------------\n",
    "def one_cycle_prune(model, sparsity):\n",
    "    for layer in model.layers:\n",
    "        if isinstance(layer, tf.keras.layers.Conv2D):\n",
    "            weights = layer.get_weights()\n",
    "            if len(weights) < 2:\n",
    "                continue  # skip if bias or weight is missing\n",
    "            kernel, bias = weights\n",
    "            abs_weight = np.abs(kernel)\n",
    "            threshold = np.percentile(abs_weight, sparsity * 100)\n",
    "            pruned_kernel = np.where(abs_weight < threshold, 0, kernel)\n",
    "            layer.set_weights([pruned_kernel, bias])\n",
    "    print(f\"✅ One-cycle pruning applied at sparsity {sparsity*100:.1f}%.\")\n",
    "\n",
    "# -------------------------\n",
    "# Train the Model\n",
    "# -------------------------\n",
    "def train_model(sparsity=0.5, batch_size=128, epochs=150):\n",
    "    # Load and preprocess CIFAR-10\n",
    "    (x_train, y_train), (x_test, y_test) = cifar10.load_data()\n",
    "    x_train, x_test = x_train / 255.0, x_test / 255.0\n",
    "    y_train, y_test = to_categorical(y_train, 10), to_categorical(y_test, 10)\n",
    "\n",
    "    # Load ResNet-20\n",
    "    model = resnet20()\n",
    "    model.build(input_shape=(None, 32, 32, 3))\n",
    "    model.summary()\n",
    "\n",
    "    # Prune before training\n",
    "    one_cycle_prune(model, sparsity)\n",
    "\n",
    "    # Learning rate schedule\n",
    "    step_size = epochs // 2\n",
    "    lr_schedule = one_cycle_lr_schedule(initial_lr=1e-6, max_lr=1e-2, cycle_length=epochs, step_size=step_size)\n",
    "    lr_scheduler = LearningRateScheduler(lr_schedule)\n",
    "\n",
    "    # Compile model\n",
    "    model.compile(optimizer=tf.keras.optimizers.Adam(),\n",
    "                  loss='categorical_crossentropy',\n",
    "                  metrics=['accuracy'])\n",
    "\n",
    "    # Train the model\n",
    "    history = model.fit(x_train, y_train,\n",
    "                        epochs=epochs,\n",
    "                        batch_size=batch_size,\n",
    "                        validation_data=(x_test, y_test),\n",
    "                        callbacks=[lr_scheduler])\n",
    "\n",
    "    # Save model\n",
    "    model.save(f'models/pruned_resnet20_onecycle_sparsity_{sparsity}.h5')\n",
    "    print(\"✅ Model saved.\")\n",
    "    return history"
   ]
  },
  {
   "cell_type": "code",
   "execution_count": null,
   "id": "a0355210",
   "metadata": {},
   "outputs": [],
   "source": [
    "history = train_model(sparsity=0.4, batch_size=64, epochs=100)"
   ]
  }
 ],
 "metadata": {
  "kernelspec": {
   "display_name": "base",
   "language": "python",
   "name": "python3"
  },
  "language_info": {
   "codemirror_mode": {
    "name": "ipython",
    "version": 3
   },
   "file_extension": ".py",
   "mimetype": "text/x-python",
   "name": "python",
   "nbconvert_exporter": "python",
   "pygments_lexer": "ipython3",
   "version": "3.12.2"
  }
 },
 "nbformat": 4,
 "nbformat_minor": 5
}
