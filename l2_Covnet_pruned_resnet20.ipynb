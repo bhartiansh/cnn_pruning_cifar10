{
  "nbformat": 4,
  "nbformat_minor": 0,
  "metadata": {
    "colab": {
      "provenance": [],
      "gpuType": "L4",
      "include_colab_link": true
    },
    "kernelspec": {
      "name": "python3",
      "display_name": "Python 3"
    },
    "language_info": {
      "name": "python"
    },
    "accelerator": "GPU"
  },
  "cells": [
    {
      "cell_type": "markdown",
      "metadata": {
        "id": "view-in-github",
        "colab_type": "text"
      },
      "source": [
        "<a href=\"https://colab.research.google.com/github/bhartiansh/cnn_pruning_cifar10/blob/main/l2_Covnet_pruned_resnet20.ipynb\" target=\"_parent\"><img src=\"https://colab.research.google.com/assets/colab-badge.svg\" alt=\"Open In Colab\"/></a>"
      ]
    },
    {
      "cell_type": "code",
      "execution_count": 1,
      "metadata": {
        "colab": {
          "base_uri": "https://localhost:8080/"
        },
        "id": "-gIWN9xW12pw",
        "outputId": "6e91877a-33e3-457e-be1d-3974b823e82f"
      },
      "outputs": [
        {
          "output_type": "stream",
          "name": "stdout",
          "text": [
            "fatal: destination path 'cnn_pruning_cifar10' already exists and is not an empty directory.\n",
            "/content/cnn_pruning_cifar10\n"
          ]
        }
      ],
      "source": [
        "!git clone https://github.com/bhartiansh/cnn_pruning_cifar10.git\n",
        "%cd cnn_pruning_cifar10\n",
        "\n",
        "!pip install -q tensorflow-model-optimization\n",
        "\n",
        "import tensorflow as tf\n",
        "import numpy as np\n",
        "from models.resnet20 import build_resnet20\n",
        "from tensorflow.keras.datasets import cifar10"
      ]
    },
    {
      "cell_type": "code",
      "source": [
        "def get_conv_layers(model):\n",
        "    return [layer for layer in model.layers if isinstance(layer, tf.keras.layers.Conv2D)]\n",
        "\n",
        "def compute_filter_saliency(model):\n",
        "    saliency = {}\n",
        "    for layer in get_conv_layers(model):\n",
        "        weights = layer.get_weights()[0]\n",
        "        l2_norms = np.linalg.norm(weights.reshape(-1, weights.shape[-1]), axis=0)\n",
        "        saliency[layer.name] = l2_norms\n",
        "    return saliency\n",
        "\n",
        "def prune_filters(model, saliency, sparsity):\n",
        "    for layer in get_conv_layers(model):\n",
        "        weights = layer.get_weights()\n",
        "        if not weights:\n",
        "            continue\n",
        "        kernel, *rest = weights\n",
        "        num_filters = kernel.shape[-1]\n",
        "        num_prune = int(sparsity * num_filters)\n",
        "        if num_prune == 0:\n",
        "            continue\n",
        "\n",
        "        l2_norms = saliency[layer.name]\n",
        "        prune_indices = np.argsort(l2_norms)[:num_prune]\n",
        "        kernel[..., prune_indices] = 0\n",
        "        if rest:\n",
        "            bias = rest[0]\n",
        "            bias[prune_indices] = 0\n",
        "            layer.set_weights([kernel, bias])\n",
        "        else:\n",
        "            layer.set_weights([kernel])\n",
        "\n",
        "def train_l2_pruned_resnet20(x_train, y_train, x_val, y_val,\n",
        "                              sparsity=0.3, pre_epochs=2, fine_tune_epochs=30, batch_size=64):\n",
        "    model = build_resnet20()\n",
        "\n",
        "    AUTOTUNE = tf.data.AUTOTUNE\n",
        "    train_ds = tf.data.Dataset.from_tensor_slices((x_train, y_train)).shuffle(50000).batch(batch_size).prefetch(AUTOTUNE)\n",
        "    val_ds = tf.data.Dataset.from_tensor_slices((x_val, y_val)).batch(batch_size).prefetch(AUTOTUNE)\n",
        "\n",
        "    model.compile(optimizer=tf.keras.optimizers.Adam(learning_rate=0.001),\n",
        "                  loss='sparse_categorical_crossentropy',\n",
        "                  metrics=['accuracy'])\n",
        "\n",
        "    model.fit(train_ds, epochs=pre_epochs, validation_data=val_ds, verbose=2)\n",
        "\n",
        "    saliency = compute_filter_saliency(model)\n",
        "    prune_filters(model, saliency, sparsity=sparsity)\n",
        "\n",
        "    model.compile(optimizer=tf.keras.optimizers.Adam(learning_rate=0.0005),\n",
        "                  loss='sparse_categorical_crossentropy',\n",
        "                  metrics=['accuracy'])\n",
        "\n",
        "    history = model.fit(train_ds, epochs=fine_tune_epochs, validation_data=val_ds, verbose=2)\n",
        "\n",
        "    return model, history"
      ],
      "metadata": {
        "id": "OsYSZcIR16bX"
      },
      "execution_count": 2,
      "outputs": []
    },
    {
      "cell_type": "markdown",
      "source": [],
      "metadata": {
        "id": "Cb6YW6FmU2pg"
      }
    },
    {
      "cell_type": "markdown",
      "source": [],
      "metadata": {
        "id": "WTaZm_goU2na"
      }
    },
    {
      "cell_type": "markdown",
      "source": [],
      "metadata": {
        "id": "9PmHLUZWU2kl"
      }
    },
    {
      "cell_type": "markdown",
      "source": [],
      "metadata": {
        "id": "nCBX0hxEU2iO"
      }
    },
    {
      "cell_type": "markdown",
      "source": [],
      "metadata": {
        "id": "-RH3Md70U2fm"
      }
    },
    {
      "cell_type": "markdown",
      "source": [],
      "metadata": {
        "id": "qvt6C9VPU2dA"
      }
    },
    {
      "cell_type": "markdown",
      "source": [],
      "metadata": {
        "id": "aGNKDw1_U2ar"
      }
    },
    {
      "cell_type": "code",
      "source": [
        "# Load CIFAR-10\n",
        "(x_train, y_train), (x_test, y_test) = tf.keras.datasets.cifar10.load_data()\n",
        "x_train, x_test = x_train / 255.0, x_test / 255.0\n",
        "\n",
        "# Run the training\n",
        "model, history = train_l2_pruned_resnet20(x_train, y_train, x_test, y_test, sparsity=0.3)"
      ],
      "metadata": {
        "colab": {
          "base_uri": "https://localhost:8080/"
        },
        "id": "s12isTlX223G",
        "outputId": "2ceac04f-d6b5-4c30-f59f-0a0686bebdc1"
      },
      "execution_count": 5,
      "outputs": [
        {
          "output_type": "stream",
          "name": "stdout",
          "text": [
            "Epoch 1/2\n",
            "782/782 - 60s - loss: 1.3278 - accuracy: 0.5168 - val_loss: 1.2876 - val_accuracy: 0.5637 - 60s/epoch - 77ms/step\n",
            "Epoch 2/2\n",
            "782/782 - 54s - loss: 0.9217 - accuracy: 0.6726 - val_loss: 1.0007 - val_accuracy: 0.6552 - 54s/epoch - 69ms/step\n",
            "Epoch 1/30\n",
            "782/782 - 60s - loss: 0.8181 - accuracy: 0.7119 - val_loss: 0.9076 - val_accuracy: 0.6927 - 60s/epoch - 77ms/step\n",
            "Epoch 2/30\n",
            "782/782 - 55s - loss: 0.6654 - accuracy: 0.7698 - val_loss: 0.7272 - val_accuracy: 0.7461 - 55s/epoch - 70ms/step\n",
            "Epoch 3/30\n",
            "782/782 - 54s - loss: 0.5871 - accuracy: 0.7963 - val_loss: 0.7485 - val_accuracy: 0.7414 - 54s/epoch - 70ms/step\n",
            "Epoch 4/30\n",
            "782/782 - 54s - loss: 0.5274 - accuracy: 0.8187 - val_loss: 0.7621 - val_accuracy: 0.7420 - 54s/epoch - 69ms/step\n",
            "Epoch 5/30\n",
            "782/782 - 55s - loss: 0.4779 - accuracy: 0.8359 - val_loss: 0.6856 - val_accuracy: 0.7693 - 55s/epoch - 70ms/step\n",
            "Epoch 6/30\n",
            "782/782 - 54s - loss: 0.4291 - accuracy: 0.8533 - val_loss: 0.7062 - val_accuracy: 0.7654 - 54s/epoch - 69ms/step\n",
            "Epoch 7/30\n",
            "782/782 - 54s - loss: 0.3949 - accuracy: 0.8633 - val_loss: 0.7198 - val_accuracy: 0.7586 - 54s/epoch - 69ms/step\n",
            "Epoch 8/30\n",
            "782/782 - 54s - loss: 0.3581 - accuracy: 0.8749 - val_loss: 0.6541 - val_accuracy: 0.7859 - 54s/epoch - 69ms/step\n",
            "Epoch 9/30\n",
            "782/782 - 54s - loss: 0.3244 - accuracy: 0.8863 - val_loss: 0.7259 - val_accuracy: 0.7705 - 54s/epoch - 69ms/step\n",
            "Epoch 10/30\n",
            "782/782 - 54s - loss: 0.2917 - accuracy: 0.8985 - val_loss: 0.7462 - val_accuracy: 0.7703 - 54s/epoch - 69ms/step\n",
            "Epoch 11/30\n",
            "782/782 - 54s - loss: 0.2596 - accuracy: 0.9097 - val_loss: 0.7568 - val_accuracy: 0.7703 - 54s/epoch - 69ms/step\n",
            "Epoch 12/30\n",
            "782/782 - 54s - loss: 0.2363 - accuracy: 0.9173 - val_loss: 0.7160 - val_accuracy: 0.7867 - 54s/epoch - 69ms/step\n",
            "Epoch 13/30\n",
            "782/782 - 54s - loss: 0.2097 - accuracy: 0.9278 - val_loss: 0.8225 - val_accuracy: 0.7623 - 54s/epoch - 69ms/step\n",
            "Epoch 14/30\n",
            "782/782 - 54s - loss: 0.1952 - accuracy: 0.9316 - val_loss: 0.9845 - val_accuracy: 0.7436 - 54s/epoch - 69ms/step\n",
            "Epoch 15/30\n",
            "782/782 - 54s - loss: 0.1724 - accuracy: 0.9386 - val_loss: 0.8567 - val_accuracy: 0.7729 - 54s/epoch - 69ms/step\n",
            "Epoch 16/30\n",
            "782/782 - 54s - loss: 0.1572 - accuracy: 0.9460 - val_loss: 1.0871 - val_accuracy: 0.7256 - 54s/epoch - 69ms/step\n",
            "Epoch 17/30\n",
            "782/782 - 54s - loss: 0.1435 - accuracy: 0.9510 - val_loss: 0.9728 - val_accuracy: 0.7458 - 54s/epoch - 69ms/step\n",
            "Epoch 18/30\n",
            "782/782 - 54s - loss: 0.1313 - accuracy: 0.9538 - val_loss: 0.9748 - val_accuracy: 0.7519 - 54s/epoch - 69ms/step\n",
            "Epoch 19/30\n",
            "782/782 - 54s - loss: 0.1244 - accuracy: 0.9571 - val_loss: 0.8723 - val_accuracy: 0.7773 - 54s/epoch - 69ms/step\n",
            "Epoch 20/30\n",
            "782/782 - 54s - loss: 0.1168 - accuracy: 0.9598 - val_loss: 0.9653 - val_accuracy: 0.7743 - 54s/epoch - 69ms/step\n",
            "Epoch 21/30\n",
            "782/782 - 54s - loss: 0.1097 - accuracy: 0.9610 - val_loss: 1.1608 - val_accuracy: 0.7278 - 54s/epoch - 69ms/step\n",
            "Epoch 22/30\n",
            "782/782 - 54s - loss: 0.1030 - accuracy: 0.9644 - val_loss: 1.1123 - val_accuracy: 0.7554 - 54s/epoch - 69ms/step\n",
            "Epoch 23/30\n",
            "782/782 - 54s - loss: 0.0994 - accuracy: 0.9658 - val_loss: 1.1451 - val_accuracy: 0.7474 - 54s/epoch - 70ms/step\n",
            "Epoch 24/30\n",
            "782/782 - 54s - loss: 0.0858 - accuracy: 0.9714 - val_loss: 1.0040 - val_accuracy: 0.7762 - 54s/epoch - 69ms/step\n",
            "Epoch 25/30\n",
            "782/782 - 55s - loss: 0.0949 - accuracy: 0.9659 - val_loss: 1.0311 - val_accuracy: 0.7723 - 55s/epoch - 70ms/step\n",
            "Epoch 26/30\n",
            "782/782 - 55s - loss: 0.0827 - accuracy: 0.9712 - val_loss: 1.1965 - val_accuracy: 0.7552 - 55s/epoch - 70ms/step\n",
            "Epoch 27/30\n",
            "782/782 - 55s - loss: 0.0797 - accuracy: 0.9724 - val_loss: 1.1004 - val_accuracy: 0.7717 - 55s/epoch - 70ms/step\n",
            "Epoch 28/30\n",
            "782/782 - 57s - loss: 0.0769 - accuracy: 0.9727 - val_loss: 1.1687 - val_accuracy: 0.7678 - 57s/epoch - 72ms/step\n",
            "Epoch 29/30\n",
            "782/782 - 55s - loss: 0.0767 - accuracy: 0.9737 - val_loss: 1.0278 - val_accuracy: 0.7827 - 55s/epoch - 70ms/step\n",
            "Epoch 30/30\n",
            "782/782 - 55s - loss: 0.0760 - accuracy: 0.9738 - val_loss: 1.1675 - val_accuracy: 0.7615 - 55s/epoch - 70ms/step\n"
          ]
        }
      ]
    },
    {
      "cell_type": "markdown",
      "source": [],
      "metadata": {
        "id": "RxdchW9UU5Yj"
      }
    },
    {
      "cell_type": "markdown",
      "source": [],
      "metadata": {
        "id": "L0nSwB5gU5WK"
      }
    },
    {
      "cell_type": "markdown",
      "source": [],
      "metadata": {
        "id": "AtO0wppAU5Tj"
      }
    },
    {
      "cell_type": "markdown",
      "source": [],
      "metadata": {
        "id": "l7WBv6hhU5Qs"
      }
    },
    {
      "cell_type": "markdown",
      "source": [],
      "metadata": {
        "id": "DR3r3OabU5OG"
      }
    },
    {
      "cell_type": "markdown",
      "source": [
        "\\\\\\"
      ],
      "metadata": {
        "id": "9PXu4wKfU4Wu"
      }
    },
    {
      "cell_type": "code",
      "source": [
        "# Load CIFAR-10\n",
        "(x_train, y_train), (x_test, y_test) = tf.keras.datasets.cifar10.load_data()\n",
        "x_train, x_test = x_train / 255.0, x_test / 255.0\n",
        "\n",
        "# Run the training\n",
        "model, history = train_l2_pruned_resnet20(x_train, y_train, x_test, y_test, sparsity=0.5)"
      ],
      "metadata": {
        "colab": {
          "base_uri": "https://localhost:8080/"
        },
        "id": "PPjWDy6OFjpV",
        "outputId": "662db254-ace5-43b5-947d-a6da27a082a6"
      },
      "execution_count": 4,
      "outputs": [
        {
          "output_type": "stream",
          "name": "stdout",
          "text": [
            "Epoch 1/2\n",
            "782/782 - 60s - loss: 1.3485 - accuracy: 0.5110 - val_loss: 1.2620 - val_accuracy: 0.5621 - 60s/epoch - 77ms/step\n",
            "Epoch 2/2\n",
            "782/782 - 54s - loss: 0.8967 - accuracy: 0.6811 - val_loss: 0.9870 - val_accuracy: 0.6525 - 54s/epoch - 69ms/step\n",
            "Epoch 1/30\n",
            "782/782 - 60s - loss: 1.0120 - accuracy: 0.6406 - val_loss: 0.9996 - val_accuracy: 0.6577 - 60s/epoch - 77ms/step\n",
            "Epoch 2/30\n",
            "782/782 - 54s - loss: 0.7458 - accuracy: 0.7376 - val_loss: 0.9640 - val_accuracy: 0.6851 - 54s/epoch - 69ms/step\n",
            "Epoch 3/30\n",
            "782/782 - 54s - loss: 0.6521 - accuracy: 0.7709 - val_loss: 0.7482 - val_accuracy: 0.7403 - 54s/epoch - 69ms/step\n",
            "Epoch 4/30\n",
            "782/782 - 54s - loss: 0.5885 - accuracy: 0.7967 - val_loss: 0.8579 - val_accuracy: 0.7160 - 54s/epoch - 69ms/step\n",
            "Epoch 5/30\n",
            "782/782 - 54s - loss: 0.5391 - accuracy: 0.8124 - val_loss: 0.8503 - val_accuracy: 0.7258 - 54s/epoch - 69ms/step\n",
            "Epoch 6/30\n",
            "782/782 - 54s - loss: 0.4968 - accuracy: 0.8262 - val_loss: 0.7078 - val_accuracy: 0.7638 - 54s/epoch - 69ms/step\n",
            "Epoch 7/30\n",
            "782/782 - 54s - loss: 0.4618 - accuracy: 0.8388 - val_loss: 0.6813 - val_accuracy: 0.7743 - 54s/epoch - 69ms/step\n",
            "Epoch 8/30\n",
            "782/782 - 54s - loss: 0.4274 - accuracy: 0.8505 - val_loss: 0.7517 - val_accuracy: 0.7500 - 54s/epoch - 69ms/step\n",
            "Epoch 9/30\n",
            "782/782 - 54s - loss: 0.3952 - accuracy: 0.8621 - val_loss: 0.7881 - val_accuracy: 0.7506 - 54s/epoch - 69ms/step\n",
            "Epoch 10/30\n",
            "782/782 - 54s - loss: 0.3668 - accuracy: 0.8713 - val_loss: 0.7196 - val_accuracy: 0.7702 - 54s/epoch - 69ms/step\n",
            "Epoch 11/30\n",
            "782/782 - 54s - loss: 0.3396 - accuracy: 0.8806 - val_loss: 0.6920 - val_accuracy: 0.7768 - 54s/epoch - 69ms/step\n",
            "Epoch 12/30\n",
            "782/782 - 54s - loss: 0.3164 - accuracy: 0.8900 - val_loss: 0.7570 - val_accuracy: 0.7706 - 54s/epoch - 69ms/step\n",
            "Epoch 13/30\n",
            "782/782 - 54s - loss: 0.2912 - accuracy: 0.8986 - val_loss: 0.8484 - val_accuracy: 0.7495 - 54s/epoch - 69ms/step\n",
            "Epoch 14/30\n",
            "782/782 - 54s - loss: 0.2683 - accuracy: 0.9064 - val_loss: 0.7280 - val_accuracy: 0.7823 - 54s/epoch - 69ms/step\n",
            "Epoch 15/30\n",
            "782/782 - 54s - loss: 0.2497 - accuracy: 0.9125 - val_loss: 0.7124 - val_accuracy: 0.7864 - 54s/epoch - 70ms/step\n",
            "Epoch 16/30\n",
            "782/782 - 54s - loss: 0.2355 - accuracy: 0.9179 - val_loss: 0.8313 - val_accuracy: 0.7613 - 54s/epoch - 69ms/step\n",
            "Epoch 17/30\n",
            "782/782 - 54s - loss: 0.2160 - accuracy: 0.9243 - val_loss: 0.7933 - val_accuracy: 0.7727 - 54s/epoch - 69ms/step\n",
            "Epoch 18/30\n",
            "782/782 - 54s - loss: 0.2018 - accuracy: 0.9303 - val_loss: 1.0165 - val_accuracy: 0.7387 - 54s/epoch - 69ms/step\n",
            "Epoch 19/30\n",
            "782/782 - 54s - loss: 0.1842 - accuracy: 0.9367 - val_loss: 0.8523 - val_accuracy: 0.7719 - 54s/epoch - 68ms/step\n",
            "Epoch 20/30\n",
            "782/782 - 54s - loss: 0.1722 - accuracy: 0.9398 - val_loss: 0.9083 - val_accuracy: 0.7611 - 54s/epoch - 69ms/step\n",
            "Epoch 21/30\n",
            "782/782 - 54s - loss: 0.1621 - accuracy: 0.9448 - val_loss: 0.8798 - val_accuracy: 0.7648 - 54s/epoch - 69ms/step\n",
            "Epoch 22/30\n",
            "782/782 - 54s - loss: 0.1553 - accuracy: 0.9461 - val_loss: 0.9690 - val_accuracy: 0.7623 - 54s/epoch - 68ms/step\n",
            "Epoch 23/30\n",
            "782/782 - 54s - loss: 0.1377 - accuracy: 0.9524 - val_loss: 0.9538 - val_accuracy: 0.7626 - 54s/epoch - 69ms/step\n",
            "Epoch 24/30\n",
            "782/782 - 54s - loss: 0.1373 - accuracy: 0.9526 - val_loss: 0.9160 - val_accuracy: 0.7719 - 54s/epoch - 69ms/step\n",
            "Epoch 25/30\n",
            "782/782 - 54s - loss: 0.1260 - accuracy: 0.9562 - val_loss: 0.9559 - val_accuracy: 0.7711 - 54s/epoch - 69ms/step\n",
            "Epoch 26/30\n",
            "782/782 - 54s - loss: 0.1265 - accuracy: 0.9555 - val_loss: 0.8861 - val_accuracy: 0.7809 - 54s/epoch - 69ms/step\n",
            "Epoch 27/30\n",
            "782/782 - 54s - loss: 0.1120 - accuracy: 0.9612 - val_loss: 1.0659 - val_accuracy: 0.7724 - 54s/epoch - 69ms/step\n",
            "Epoch 28/30\n",
            "782/782 - 54s - loss: 0.1049 - accuracy: 0.9630 - val_loss: 1.1337 - val_accuracy: 0.7616 - 54s/epoch - 68ms/step\n",
            "Epoch 29/30\n",
            "782/782 - 54s - loss: 0.1073 - accuracy: 0.9617 - val_loss: 1.0935 - val_accuracy: 0.7619 - 54s/epoch - 69ms/step\n",
            "Epoch 30/30\n",
            "782/782 - 54s - loss: 0.1007 - accuracy: 0.9652 - val_loss: 1.0240 - val_accuracy: 0.7714 - 54s/epoch - 69ms/step\n"
          ]
        }
      ]
    },
    {
      "cell_type": "markdown",
      "source": [],
      "metadata": {
        "id": "__pK1eIiU6vv"
      }
    },
    {
      "cell_type": "markdown",
      "source": [],
      "metadata": {
        "id": "oN9zVN29U6tZ"
      }
    },
    {
      "cell_type": "markdown",
      "source": [],
      "metadata": {
        "id": "vgETKSyZU6qy"
      }
    },
    {
      "cell_type": "markdown",
      "source": [],
      "metadata": {
        "id": "jpJj3P5MU6oI"
      }
    },
    {
      "cell_type": "markdown",
      "source": [],
      "metadata": {
        "id": "UFPC7aBZU6JC"
      }
    },
    {
      "cell_type": "code",
      "source": [
        "# Load CIFAR-10\n",
        "(x_train, y_train), (x_test, y_test) = tf.keras.datasets.cifar10.load_data()\n",
        "x_train, x_test = x_train / 255.0, x_test / 255.0\n",
        "\n",
        "# Run the training\n",
        "model, history = train_l2_pruned_resnet20(x_train, y_train, x_test, y_test, sparsity=0.7)"
      ],
      "metadata": {
        "colab": {
          "base_uri": "https://localhost:8080/"
        },
        "id": "kLzn8w3_Flu0",
        "outputId": "07ced33f-a80e-4269-d911-125ef2299156"
      },
      "execution_count": 3,
      "outputs": [
        {
          "output_type": "stream",
          "name": "stdout",
          "text": [
            "Downloading data from https://www.cs.toronto.edu/~kriz/cifar-10-python.tar.gz\n",
            "170498071/170498071 [==============================] - 13s 0us/step\n",
            "Epoch 1/2\n",
            "782/782 - 60s - loss: 1.3817 - accuracy: 0.4985 - val_loss: 1.2794 - val_accuracy: 0.5456 - 60s/epoch - 77ms/step\n",
            "Epoch 2/2\n",
            "782/782 - 54s - loss: 0.9219 - accuracy: 0.6708 - val_loss: 0.9505 - val_accuracy: 0.6750 - 54s/epoch - 69ms/step\n",
            "Epoch 1/30\n",
            "782/782 - 60s - loss: 1.3532 - accuracy: 0.5085 - val_loss: 1.3905 - val_accuracy: 0.5233 - 60s/epoch - 77ms/step\n",
            "Epoch 2/30\n",
            "782/782 - 54s - loss: 1.0367 - accuracy: 0.6289 - val_loss: 1.1031 - val_accuracy: 0.6094 - 54s/epoch - 69ms/step\n",
            "Epoch 3/30\n",
            "782/782 - 54s - loss: 0.9121 - accuracy: 0.6773 - val_loss: 1.0640 - val_accuracy: 0.6354 - 54s/epoch - 69ms/step\n",
            "Epoch 4/30\n",
            "782/782 - 54s - loss: 0.8193 - accuracy: 0.7141 - val_loss: 1.0287 - val_accuracy: 0.6565 - 54s/epoch - 69ms/step\n",
            "Epoch 5/30\n",
            "782/782 - 54s - loss: 0.7520 - accuracy: 0.7381 - val_loss: 1.4155 - val_accuracy: 0.5759 - 54s/epoch - 69ms/step\n",
            "Epoch 6/30\n",
            "782/782 - 54s - loss: 0.7017 - accuracy: 0.7563 - val_loss: 1.0621 - val_accuracy: 0.6625 - 54s/epoch - 69ms/step\n",
            "Epoch 7/30\n",
            "782/782 - 54s - loss: 0.6579 - accuracy: 0.7706 - val_loss: 0.8416 - val_accuracy: 0.7153 - 54s/epoch - 69ms/step\n",
            "Epoch 8/30\n",
            "782/782 - 55s - loss: 0.6224 - accuracy: 0.7842 - val_loss: 0.8476 - val_accuracy: 0.7159 - 55s/epoch - 70ms/step\n",
            "Epoch 9/30\n",
            "782/782 - 54s - loss: 0.5939 - accuracy: 0.7929 - val_loss: 0.8452 - val_accuracy: 0.7168 - 54s/epoch - 69ms/step\n",
            "Epoch 10/30\n",
            "782/782 - 54s - loss: 0.5682 - accuracy: 0.8003 - val_loss: 0.8537 - val_accuracy: 0.7192 - 54s/epoch - 69ms/step\n",
            "Epoch 11/30\n",
            "782/782 - 54s - loss: 0.5392 - accuracy: 0.8130 - val_loss: 0.8179 - val_accuracy: 0.7264 - 54s/epoch - 69ms/step\n",
            "Epoch 12/30\n",
            "782/782 - 54s - loss: 0.5149 - accuracy: 0.8210 - val_loss: 0.8593 - val_accuracy: 0.7182 - 54s/epoch - 69ms/step\n",
            "Epoch 13/30\n",
            "782/782 - 54s - loss: 0.4941 - accuracy: 0.8285 - val_loss: 0.8131 - val_accuracy: 0.7320 - 54s/epoch - 69ms/step\n",
            "Epoch 14/30\n",
            "782/782 - 53s - loss: 0.4750 - accuracy: 0.8335 - val_loss: 0.7736 - val_accuracy: 0.7419 - 53s/epoch - 68ms/step\n",
            "Epoch 15/30\n",
            "782/782 - 54s - loss: 0.4496 - accuracy: 0.8436 - val_loss: 0.7250 - val_accuracy: 0.7590 - 54s/epoch - 69ms/step\n",
            "Epoch 16/30\n",
            "782/782 - 54s - loss: 0.4334 - accuracy: 0.8481 - val_loss: 0.8688 - val_accuracy: 0.7333 - 54s/epoch - 69ms/step\n",
            "Epoch 17/30\n",
            "782/782 - 54s - loss: 0.4164 - accuracy: 0.8557 - val_loss: 0.9141 - val_accuracy: 0.7226 - 54s/epoch - 68ms/step\n",
            "Epoch 18/30\n",
            "782/782 - 54s - loss: 0.3964 - accuracy: 0.8621 - val_loss: 0.8399 - val_accuracy: 0.7348 - 54s/epoch - 69ms/step\n",
            "Epoch 19/30\n",
            "782/782 - 54s - loss: 0.3831 - accuracy: 0.8661 - val_loss: 0.8057 - val_accuracy: 0.7490 - 54s/epoch - 69ms/step\n",
            "Epoch 20/30\n",
            "782/782 - 54s - loss: 0.3672 - accuracy: 0.8717 - val_loss: 0.7864 - val_accuracy: 0.7523 - 54s/epoch - 69ms/step\n",
            "Epoch 21/30\n",
            "782/782 - 54s - loss: 0.3508 - accuracy: 0.8759 - val_loss: 0.8917 - val_accuracy: 0.7290 - 54s/epoch - 69ms/step\n",
            "Epoch 22/30\n",
            "782/782 - 54s - loss: 0.3397 - accuracy: 0.8810 - val_loss: 0.8954 - val_accuracy: 0.7293 - 54s/epoch - 69ms/step\n",
            "Epoch 23/30\n",
            "782/782 - 54s - loss: 0.3240 - accuracy: 0.8862 - val_loss: 0.9317 - val_accuracy: 0.7286 - 54s/epoch - 69ms/step\n",
            "Epoch 24/30\n",
            "782/782 - 54s - loss: 0.3161 - accuracy: 0.8879 - val_loss: 1.2760 - val_accuracy: 0.6817 - 54s/epoch - 70ms/step\n",
            "Epoch 25/30\n",
            "782/782 - 54s - loss: 0.3014 - accuracy: 0.8947 - val_loss: 1.0115 - val_accuracy: 0.7103 - 54s/epoch - 69ms/step\n",
            "Epoch 26/30\n",
            "782/782 - 54s - loss: 0.2907 - accuracy: 0.8974 - val_loss: 0.8664 - val_accuracy: 0.7530 - 54s/epoch - 69ms/step\n",
            "Epoch 27/30\n",
            "782/782 - 54s - loss: 0.2794 - accuracy: 0.9012 - val_loss: 0.7926 - val_accuracy: 0.7616 - 54s/epoch - 69ms/step\n",
            "Epoch 28/30\n",
            "782/782 - 54s - loss: 0.2664 - accuracy: 0.9073 - val_loss: 0.8754 - val_accuracy: 0.7536 - 54s/epoch - 69ms/step\n",
            "Epoch 29/30\n",
            "782/782 - 54s - loss: 0.2616 - accuracy: 0.9075 - val_loss: 0.8813 - val_accuracy: 0.7497 - 54s/epoch - 69ms/step\n",
            "Epoch 30/30\n",
            "782/782 - 54s - loss: 0.2525 - accuracy: 0.9106 - val_loss: 0.8821 - val_accuracy: 0.7599 - 54s/epoch - 69ms/step\n"
          ]
        }
      ]
    },
    {
      "cell_type": "markdown",
      "source": [],
      "metadata": {
        "id": "hG9Xso6h2BY4"
      }
    },
    {
      "cell_type": "markdown",
      "source": [],
      "metadata": {
        "id": "tr59lTfW2BWi"
      }
    },
    {
      "cell_type": "markdown",
      "source": [],
      "metadata": {
        "id": "hgmWfoxH2BTw"
      }
    },
    {
      "cell_type": "markdown",
      "source": [],
      "metadata": {
        "id": "ecYjM5tC2BRD"
      }
    },
    {
      "cell_type": "markdown",
      "source": [],
      "metadata": {
        "id": "KuCq7y0w2BOd"
      }
    },
    {
      "cell_type": "markdown",
      "source": [],
      "metadata": {
        "id": "5cKQYs-T2BMI"
      }
    },
    {
      "cell_type": "markdown",
      "source": [],
      "metadata": {
        "id": "K9qbwK6y2BJQ"
      }
    },
    {
      "cell_type": "markdown",
      "source": [],
      "metadata": {
        "id": "WtHTkRt02BGe"
      }
    },
    {
      "cell_type": "markdown",
      "source": [],
      "metadata": {
        "id": "MnKg-bpU2BEC"
      }
    },
    {
      "cell_type": "markdown",
      "source": [],
      "metadata": {
        "id": "DCbuj4rF2BBc"
      }
    },
    {
      "cell_type": "markdown",
      "source": [],
      "metadata": {
        "id": "ZRnlxlp_2A-2"
      }
    },
    {
      "cell_type": "markdown",
      "source": [],
      "metadata": {
        "id": "TcWBeUaO2A7M"
      }
    },
    {
      "cell_type": "markdown",
      "source": [],
      "metadata": {
        "id": "QtDLbSBl2A4l"
      }
    },
    {
      "cell_type": "markdown",
      "source": [],
      "metadata": {
        "id": "ePTKIIJQ2A2D"
      }
    },
    {
      "cell_type": "code",
      "source": [
        "# 1. Force compatible versions (reset everything to Colab defaults)\n",
        "!pip install -U --force-reinstall numpy==1.23.5\n",
        "!pip install -U --force-reinstall tensorflow==2.14.0\n",
        "!pip install -U tensorflow-model-optimization\n",
        "\n",
        "# 2. Restart runtime automatically after install\n",
        "import os\n",
        "os.kill(os.getpid(), 9)"
      ],
      "metadata": {
        "colab": {
          "base_uri": "https://localhost:8080/",
          "height": 1000
        },
        "id": "ksk2gUGb1-fv",
        "outputId": "05c1e8d5-5619-4e77-ead7-d2ea4f7ea87c"
      },
      "execution_count": null,
      "outputs": [
        {
          "output_type": "stream",
          "name": "stdout",
          "text": [
            "Collecting numpy==1.23.5\n",
            "  Downloading numpy-1.23.5-cp311-cp311-manylinux_2_17_x86_64.manylinux2014_x86_64.whl.metadata (2.3 kB)\n",
            "Downloading numpy-1.23.5-cp311-cp311-manylinux_2_17_x86_64.manylinux2014_x86_64.whl (17.1 MB)\n",
            "\u001b[2K   \u001b[90m━━━━━━━━━━━━━━━━━━━━━━━━━━━━━━━━━━━━━━━━\u001b[0m \u001b[32m17.1/17.1 MB\u001b[0m \u001b[31m101.8 MB/s\u001b[0m eta \u001b[36m0:00:00\u001b[0m\n",
            "\u001b[?25hInstalling collected packages: numpy\n",
            "  Attempting uninstall: numpy\n",
            "    Found existing installation: numpy 1.26.4\n",
            "    Uninstalling numpy-1.26.4:\n",
            "      Successfully uninstalled numpy-1.26.4\n",
            "\u001b[31mERROR: pip's dependency resolver does not currently take into account all the packages that are installed. This behaviour is the source of the following dependency conflicts.\n",
            "pymc 5.21.2 requires numpy>=1.25.0, but you have numpy 1.23.5 which is incompatible.\n",
            "tensorflow 2.18.0 requires numpy<2.1.0,>=1.26.0, but you have numpy 1.23.5 which is incompatible.\n",
            "blosc2 3.3.0 requires numpy>=1.26, but you have numpy 1.23.5 which is incompatible.\n",
            "jax 0.5.2 requires numpy>=1.25, but you have numpy 1.23.5 which is incompatible.\n",
            "treescope 0.1.9 requires numpy>=1.25.2, but you have numpy 1.23.5 which is incompatible.\n",
            "scikit-image 0.25.2 requires numpy>=1.24, but you have numpy 1.23.5 which is incompatible.\n",
            "albumentations 2.0.5 requires numpy>=1.24.4, but you have numpy 1.23.5 which is incompatible.\n",
            "bigframes 1.42.0 requires numpy>=1.24.0, but you have numpy 1.23.5 which is incompatible.\n",
            "xarray 2025.1.2 requires numpy>=1.24, but you have numpy 1.23.5 which is incompatible.\n",
            "albucore 0.0.23 requires numpy>=1.24.4, but you have numpy 1.23.5 which is incompatible.\n",
            "imbalanced-learn 0.13.0 requires numpy<3,>=1.24.3, but you have numpy 1.23.5 which is incompatible.\n",
            "jaxlib 0.5.1 requires numpy>=1.25, but you have numpy 1.23.5 which is incompatible.\n",
            "chex 0.1.89 requires numpy>=1.24.1, but you have numpy 1.23.5 which is incompatible.\n",
            "thinc 8.3.6 requires numpy<3.0.0,>=2.0.0, but you have numpy 1.23.5 which is incompatible.\u001b[0m\u001b[31m\n",
            "\u001b[0mSuccessfully installed numpy-1.23.5\n"
          ]
        },
        {
          "output_type": "display_data",
          "data": {
            "application/vnd.colab-display-data+json": {
              "pip_warning": {
                "packages": [
                  "numpy"
                ]
              },
              "id": "24813af935cb48ebaa4bdc4e07491ee4"
            }
          },
          "metadata": {}
        },
        {
          "output_type": "stream",
          "name": "stdout",
          "text": [
            "Collecting tensorflow==2.14.0\n",
            "  Downloading tensorflow-2.14.0-cp311-cp311-manylinux_2_17_x86_64.manylinux2014_x86_64.whl.metadata (4.1 kB)\n",
            "Collecting absl-py>=1.0.0 (from tensorflow==2.14.0)\n",
            "  Downloading absl_py-2.2.2-py3-none-any.whl.metadata (2.6 kB)\n",
            "Collecting astunparse>=1.6.0 (from tensorflow==2.14.0)\n",
            "  Downloading astunparse-1.6.3-py2.py3-none-any.whl.metadata (4.4 kB)\n",
            "Collecting flatbuffers>=23.5.26 (from tensorflow==2.14.0)\n",
            "  Downloading flatbuffers-25.2.10-py2.py3-none-any.whl.metadata (875 bytes)\n",
            "Collecting gast!=0.5.0,!=0.5.1,!=0.5.2,>=0.2.1 (from tensorflow==2.14.0)\n",
            "  Downloading gast-0.6.0-py3-none-any.whl.metadata (1.3 kB)\n",
            "Collecting google-pasta>=0.1.1 (from tensorflow==2.14.0)\n",
            "  Downloading google_pasta-0.2.0-py3-none-any.whl.metadata (814 bytes)\n",
            "Collecting h5py>=2.9.0 (from tensorflow==2.14.0)\n",
            "  Downloading h5py-3.13.0-cp311-cp311-manylinux_2_17_x86_64.manylinux2014_x86_64.whl.metadata (2.5 kB)\n",
            "Collecting libclang>=13.0.0 (from tensorflow==2.14.0)\n",
            "  Downloading libclang-18.1.1-py2.py3-none-manylinux2010_x86_64.whl.metadata (5.2 kB)\n",
            "Collecting ml-dtypes==0.2.0 (from tensorflow==2.14.0)\n",
            "  Downloading ml_dtypes-0.2.0-cp311-cp311-manylinux_2_17_x86_64.manylinux2014_x86_64.whl.metadata (20 kB)\n",
            "Collecting numpy>=1.23.5 (from tensorflow==2.14.0)\n",
            "  Downloading numpy-2.2.4-cp311-cp311-manylinux_2_17_x86_64.manylinux2014_x86_64.whl.metadata (62 kB)\n",
            "\u001b[2K     \u001b[90m━━━━━━━━━━━━━━━━━━━━━━━━━━━━━━━━━━━━━━━━\u001b[0m \u001b[32m62.0/62.0 kB\u001b[0m \u001b[31m6.4 MB/s\u001b[0m eta \u001b[36m0:00:00\u001b[0m\n",
            "\u001b[?25hCollecting opt-einsum>=2.3.2 (from tensorflow==2.14.0)\n",
            "  Downloading opt_einsum-3.4.0-py3-none-any.whl.metadata (6.3 kB)\n",
            "Collecting packaging (from tensorflow==2.14.0)\n",
            "  Downloading packaging-24.2-py3-none-any.whl.metadata (3.2 kB)\n",
            "Collecting protobuf!=4.21.0,!=4.21.1,!=4.21.2,!=4.21.3,!=4.21.4,!=4.21.5,<5.0.0dev,>=3.20.3 (from tensorflow==2.14.0)\n",
            "  Downloading protobuf-4.25.6-cp37-abi3-manylinux2014_x86_64.whl.metadata (541 bytes)\n",
            "Collecting setuptools (from tensorflow==2.14.0)\n",
            "  Downloading setuptools-78.1.0-py3-none-any.whl.metadata (6.6 kB)\n",
            "Collecting six>=1.12.0 (from tensorflow==2.14.0)\n",
            "  Downloading six-1.17.0-py2.py3-none-any.whl.metadata (1.7 kB)\n",
            "Collecting termcolor>=1.1.0 (from tensorflow==2.14.0)\n",
            "  Downloading termcolor-3.0.1-py3-none-any.whl.metadata (6.1 kB)\n",
            "Collecting typing-extensions>=3.6.6 (from tensorflow==2.14.0)\n",
            "  Downloading typing_extensions-4.13.2-py3-none-any.whl.metadata (3.0 kB)\n",
            "Collecting wrapt<1.15,>=1.11.0 (from tensorflow==2.14.0)\n",
            "  Downloading wrapt-1.14.1-cp311-cp311-manylinux_2_5_x86_64.manylinux1_x86_64.manylinux_2_17_x86_64.manylinux2014_x86_64.whl.metadata (6.7 kB)\n",
            "Collecting tensorflow-io-gcs-filesystem>=0.23.1 (from tensorflow==2.14.0)\n",
            "  Downloading tensorflow_io_gcs_filesystem-0.37.1-cp311-cp311-manylinux_2_17_x86_64.manylinux2014_x86_64.whl.metadata (14 kB)\n",
            "Collecting grpcio<2.0,>=1.24.3 (from tensorflow==2.14.0)\n",
            "  Downloading grpcio-1.71.0-cp311-cp311-manylinux_2_17_x86_64.manylinux2014_x86_64.whl.metadata (3.8 kB)\n",
            "Collecting tensorboard<2.15,>=2.14 (from tensorflow==2.14.0)\n",
            "  Downloading tensorboard-2.14.1-py3-none-any.whl.metadata (1.7 kB)\n",
            "Collecting tensorflow-estimator<2.15,>=2.14.0 (from tensorflow==2.14.0)\n",
            "  Downloading tensorflow_estimator-2.14.0-py2.py3-none-any.whl.metadata (1.3 kB)\n",
            "Collecting keras<2.15,>=2.14.0 (from tensorflow==2.14.0)\n",
            "  Downloading keras-2.14.0-py3-none-any.whl.metadata (2.4 kB)\n",
            "Collecting wheel<1.0,>=0.23.0 (from astunparse>=1.6.0->tensorflow==2.14.0)\n",
            "  Downloading wheel-0.45.1-py3-none-any.whl.metadata (2.3 kB)\n",
            "Collecting google-auth<3,>=1.6.3 (from tensorboard<2.15,>=2.14->tensorflow==2.14.0)\n",
            "  Downloading google_auth-2.39.0-py2.py3-none-any.whl.metadata (6.2 kB)\n",
            "Collecting google-auth-oauthlib<1.1,>=0.5 (from tensorboard<2.15,>=2.14->tensorflow==2.14.0)\n",
            "  Downloading google_auth_oauthlib-1.0.0-py2.py3-none-any.whl.metadata (2.7 kB)\n",
            "Collecting markdown>=2.6.8 (from tensorboard<2.15,>=2.14->tensorflow==2.14.0)\n",
            "  Downloading markdown-3.8-py3-none-any.whl.metadata (5.1 kB)\n",
            "Collecting requests<3,>=2.21.0 (from tensorboard<2.15,>=2.14->tensorflow==2.14.0)\n",
            "  Downloading requests-2.32.3-py3-none-any.whl.metadata (4.6 kB)\n",
            "Collecting tensorboard-data-server<0.8.0,>=0.7.0 (from tensorboard<2.15,>=2.14->tensorflow==2.14.0)\n",
            "  Downloading tensorboard_data_server-0.7.2-py3-none-manylinux_2_31_x86_64.whl.metadata (1.1 kB)\n",
            "Collecting werkzeug>=1.0.1 (from tensorboard<2.15,>=2.14->tensorflow==2.14.0)\n",
            "  Downloading werkzeug-3.1.3-py3-none-any.whl.metadata (3.7 kB)\n",
            "Collecting cachetools<6.0,>=2.0.0 (from google-auth<3,>=1.6.3->tensorboard<2.15,>=2.14->tensorflow==2.14.0)\n",
            "  Downloading cachetools-5.5.2-py3-none-any.whl.metadata (5.4 kB)\n",
            "Collecting pyasn1-modules>=0.2.1 (from google-auth<3,>=1.6.3->tensorboard<2.15,>=2.14->tensorflow==2.14.0)\n",
            "  Downloading pyasn1_modules-0.4.2-py3-none-any.whl.metadata (3.5 kB)\n",
            "Collecting rsa<5,>=3.1.4 (from google-auth<3,>=1.6.3->tensorboard<2.15,>=2.14->tensorflow==2.14.0)\n",
            "  Downloading rsa-4.9.1-py3-none-any.whl.metadata (5.6 kB)\n",
            "Collecting requests-oauthlib>=0.7.0 (from google-auth-oauthlib<1.1,>=0.5->tensorboard<2.15,>=2.14->tensorflow==2.14.0)\n",
            "  Downloading requests_oauthlib-2.0.0-py2.py3-none-any.whl.metadata (11 kB)\n",
            "Collecting charset-normalizer<4,>=2 (from requests<3,>=2.21.0->tensorboard<2.15,>=2.14->tensorflow==2.14.0)\n",
            "  Downloading charset_normalizer-3.4.1-cp311-cp311-manylinux_2_17_x86_64.manylinux2014_x86_64.whl.metadata (35 kB)\n",
            "Collecting idna<4,>=2.5 (from requests<3,>=2.21.0->tensorboard<2.15,>=2.14->tensorflow==2.14.0)\n",
            "  Downloading idna-3.10-py3-none-any.whl.metadata (10 kB)\n",
            "Collecting urllib3<3,>=1.21.1 (from requests<3,>=2.21.0->tensorboard<2.15,>=2.14->tensorflow==2.14.0)\n",
            "  Downloading urllib3-2.4.0-py3-none-any.whl.metadata (6.5 kB)\n",
            "Collecting certifi>=2017.4.17 (from requests<3,>=2.21.0->tensorboard<2.15,>=2.14->tensorflow==2.14.0)\n",
            "  Downloading certifi-2025.1.31-py3-none-any.whl.metadata (2.5 kB)\n",
            "Collecting MarkupSafe>=2.1.1 (from werkzeug>=1.0.1->tensorboard<2.15,>=2.14->tensorflow==2.14.0)\n",
            "  Downloading MarkupSafe-3.0.2-cp311-cp311-manylinux_2_17_x86_64.manylinux2014_x86_64.whl.metadata (4.0 kB)\n",
            "Collecting pyasn1<0.7.0,>=0.6.1 (from pyasn1-modules>=0.2.1->google-auth<3,>=1.6.3->tensorboard<2.15,>=2.14->tensorflow==2.14.0)\n",
            "  Downloading pyasn1-0.6.1-py3-none-any.whl.metadata (8.4 kB)\n",
            "Collecting oauthlib>=3.0.0 (from requests-oauthlib>=0.7.0->google-auth-oauthlib<1.1,>=0.5->tensorboard<2.15,>=2.14->tensorflow==2.14.0)\n",
            "  Downloading oauthlib-3.2.2-py3-none-any.whl.metadata (7.5 kB)\n",
            "Downloading tensorflow-2.14.0-cp311-cp311-manylinux_2_17_x86_64.manylinux2014_x86_64.whl (489.9 MB)\n",
            "\u001b[2K   \u001b[90m━━━━━━━━━━━━━━━━━━━━━━━━━━━━━━━━━━━━━━━━\u001b[0m \u001b[32m489.9/489.9 MB\u001b[0m \u001b[31m1.9 MB/s\u001b[0m eta \u001b[36m0:00:00\u001b[0m\n",
            "\u001b[?25hDownloading ml_dtypes-0.2.0-cp311-cp311-manylinux_2_17_x86_64.manylinux2014_x86_64.whl (1.0 MB)\n",
            "\u001b[2K   \u001b[90m━━━━━━━━━━━━━━━━━━━━━━━━━━━━━━━━━━━━━━━━\u001b[0m \u001b[32m1.0/1.0 MB\u001b[0m \u001b[31m60.8 MB/s\u001b[0m eta \u001b[36m0:00:00\u001b[0m\n",
            "\u001b[?25hDownloading absl_py-2.2.2-py3-none-any.whl (135 kB)\n",
            "\u001b[2K   \u001b[90m━━━━━━━━━━━━━━━━━━━━━━━━━━━━━━━━━━━━━━━━\u001b[0m \u001b[32m135.6/135.6 kB\u001b[0m \u001b[31m16.2 MB/s\u001b[0m eta \u001b[36m0:00:00\u001b[0m\n",
            "\u001b[?25hDownloading astunparse-1.6.3-py2.py3-none-any.whl (12 kB)\n",
            "Downloading flatbuffers-25.2.10-py2.py3-none-any.whl (30 kB)\n",
            "Downloading gast-0.6.0-py3-none-any.whl (21 kB)\n",
            "Downloading google_pasta-0.2.0-py3-none-any.whl (57 kB)\n",
            "\u001b[2K   \u001b[90m━━━━━━━━━━━━━━━━━━━━━━━━━━━━━━━━━━━━━━━━\u001b[0m \u001b[32m57.5/57.5 kB\u001b[0m \u001b[31m6.7 MB/s\u001b[0m eta \u001b[36m0:00:00\u001b[0m\n",
            "\u001b[?25hDownloading grpcio-1.71.0-cp311-cp311-manylinux_2_17_x86_64.manylinux2014_x86_64.whl (5.9 MB)\n",
            "\u001b[2K   \u001b[90m━━━━━━━━━━━━━━━━━━━━━━━━━━━━━━━━━━━━━━━━\u001b[0m \u001b[32m5.9/5.9 MB\u001b[0m \u001b[31m112.5 MB/s\u001b[0m eta \u001b[36m0:00:00\u001b[0m\n",
            "\u001b[?25hDownloading h5py-3.13.0-cp311-cp311-manylinux_2_17_x86_64.manylinux2014_x86_64.whl (4.5 MB)\n",
            "\u001b[2K   \u001b[90m━━━━━━━━━━━━━━━━━━━━━━━━━━━━━━━━━━━━━━━━\u001b[0m \u001b[32m4.5/4.5 MB\u001b[0m \u001b[31m110.4 MB/s\u001b[0m eta \u001b[36m0:00:00\u001b[0m\n",
            "\u001b[?25hDownloading keras-2.14.0-py3-none-any.whl (1.7 MB)\n",
            "\u001b[2K   \u001b[90m━━━━━━━━━━━━━━━━━━━━━━━━━━━━━━━━━━━━━━━━\u001b[0m \u001b[32m1.7/1.7 MB\u001b[0m \u001b[31m85.6 MB/s\u001b[0m eta \u001b[36m0:00:00\u001b[0m\n",
            "\u001b[?25hDownloading libclang-18.1.1-py2.py3-none-manylinux2010_x86_64.whl (24.5 MB)\n",
            "\u001b[2K   \u001b[90m━━━━━━━━━━━━━━━━━━━━━━━━━━━━━━━━━━━━━━━━\u001b[0m \u001b[32m24.5/24.5 MB\u001b[0m \u001b[31m87.5 MB/s\u001b[0m eta \u001b[36m0:00:00\u001b[0m\n",
            "\u001b[?25hDownloading numpy-2.2.4-cp311-cp311-manylinux_2_17_x86_64.manylinux2014_x86_64.whl (16.4 MB)\n",
            "\u001b[2K   \u001b[90m━━━━━━━━━━━━━━━━━━━━━━━━━━━━━━━━━━━━━━━━\u001b[0m \u001b[32m16.4/16.4 MB\u001b[0m \u001b[31m103.2 MB/s\u001b[0m eta \u001b[36m0:00:00\u001b[0m\n",
            "\u001b[?25hDownloading opt_einsum-3.4.0-py3-none-any.whl (71 kB)\n",
            "\u001b[2K   \u001b[90m━━━━━━━━━━━━━━━━━━━━━━━━━━━━━━━━━━━━━━━━\u001b[0m \u001b[32m71.9/71.9 kB\u001b[0m \u001b[31m8.5 MB/s\u001b[0m eta \u001b[36m0:00:00\u001b[0m\n",
            "\u001b[?25hDownloading protobuf-4.25.6-cp37-abi3-manylinux2014_x86_64.whl (294 kB)\n",
            "\u001b[2K   \u001b[90m━━━━━━━━━━━━━━━━━━━━━━━━━━━━━━━━━━━━━━━━\u001b[0m \u001b[32m294.6/294.6 kB\u001b[0m \u001b[31m29.6 MB/s\u001b[0m eta \u001b[36m0:00:00\u001b[0m\n",
            "\u001b[?25hDownloading six-1.17.0-py2.py3-none-any.whl (11 kB)\n",
            "Downloading tensorboard-2.14.1-py3-none-any.whl (5.5 MB)\n",
            "\u001b[2K   \u001b[90m━━━━━━━━━━━━━━━━━━━━━━━━━━━━━━━━━━━━━━━━\u001b[0m \u001b[32m5.5/5.5 MB\u001b[0m \u001b[31m115.7 MB/s\u001b[0m eta \u001b[36m0:00:00\u001b[0m\n",
            "\u001b[?25hDownloading setuptools-78.1.0-py3-none-any.whl (1.3 MB)\n",
            "\u001b[2K   \u001b[90m━━━━━━━━━━━━━━━━━━━━━━━━━━━━━━━━━━━━━━━━\u001b[0m \u001b[32m1.3/1.3 MB\u001b[0m \u001b[31m66.6 MB/s\u001b[0m eta \u001b[36m0:00:00\u001b[0m\n",
            "\u001b[?25hDownloading tensorflow_estimator-2.14.0-py2.py3-none-any.whl (440 kB)\n",
            "\u001b[2K   \u001b[90m━━━━━━━━━━━━━━━━━━━━━━━━━━━━━━━━━━━━━━━━\u001b[0m \u001b[32m440.7/440.7 kB\u001b[0m \u001b[31m37.8 MB/s\u001b[0m eta \u001b[36m0:00:00\u001b[0m\n",
            "\u001b[?25hDownloading tensorflow_io_gcs_filesystem-0.37.1-cp311-cp311-manylinux_2_17_x86_64.manylinux2014_x86_64.whl (5.1 MB)\n",
            "\u001b[2K   \u001b[90m━━━━━━━━━━━━━━━━━━━━━━━━━━━━━━━━━━━━━━━━\u001b[0m \u001b[32m5.1/5.1 MB\u001b[0m \u001b[31m109.9 MB/s\u001b[0m eta \u001b[36m0:00:00\u001b[0m\n",
            "\u001b[?25hDownloading termcolor-3.0.1-py3-none-any.whl (7.2 kB)\n",
            "Downloading typing_extensions-4.13.2-py3-none-any.whl (45 kB)\n",
            "\u001b[2K   \u001b[90m━━━━━━━━━━━━━━━━━━━━━━━━━━━━━━━━━━━━━━━━\u001b[0m \u001b[32m45.8/45.8 kB\u001b[0m \u001b[31m4.8 MB/s\u001b[0m eta \u001b[36m0:00:00\u001b[0m\n",
            "\u001b[?25hDownloading wrapt-1.14.1-cp311-cp311-manylinux_2_5_x86_64.manylinux1_x86_64.manylinux_2_17_x86_64.manylinux2014_x86_64.whl (78 kB)\n",
            "\u001b[2K   \u001b[90m━━━━━━━━━━━━━━━━━━━━━━━━━━━━━━━━━━━━━━━━\u001b[0m \u001b[32m78.4/78.4 kB\u001b[0m \u001b[31m8.2 MB/s\u001b[0m eta \u001b[36m0:00:00\u001b[0m\n",
            "\u001b[?25hDownloading packaging-24.2-py3-none-any.whl (65 kB)\n",
            "\u001b[2K   \u001b[90m━━━━━━━━━━━━━━━━━━━━━━━━━━━━━━━━━━━━━━━━\u001b[0m \u001b[32m65.5/65.5 kB\u001b[0m \u001b[31m7.5 MB/s\u001b[0m eta \u001b[36m0:00:00\u001b[0m\n",
            "\u001b[?25hDownloading google_auth-2.39.0-py2.py3-none-any.whl (212 kB)\n",
            "\u001b[2K   \u001b[90m━━━━━━━━━━━━━━━━━━━━━━━━━━━━━━━━━━━━━━━━\u001b[0m \u001b[32m212.3/212.3 kB\u001b[0m \u001b[31m22.9 MB/s\u001b[0m eta \u001b[36m0:00:00\u001b[0m\n",
            "\u001b[?25hDownloading google_auth_oauthlib-1.0.0-py2.py3-none-any.whl (18 kB)\n",
            "Downloading markdown-3.8-py3-none-any.whl (106 kB)\n",
            "\u001b[2K   \u001b[90m━━━━━━━━━━━━━━━━━━━━━━━━━━━━━━━━━━━━━━━━\u001b[0m \u001b[32m106.2/106.2 kB\u001b[0m \u001b[31m12.2 MB/s\u001b[0m eta \u001b[36m0:00:00\u001b[0m\n",
            "\u001b[?25hDownloading requests-2.32.3-py3-none-any.whl (64 kB)\n",
            "\u001b[2K   \u001b[90m━━━━━━━━━━━━━━━━━━━━━━━━━━━━━━━━━━━━━━━━\u001b[0m \u001b[32m64.9/64.9 kB\u001b[0m \u001b[31m7.3 MB/s\u001b[0m eta \u001b[36m0:00:00\u001b[0m\n",
            "\u001b[?25hDownloading tensorboard_data_server-0.7.2-py3-none-manylinux_2_31_x86_64.whl (6.6 MB)\n",
            "\u001b[2K   \u001b[90m━━━━━━━━━━━━━━━━━━━━━━━━━━━━━━━━━━━━━━━━\u001b[0m \u001b[32m6.6/6.6 MB\u001b[0m \u001b[31m108.0 MB/s\u001b[0m eta \u001b[36m0:00:00\u001b[0m\n",
            "\u001b[?25hDownloading werkzeug-3.1.3-py3-none-any.whl (224 kB)\n",
            "\u001b[2K   \u001b[90m━━━━━━━━━━━━━━━━━━━━━━━━━━━━━━━━━━━━━━━━\u001b[0m \u001b[32m224.5/224.5 kB\u001b[0m \u001b[31m22.3 MB/s\u001b[0m eta \u001b[36m0:00:00\u001b[0m\n",
            "\u001b[?25hDownloading wheel-0.45.1-py3-none-any.whl (72 kB)\n",
            "\u001b[2K   \u001b[90m━━━━━━━━━━━━━━━━━━━━━━━━━━━━━━━━━━━━━━━━\u001b[0m \u001b[32m72.5/72.5 kB\u001b[0m \u001b[31m8.6 MB/s\u001b[0m eta \u001b[36m0:00:00\u001b[0m\n",
            "\u001b[?25hDownloading cachetools-5.5.2-py3-none-any.whl (10 kB)\n",
            "Downloading certifi-2025.1.31-py3-none-any.whl (166 kB)\n",
            "\u001b[2K   \u001b[90m━━━━━━━━━━━━━━━━━━━━━━━━━━━━━━━━━━━━━━━━\u001b[0m \u001b[32m166.4/166.4 kB\u001b[0m \u001b[31m19.3 MB/s\u001b[0m eta \u001b[36m0:00:00\u001b[0m\n",
            "\u001b[?25hDownloading charset_normalizer-3.4.1-cp311-cp311-manylinux_2_17_x86_64.manylinux2014_x86_64.whl (143 kB)\n",
            "\u001b[2K   \u001b[90m━━━━━━━━━━━━━━━━━━━━━━━━━━━━━━━━━━━━━━━━\u001b[0m \u001b[32m143.9/143.9 kB\u001b[0m \u001b[31m17.0 MB/s\u001b[0m eta \u001b[36m0:00:00\u001b[0m\n",
            "\u001b[?25hDownloading idna-3.10-py3-none-any.whl (70 kB)\n",
            "\u001b[2K   \u001b[90m━━━━━━━━━━━━━━━━━━━━━━━━━━━━━━━━━━━━━━━━\u001b[0m \u001b[32m70.4/70.4 kB\u001b[0m \u001b[31m8.7 MB/s\u001b[0m eta \u001b[36m0:00:00\u001b[0m\n",
            "\u001b[?25hDownloading MarkupSafe-3.0.2-cp311-cp311-manylinux_2_17_x86_64.manylinux2014_x86_64.whl (23 kB)\n",
            "Downloading pyasn1_modules-0.4.2-py3-none-any.whl (181 kB)\n",
            "\u001b[2K   \u001b[90m━━━━━━━━━━━━━━━━━━━━━━━━━━━━━━━━━━━━━━━━\u001b[0m \u001b[32m181.3/181.3 kB\u001b[0m \u001b[31m21.8 MB/s\u001b[0m eta \u001b[36m0:00:00\u001b[0m\n",
            "\u001b[?25hDownloading requests_oauthlib-2.0.0-py2.py3-none-any.whl (24 kB)\n",
            "Downloading rsa-4.9.1-py3-none-any.whl (34 kB)\n",
            "Downloading urllib3-2.4.0-py3-none-any.whl (128 kB)\n",
            "\u001b[2K   \u001b[90m━━━━━━━━━━━━━━━━━━━━━━━━━━━━━━━━━━━━━━━━\u001b[0m \u001b[32m128.7/128.7 kB\u001b[0m \u001b[31m15.8 MB/s\u001b[0m eta \u001b[36m0:00:00\u001b[0m\n",
            "\u001b[?25hDownloading oauthlib-3.2.2-py3-none-any.whl (151 kB)\n",
            "\u001b[2K   \u001b[90m━━━━━━━━━━━━━━━━━━━━━━━━━━━━━━━━━━━━━━━━\u001b[0m \u001b[32m151.7/151.7 kB\u001b[0m \u001b[31m19.0 MB/s\u001b[0m eta \u001b[36m0:00:00\u001b[0m\n",
            "\u001b[?25hDownloading pyasn1-0.6.1-py3-none-any.whl (83 kB)\n",
            "\u001b[2K   \u001b[90m━━━━━━━━━━━━━━━━━━━━━━━━━━━━━━━━━━━━━━━━\u001b[0m \u001b[32m83.1/83.1 kB\u001b[0m \u001b[31m9.7 MB/s\u001b[0m eta \u001b[36m0:00:00\u001b[0m\n",
            "\u001b[?25hInstalling collected packages: libclang, flatbuffers, wrapt, wheel, urllib3, typing-extensions, termcolor, tensorflow-io-gcs-filesystem, tensorflow-estimator, tensorboard-data-server, six, setuptools, pyasn1, protobuf, packaging, opt-einsum, oauthlib, numpy, MarkupSafe, markdown, keras, idna, grpcio, gast, charset-normalizer, certifi, cachetools, absl-py, werkzeug, rsa, requests, pyasn1-modules, ml-dtypes, h5py, google-pasta, astunparse, requests-oauthlib, google-auth, google-auth-oauthlib, tensorboard, tensorflow\n",
            "  Attempting uninstall: libclang\n",
            "    Found existing installation: libclang 18.1.1\n",
            "    Uninstalling libclang-18.1.1:\n",
            "      Successfully uninstalled libclang-18.1.1\n",
            "  Attempting uninstall: flatbuffers\n",
            "    Found existing installation: flatbuffers 25.2.10\n",
            "    Uninstalling flatbuffers-25.2.10:\n",
            "      Successfully uninstalled flatbuffers-25.2.10\n",
            "  Attempting uninstall: wrapt\n",
            "    Found existing installation: wrapt 1.17.2\n",
            "    Uninstalling wrapt-1.17.2:\n",
            "      Successfully uninstalled wrapt-1.17.2\n",
            "  Attempting uninstall: wheel\n",
            "    Found existing installation: wheel 0.45.1\n",
            "    Uninstalling wheel-0.45.1:\n",
            "      Successfully uninstalled wheel-0.45.1\n",
            "  Attempting uninstall: urllib3\n",
            "    Found existing installation: urllib3 2.3.0\n",
            "    Uninstalling urllib3-2.3.0:\n",
            "      Successfully uninstalled urllib3-2.3.0\n",
            "  Attempting uninstall: typing-extensions\n",
            "    Found existing installation: typing_extensions 4.13.1\n",
            "    Uninstalling typing_extensions-4.13.1:\n",
            "      Successfully uninstalled typing_extensions-4.13.1\n",
            "  Attempting uninstall: termcolor\n",
            "    Found existing installation: termcolor 3.0.1\n",
            "    Uninstalling termcolor-3.0.1:\n",
            "      Successfully uninstalled termcolor-3.0.1\n",
            "  Attempting uninstall: tensorflow-io-gcs-filesystem\n",
            "    Found existing installation: tensorflow-io-gcs-filesystem 0.37.1\n",
            "    Uninstalling tensorflow-io-gcs-filesystem-0.37.1:\n",
            "      Successfully uninstalled tensorflow-io-gcs-filesystem-0.37.1\n",
            "  Attempting uninstall: tensorboard-data-server\n",
            "    Found existing installation: tensorboard-data-server 0.7.2\n",
            "    Uninstalling tensorboard-data-server-0.7.2:\n",
            "      Successfully uninstalled tensorboard-data-server-0.7.2\n",
            "  Attempting uninstall: six\n",
            "    Found existing installation: six 1.17.0\n",
            "    Uninstalling six-1.17.0:\n",
            "      Successfully uninstalled six-1.17.0\n",
            "  Attempting uninstall: setuptools\n",
            "    Found existing installation: setuptools 75.2.0\n",
            "    Uninstalling setuptools-75.2.0:\n",
            "      Successfully uninstalled setuptools-75.2.0\n",
            "  Attempting uninstall: pyasn1\n",
            "    Found existing installation: pyasn1 0.6.1\n",
            "    Uninstalling pyasn1-0.6.1:\n",
            "      Successfully uninstalled pyasn1-0.6.1\n",
            "  Attempting uninstall: protobuf\n",
            "    Found existing installation: protobuf 5.29.4\n",
            "    Uninstalling protobuf-5.29.4:\n",
            "      Successfully uninstalled protobuf-5.29.4\n",
            "  Attempting uninstall: packaging\n",
            "    Found existing installation: packaging 24.2\n",
            "    Uninstalling packaging-24.2:\n",
            "      Successfully uninstalled packaging-24.2\n",
            "  Attempting uninstall: opt-einsum\n",
            "    Found existing installation: opt_einsum 3.4.0\n",
            "    Uninstalling opt_einsum-3.4.0:\n",
            "      Successfully uninstalled opt_einsum-3.4.0\n",
            "  Attempting uninstall: oauthlib\n",
            "    Found existing installation: oauthlib 3.2.2\n",
            "    Uninstalling oauthlib-3.2.2:\n",
            "      Successfully uninstalled oauthlib-3.2.2\n",
            "  Attempting uninstall: numpy\n",
            "    Found existing installation: numpy 1.23.5\n",
            "    Uninstalling numpy-1.23.5:\n",
            "      Successfully uninstalled numpy-1.23.5\n",
            "  Attempting uninstall: MarkupSafe\n",
            "    Found existing installation: MarkupSafe 3.0.2\n",
            "    Uninstalling MarkupSafe-3.0.2:\n",
            "      Successfully uninstalled MarkupSafe-3.0.2\n",
            "  Attempting uninstall: markdown\n",
            "    Found existing installation: Markdown 3.7\n",
            "    Uninstalling Markdown-3.7:\n",
            "      Successfully uninstalled Markdown-3.7\n",
            "  Attempting uninstall: keras\n",
            "    Found existing installation: keras 3.8.0\n",
            "    Uninstalling keras-3.8.0:\n",
            "      Successfully uninstalled keras-3.8.0\n",
            "  Attempting uninstall: idna\n",
            "    Found existing installation: idna 3.10\n",
            "    Uninstalling idna-3.10:\n",
            "      Successfully uninstalled idna-3.10\n",
            "  Attempting uninstall: grpcio\n",
            "    Found existing installation: grpcio 1.71.0\n",
            "    Uninstalling grpcio-1.71.0:\n",
            "      Successfully uninstalled grpcio-1.71.0\n",
            "  Attempting uninstall: gast\n",
            "    Found existing installation: gast 0.6.0\n",
            "    Uninstalling gast-0.6.0:\n",
            "      Successfully uninstalled gast-0.6.0\n",
            "  Attempting uninstall: charset-normalizer\n",
            "    Found existing installation: charset-normalizer 3.4.1\n",
            "    Uninstalling charset-normalizer-3.4.1:\n",
            "      Successfully uninstalled charset-normalizer-3.4.1\n",
            "  Attempting uninstall: certifi\n",
            "    Found existing installation: certifi 2025.1.31\n",
            "    Uninstalling certifi-2025.1.31:\n",
            "      Successfully uninstalled certifi-2025.1.31\n",
            "  Attempting uninstall: cachetools\n",
            "    Found existing installation: cachetools 5.5.2\n",
            "    Uninstalling cachetools-5.5.2:\n",
            "      Successfully uninstalled cachetools-5.5.2\n",
            "  Attempting uninstall: absl-py\n",
            "    Found existing installation: absl-py 1.4.0\n",
            "    Uninstalling absl-py-1.4.0:\n",
            "      Successfully uninstalled absl-py-1.4.0\n",
            "  Attempting uninstall: werkzeug\n",
            "    Found existing installation: Werkzeug 3.1.3\n",
            "    Uninstalling Werkzeug-3.1.3:\n",
            "      Successfully uninstalled Werkzeug-3.1.3\n",
            "  Attempting uninstall: rsa\n",
            "    Found existing installation: rsa 4.9\n",
            "    Uninstalling rsa-4.9:\n",
            "      Successfully uninstalled rsa-4.9\n",
            "  Attempting uninstall: requests\n",
            "    Found existing installation: requests 2.32.3\n",
            "    Uninstalling requests-2.32.3:\n",
            "      Successfully uninstalled requests-2.32.3\n",
            "  Attempting uninstall: pyasn1-modules\n",
            "    Found existing installation: pyasn1_modules 0.4.2\n",
            "    Uninstalling pyasn1_modules-0.4.2:\n",
            "      Successfully uninstalled pyasn1_modules-0.4.2\n",
            "  Attempting uninstall: ml-dtypes\n",
            "    Found existing installation: ml-dtypes 0.4.1\n",
            "    Uninstalling ml-dtypes-0.4.1:\n",
            "      Successfully uninstalled ml-dtypes-0.4.1\n",
            "  Attempting uninstall: h5py\n",
            "    Found existing installation: h5py 3.13.0\n",
            "    Uninstalling h5py-3.13.0:\n",
            "      Successfully uninstalled h5py-3.13.0\n",
            "  Attempting uninstall: google-pasta\n",
            "    Found existing installation: google-pasta 0.2.0\n",
            "    Uninstalling google-pasta-0.2.0:\n",
            "      Successfully uninstalled google-pasta-0.2.0\n",
            "  Attempting uninstall: astunparse\n",
            "    Found existing installation: astunparse 1.6.3\n",
            "    Uninstalling astunparse-1.6.3:\n",
            "      Successfully uninstalled astunparse-1.6.3\n",
            "  Attempting uninstall: requests-oauthlib\n",
            "    Found existing installation: requests-oauthlib 2.0.0\n",
            "    Uninstalling requests-oauthlib-2.0.0:\n",
            "      Successfully uninstalled requests-oauthlib-2.0.0\n",
            "  Attempting uninstall: google-auth\n",
            "    Found existing installation: google-auth 2.38.0\n",
            "    Uninstalling google-auth-2.38.0:\n",
            "      Successfully uninstalled google-auth-2.38.0\n",
            "  Attempting uninstall: google-auth-oauthlib\n",
            "    Found existing installation: google-auth-oauthlib 1.2.1\n",
            "    Uninstalling google-auth-oauthlib-1.2.1:\n",
            "      Successfully uninstalled google-auth-oauthlib-1.2.1\n",
            "  Attempting uninstall: tensorboard\n",
            "    Found existing installation: tensorboard 2.18.0\n",
            "    Uninstalling tensorboard-2.18.0:\n",
            "      Successfully uninstalled tensorboard-2.18.0\n",
            "  Attempting uninstall: tensorflow\n",
            "    Found existing installation: tensorflow 2.18.0\n",
            "    Uninstalling tensorflow-2.18.0:\n",
            "      Successfully uninstalled tensorflow-2.18.0\n",
            "\u001b[31mERROR: pip's dependency resolver does not currently take into account all the packages that are installed. This behaviour is the source of the following dependency conflicts.\n",
            "ipython 7.34.0 requires jedi>=0.16, which is not installed.\n",
            "tensorflow-model-optimization 0.8.0 requires absl-py~=1.2, but you have absl-py 2.2.2 which is incompatible.\n",
            "tensorflow-model-optimization 0.8.0 requires numpy~=1.23, but you have numpy 2.2.4 which is incompatible.\n",
            "google-colab 1.0.0 requires google-auth==2.38.0, but you have google-auth 2.39.0 which is incompatible.\n",
            "numba 0.60.0 requires numpy<2.1,>=1.22, but you have numpy 2.2.4 which is incompatible.\n",
            "jax 0.5.2 requires ml_dtypes>=0.4.0, but you have ml-dtypes 0.2.0 which is incompatible.\n",
            "tensorflow-text 2.18.1 requires tensorflow<2.19,>=2.18.0, but you have tensorflow 2.14.0 which is incompatible.\n",
            "ydf 0.11.0 requires protobuf<6.0.0,>=5.29.1, but you have protobuf 4.25.6 which is incompatible.\n",
            "tf-keras 2.18.0 requires tensorflow<2.19,>=2.18, but you have tensorflow 2.14.0 which is incompatible.\n",
            "tensorstore 0.1.73 requires ml_dtypes>=0.3.1, but you have ml-dtypes 0.2.0 which is incompatible.\n",
            "tensorflow-decision-forests 1.11.0 requires tensorflow==2.18.0, but you have tensorflow 2.14.0 which is incompatible.\n",
            "grpcio-status 1.71.0 requires protobuf<6.0dev,>=5.26.1, but you have protobuf 4.25.6 which is incompatible.\n",
            "torch 2.6.0+cu124 requires nvidia-cublas-cu12==12.4.5.8; platform_system == \"Linux\" and platform_machine == \"x86_64\", but you have nvidia-cublas-cu12 12.5.3.2 which is incompatible.\n",
            "torch 2.6.0+cu124 requires nvidia-cuda-cupti-cu12==12.4.127; platform_system == \"Linux\" and platform_machine == \"x86_64\", but you have nvidia-cuda-cupti-cu12 12.5.82 which is incompatible.\n",
            "torch 2.6.0+cu124 requires nvidia-cuda-nvrtc-cu12==12.4.127; platform_system == \"Linux\" and platform_machine == \"x86_64\", but you have nvidia-cuda-nvrtc-cu12 12.5.82 which is incompatible.\n",
            "torch 2.6.0+cu124 requires nvidia-cuda-runtime-cu12==12.4.127; platform_system == \"Linux\" and platform_machine == \"x86_64\", but you have nvidia-cuda-runtime-cu12 12.5.82 which is incompatible.\n",
            "torch 2.6.0+cu124 requires nvidia-cudnn-cu12==9.1.0.70; platform_system == \"Linux\" and platform_machine == \"x86_64\", but you have nvidia-cudnn-cu12 9.3.0.75 which is incompatible.\n",
            "torch 2.6.0+cu124 requires nvidia-cufft-cu12==11.2.1.3; platform_system == \"Linux\" and platform_machine == \"x86_64\", but you have nvidia-cufft-cu12 11.2.3.61 which is incompatible.\n",
            "torch 2.6.0+cu124 requires nvidia-curand-cu12==10.3.5.147; platform_system == \"Linux\" and platform_machine == \"x86_64\", but you have nvidia-curand-cu12 10.3.6.82 which is incompatible.\n",
            "torch 2.6.0+cu124 requires nvidia-cusolver-cu12==11.6.1.9; platform_system == \"Linux\" and platform_machine == \"x86_64\", but you have nvidia-cusolver-cu12 11.6.3.83 which is incompatible.\n",
            "torch 2.6.0+cu124 requires nvidia-cusparse-cu12==12.3.1.170; platform_system == \"Linux\" and platform_machine == \"x86_64\", but you have nvidia-cusparse-cu12 12.5.1.3 which is incompatible.\n",
            "torch 2.6.0+cu124 requires nvidia-nvjitlink-cu12==12.4.127; platform_system == \"Linux\" and platform_machine == \"x86_64\", but you have nvidia-nvjitlink-cu12 12.5.82 which is incompatible.\u001b[0m\u001b[31m\n",
            "\u001b[0mSuccessfully installed MarkupSafe-3.0.2 absl-py-2.2.2 astunparse-1.6.3 cachetools-5.5.2 certifi-2025.1.31 charset-normalizer-3.4.1 flatbuffers-25.2.10 gast-0.6.0 google-auth-2.39.0 google-auth-oauthlib-1.0.0 google-pasta-0.2.0 grpcio-1.71.0 h5py-3.13.0 idna-3.10 keras-2.14.0 libclang-18.1.1 markdown-3.8 ml-dtypes-0.2.0 numpy-2.2.4 oauthlib-3.2.2 opt-einsum-3.4.0 packaging-24.2 protobuf-4.25.6 pyasn1-0.6.1 pyasn1-modules-0.4.2 requests-2.32.3 requests-oauthlib-2.0.0 rsa-4.9.1 setuptools-78.1.0 six-1.17.0 tensorboard-2.14.1 tensorboard-data-server-0.7.2 tensorflow-2.14.0 tensorflow-estimator-2.14.0 tensorflow-io-gcs-filesystem-0.37.1 termcolor-3.0.1 typing-extensions-4.13.2 urllib3-2.4.0 werkzeug-3.1.3 wheel-0.45.1 wrapt-1.14.1\n"
          ]
        },
        {
          "output_type": "display_data",
          "data": {
            "application/vnd.colab-display-data+json": {
              "pip_warning": {
                "packages": [
                  "_distutils_hack",
                  "absl",
                  "astunparse",
                  "cachetools",
                  "certifi",
                  "charset_normalizer",
                  "flatbuffers",
                  "gast",
                  "google",
                  "h5py",
                  "ml_dtypes",
                  "pyasn1",
                  "pyasn1_modules",
                  "requests",
                  "setuptools",
                  "six",
                  "wrapt"
                ]
              },
              "id": "5b7e1642f8f84d309588b5f321c1d746"
            }
          },
          "metadata": {}
        },
        {
          "output_type": "stream",
          "name": "stdout",
          "text": [
            "Requirement already satisfied: tensorflow-model-optimization in /usr/local/lib/python3.11/dist-packages (0.8.0)\n",
            "Collecting absl-py~=1.2 (from tensorflow-model-optimization)\n",
            "  Downloading absl_py-1.4.0-py3-none-any.whl.metadata (2.3 kB)\n",
            "Requirement already satisfied: dm-tree~=0.1.1 in /usr/local/lib/python3.11/dist-packages (from tensorflow-model-optimization) (0.1.9)\n",
            "Collecting numpy~=1.23 (from tensorflow-model-optimization)\n",
            "  Using cached numpy-1.26.4-cp311-cp311-manylinux_2_17_x86_64.manylinux2014_x86_64.whl.metadata (61 kB)\n",
            "Requirement already satisfied: six~=1.14 in /usr/local/lib/python3.11/dist-packages (from tensorflow-model-optimization) (1.17.0)\n",
            "Requirement already satisfied: attrs>=18.2.0 in /usr/local/lib/python3.11/dist-packages (from dm-tree~=0.1.1->tensorflow-model-optimization) (25.3.0)\n",
            "Requirement already satisfied: wrapt>=1.11.2 in /usr/local/lib/python3.11/dist-packages (from dm-tree~=0.1.1->tensorflow-model-optimization) (1.14.1)\n",
            "Downloading absl_py-1.4.0-py3-none-any.whl (126 kB)\n",
            "\u001b[2K   \u001b[90m━━━━━━━━━━━━━━━━━━━━━━━━━━━━━━━━━━━━━━━━\u001b[0m \u001b[32m126.5/126.5 kB\u001b[0m \u001b[31m10.0 MB/s\u001b[0m eta \u001b[36m0:00:00\u001b[0m\n",
            "\u001b[?25hUsing cached numpy-1.26.4-cp311-cp311-manylinux_2_17_x86_64.manylinux2014_x86_64.whl (18.3 MB)\n",
            "Installing collected packages: numpy, absl-py\n",
            "  Attempting uninstall: numpy\n",
            "    Found existing installation: numpy 2.2.4\n",
            "    Uninstalling numpy-2.2.4:\n",
            "      Successfully uninstalled numpy-2.2.4\n",
            "  Attempting uninstall: absl-py\n",
            "    Found existing installation: absl-py 2.2.2\n",
            "    Uninstalling absl-py-2.2.2:\n",
            "      Successfully uninstalled absl-py-2.2.2\n",
            "\u001b[31mERROR: pip's dependency resolver does not currently take into account all the packages that are installed. This behaviour is the source of the following dependency conflicts.\n",
            "jax 0.5.2 requires ml_dtypes>=0.4.0, but you have ml-dtypes 0.2.0 which is incompatible.\n",
            "tensorflow-text 2.18.1 requires tensorflow<2.19,>=2.18.0, but you have tensorflow 2.14.0 which is incompatible.\n",
            "ydf 0.11.0 requires protobuf<6.0.0,>=5.29.1, but you have protobuf 4.25.6 which is incompatible.\n",
            "tf-keras 2.18.0 requires tensorflow<2.19,>=2.18, but you have tensorflow 2.14.0 which is incompatible.\n",
            "tensorstore 0.1.73 requires ml_dtypes>=0.3.1, but you have ml-dtypes 0.2.0 which is incompatible.\n",
            "tensorflow-decision-forests 1.11.0 requires tensorflow==2.18.0, but you have tensorflow 2.14.0 which is incompatible.\n",
            "thinc 8.3.6 requires numpy<3.0.0,>=2.0.0, but you have numpy 1.26.4 which is incompatible.\u001b[0m\u001b[31m\n",
            "\u001b[0mSuccessfully installed absl-py-1.4.0 numpy-1.26.4\n"
          ]
        }
      ]
    },
    {
      "cell_type": "code",
      "source": [],
      "metadata": {
        "id": "WbF1_9nW2HcP"
      },
      "execution_count": null,
      "outputs": []
    }
  ]
}