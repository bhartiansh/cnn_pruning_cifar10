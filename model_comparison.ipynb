{
 "cells": [
  {
   "cell_type": "code",
   "execution_count": null,
   "id": "cd9be466",
   "metadata": {},
   "outputs": [
    {
     "name": "stdout",
     "output_type": "stream",
     "text": [
      "Downloading data from https://www.cs.toronto.edu/~kriz/cifar-10-python.tar.gz\n",
      "\u001b[1m170498071/170498071\u001b[0m \u001b[32m━━━━━━━━━━━━━━━━━━━━\u001b[0m\u001b[37m\u001b[0m \u001b[1m71s\u001b[0m 0us/step\n",
      "✅ CIFAR-10 data loaded and preprocessed.\n"
     ]
    }
   ],
   "source": [
    "import numpy as np\n",
    "import tensorflow as tf\n",
    "from tensorflow.keras.datasets import cifar10\n",
    "from tensorflow.keras.utils import to_categorical\n",
    "\n",
    "# Load CIFAR-10 dataset\n",
    "(x_train, y_train), (x_test, y_test) = cifar10.load_data()\n",
    "\n",
    "# Normalize pixel values to [0, 1]\n",
    "x_train = x_train.astype('float32') / 255.0\n",
    "x_test = x_test.astype('float32') / 255.0\n",
    "\n",
    "# One-hot encode labels\n",
    "y_train = to_categorical(y_train, 10)\n",
    "y_test = to_categorical(y_test, 10)\n",
    "\n",
    "print(\"CIFAR-10 data loaded and preprocessed.\")"
   ]
  },
  {
   "cell_type": "code",
   "execution_count": 8,
   "id": "a69d7d6e",
   "metadata": {},
   "outputs": [],
   "source": [
    "import os\n",
    "import sys\n",
    "from tensorflow.keras.models import load_model\n",
    "import pandas as pd"
   ]
  },
  {
   "cell_type": "code",
   "execution_count": 12,
   "id": "947017d6",
   "metadata": {},
   "outputs": [
    {
     "name": "stdout",
     "output_type": "stream",
     "text": [
      "DRIVE | Sparsity: 0.3 | Accuracy: 75.08% | Loss: 1.5796\n",
      "DRIVE | Sparsity: 0.5 | Accuracy: 75.13% | Loss: 1.6407\n",
      "DRIVE | Sparsity: 0.7 | Accuracy: 76.01% | Loss: 1.4478\n",
      "DRIVE | Sparsity: 0.9 | Accuracy: 73.18% | Loss: 1.7345\n",
      "SNIP | Sparsity: 0.3 | Accuracy: 79.24% | Loss: 1.3098\n",
      "SNIP | Sparsity: 0.5 | Accuracy: 72.30% | Loss: 1.8596\n",
      "SNIP | Sparsity: 0.7 | Accuracy: 69.89% | Loss: 2.0264\n",
      "SNIP | Sparsity: 0.9 | Accuracy: 71.82% | Loss: 1.8597\n",
      "Han | Sparsity: 0.3 | Accuracy: 69.58% | Loss: 1.0787\n",
      "❌ Model not found: results/pruned_resnet20_global_magnitude_sparsity_0.5.h5\n",
      "Han | Sparsity: 0.7 | Accuracy: 78.46% | Loss: 1.2852\n",
      "Han | Sparsity: 0.9 | Accuracy: 77.85% | Loss: 1.3726\n",
      "❌ Model not found: results/ll1norm_resnet20_sparsity_0.3.h5\n",
      "❌ Model not found: results/ll1norm_resnet20_sparsity_0.5.h5\n",
      "❌ Model not found: results/ll1norm_resnet20_sparsity_0.7.h5\n",
      "❌ Model not found: results/ll1norm_resnet20_sparsity_0.9.h5\n",
      "OneCycle | Sparsity: 0.3 | Accuracy: 85.69% | Loss: 0.8829\n",
      "OneCycle | Sparsity: 0.5 | Accuracy: 85.25% | Loss: 0.9288\n",
      "OneCycle | Sparsity: 0.7 | Accuracy: 85.09% | Loss: 0.9159\n",
      "OneCycle | Sparsity: 0.9 | Accuracy: 86.10% | Loss: 0.8530\n"
     ]
    }
   ],
   "source": [
    "import os\n",
    "import tensorflow as tf\n",
    "from tensorflow.keras.models import load_model\n",
    "from tensorflow.keras.losses import CategoricalCrossentropy\n",
    "from tensorflow.keras.metrics import CategoricalAccuracy\n",
    "\n",
    "# CIFAR-10 test data should already be loaded and preprocessed\n",
    "# Make sure this exists before running the loop:\n",
    "# x_test, y_test\n",
    "\n",
    "# Define directory where models are saved\n",
    "model_dir = \"results\"\n",
    "\n",
    "# Define model name prefixes for each method\n",
    "methods = {\n",
    "    \"DRIVE\": \"pruned_resnet20_dual_iterative_sparsity_{}\",\n",
    "    \"SNIP\": \"pruned_resnet20_SNIP_sparsity_{}\",\n",
    "    \"Han\": \"pruned_resnet20_global_magnitude_sparsity_{}\",\n",
    "    \"Li\": \"ll1norm_resnet20_sparsity_{}\",\n",
    "    \"OneCycle\": \"pruned_resnet20_onecycle_sparsity_{}\",\n",
    "}\n",
    "\n",
    "# Sparsity levels\n",
    "sparsity_levels = [0.3, 0.5, 0.7, 0.9]\n",
    "\n",
    "# Evaluate models\n",
    "for method, prefix in methods.items():\n",
    "    for sparsity in sparsity_levels:\n",
    "        model_path = os.path.join(model_dir, prefix.format(sparsity) + \".h5\")\n",
    "        if not os.path.exists(model_path):\n",
    "            print(f\"❌ Model not found: {model_path}\")\n",
    "            continue\n",
    "\n",
    "        try:\n",
    "            model = load_model(model_path, compile=False)  # Load without compiling\n",
    "            model.compile(\n",
    "                loss=CategoricalCrossentropy(),\n",
    "                optimizer='adam',\n",
    "                metrics=[CategoricalAccuracy()]\n",
    "            )\n",
    "            loss, accuracy = model.evaluate(x_test, y_test, verbose=0)\n",
    "            print(f\"{method} | Sparsity: {sparsity:.1f} | Accuracy: {accuracy*100:.2f}% | Loss: {loss:.4f}\")\n",
    "        except Exception as e:\n",
    "            print(f\"⚠️ Failed to evaluate {model_path}: {e}\")"
   ]
  },
  {
   "cell_type": "code",
   "execution_count": null,
   "id": "6bddbccd",
   "metadata": {},
   "outputs": [],
   "source": []
  }
 ],
 "metadata": {
  "kernelspec": {
   "display_name": "Python 3",
   "language": "python",
   "name": "python3"
  },
  "language_info": {
   "codemirror_mode": {
    "name": "ipython",
    "version": 3
   },
   "file_extension": ".py",
   "mimetype": "text/x-python",
   "name": "python",
   "nbconvert_exporter": "python",
   "pygments_lexer": "ipython3",
   "version": "3.11.12"
  }
 },
 "nbformat": 4,
 "nbformat_minor": 5
}
