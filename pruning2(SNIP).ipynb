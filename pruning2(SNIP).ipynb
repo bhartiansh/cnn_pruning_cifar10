{
  "cells": [
    {
      "cell_type": "markdown",
      "metadata": {
        "colab_type": "text",
        "id": "view-in-github"
      },
      "source": [
        "<a href=\"https://colab.research.google.com/github/bhartiansh/cnn_pruning_cifar10/blob/main/pruning2(SNIP).ipynb\" target=\"_parent\"><img src=\"https://colab.research.google.com/assets/colab-badge.svg\" alt=\"Open In Colab\"/></a>"
      ]
    },
    {
      "cell_type": "code",
      "execution_count": 2,
      "metadata": {
        "colab": {
          "base_uri": "https://localhost:8080/"
        },
        "id": "0f794YJHvzCX",
        "outputId": "49c1f5c0-dcbd-413d-b13f-b71b77f3aa81"
      },
      "outputs": [],
      "source": [
        "import sys\n",
        "import os\n",
        "sys.path.append('../models')"
      ]
    },
    {
      "cell_type": "code",
      "execution_count": 3,
      "metadata": {
        "colab": {
          "base_uri": "https://localhost:8080/"
        },
        "id": "dhUaivPSv0zm",
        "outputId": "b1a2e810-87b0-49db-cfa2-13d4c6d46acc"
      },
      "outputs": [],
      "source": [
        "!pip install -q tensorflow-model-optimization"
      ]
    },
    {
      "cell_type": "code",
      "execution_count": 4,
      "metadata": {
        "id": "QcZN62SRv2HB"
      },
      "outputs": [],
      "source": [
        "import tensorflow as tf\n",
        "import numpy as np\n",
        "from models.resnet56_baseline import build_resnet56"
      ]
    },
    {
      "cell_type": "code",
      "execution_count": 5,
      "metadata": {
        "id": "VbhBboqzv4J2"
      },
      "outputs": [],
      "source": [
        "def compute_snip_scores(model, x_batch, y_batch, loss_fn=tf.keras.losses.SparseCategoricalCrossentropy()):\n",
        "    with tf.GradientTape() as tape:\n",
        "        preds = model(x_batch, training=True)\n",
        "        loss = loss_fn(y_batch, preds)\n",
        "\n",
        "    grads = tape.gradient(loss, model.trainable_variables)\n",
        "    snip_scores = [tf.abs(g * w) for g, w in zip(grads, model.trainable_variables) if g is not None]\n",
        "    return snip_scores"
      ]
    },
    {
      "cell_type": "code",
      "execution_count": 6,
      "metadata": {
        "id": "YEZuEDwCv5px"
      },
      "outputs": [],
      "source": [
        "def snip_prune_model(model, snip_scores, sparsity):\n",
        "    all_scores = tf.concat([tf.reshape(score, [-1]) for score in snip_scores], axis=0)\n",
        "    k = int((1 - sparsity) * tf.size(all_scores).numpy())\n",
        "    threshold = tf.sort(all_scores, direction='DESCENDING')[k]\n",
        "\n",
        "    masks = [tf.cast(score >= threshold, tf.float32) for score in snip_scores]\n",
        "    pruned_weights = [w * m for w, m in zip(model.trainable_variables, masks)]\n",
        "\n",
        "    for var, pruned in zip(model.trainable_variables, pruned_weights):\n",
        "        var.assign(pruned)\n",
        "\n",
        "    return masks\n"
      ]
    },
    {
      "cell_type": "code",
      "execution_count": 7,
      "metadata": {
        "id": "xJKVIkz5v7HA"
      },
      "outputs": [],
      "source": [
        "def train_pruned_model(model, x_train, y_train, x_val, y_val, epochs=50, batch_size=128, save_path=\"snip_model.h5\"):\n",
        "    early_stop = tf.keras.callbacks.EarlyStopping(patience=5, restore_best_weights=True)\n",
        "    checkpoint = tf.keras.callbacks.ModelCheckpoint(save_path, save_best_only=True)\n",
        "\n",
        "    model.compile(optimizer='adam',\n",
        "                  loss='sparse_categorical_crossentropy',\n",
        "                  metrics=['accuracy'])\n",
        "\n",
        "    history = model.fit(x_train, y_train,\n",
        "                        validation_data=(x_val, y_val),\n",
        "                        epochs=epochs,\n",
        "                        batch_size=batch_size,\n",
        "                        callbacks=[early_stop, checkpoint],\n",
        "                        verbose=2)\n",
        "\n",
        "    return history\n"
      ]
    },
    {
      "cell_type": "code",
      "execution_count": null,
      "metadata": {
        "colab": {
          "base_uri": "https://localhost:8080/"
        },
        "id": "AjfjSvklv82F",
        "outputId": "99632cfd-a319-44b0-a5b4-bf887d603300"
      },
      "outputs": [],
      "source": [
        "# 1. Load dataset\n",
        "(x_train, y_train), (x_test, y_test) = tf.keras.datasets.cifar10.load_data()\n",
        "x_train, x_test = x_train / 255.0, x_test / 255.0\n",
        "\n",
        "# 2. Build your ResNet-56\n",
        "model = build_resnet56()  # Replace with your function\n",
        "\n",
        "# 3. Get SNIP scores from a small batch\n",
        "batch_x, batch_y = x_train[:64], y_train[:64]\n",
        "snip_scores = compute_snip_scores(model, batch_x, batch_y)\n",
        "\n",
        "# 4. Apply pruning with desired sparsity\n",
        "snip_prune_model(model, snip_scores, sparsity=0.5)\n",
        "\n",
        "# 5. Train pruned model\n",
        "history = train_pruned_model(model, x_train, y_train, x_test, y_test)\n"
      ]
    },
    {
      "cell_type": "code",
      "execution_count": 10,
      "metadata": {
        "colab": {
          "base_uri": "https://localhost:8080/"
        },
        "id": "x2vj4u6iv-LO",
        "outputId": "46f1c50a-1cf8-43a4-d72f-ca6223afc75c"
      },
      "outputs": [
        {
          "name": "stdout",
          "output_type": "stream",
          "text": [
            "Epoch 1/50\n"
          ]
        },
        {
          "name": "stderr",
          "output_type": "stream",
          "text": [
            "WARNING:absl:You are saving your model as an HDF5 file via `model.save()` or `keras.saving.save_model(model)`. This file format is considered legacy. We recommend using instead the native Keras format, e.g. `model.save('my_model.keras')` or `keras.saving.save_model(model, 'my_model.keras')`. \n"
          ]
        },
        {
          "name": "stdout",
          "output_type": "stream",
          "text": [
            "391/391 - 108s - 275ms/step - accuracy: 0.4593 - loss: 1.5328 - val_accuracy: 0.4845 - val_loss: 1.4763\n",
            "Epoch 2/50\n"
          ]
        },
        {
          "name": "stderr",
          "output_type": "stream",
          "text": [
            "WARNING:absl:You are saving your model as an HDF5 file via `model.save()` or `keras.saving.save_model(model)`. This file format is considered legacy. We recommend using instead the native Keras format, e.g. `model.save('my_model.keras')` or `keras.saving.save_model(model, 'my_model.keras')`. \n"
          ]
        },
        {
          "name": "stdout",
          "output_type": "stream",
          "text": [
            "391/391 - 47s - 120ms/step - accuracy: 0.6339 - loss: 1.0216 - val_accuracy: 0.5684 - val_loss: 1.2879\n",
            "Epoch 3/50\n",
            "391/391 - 30s - 78ms/step - accuracy: 0.7195 - loss: 0.7952 - val_accuracy: 0.5833 - val_loss: 1.4018\n",
            "Epoch 4/50\n",
            "391/391 - 39s - 101ms/step - accuracy: 0.7681 - loss: 0.6586 - val_accuracy: 0.5361 - val_loss: 1.6273\n",
            "Epoch 5/50\n"
          ]
        },
        {
          "name": "stderr",
          "output_type": "stream",
          "text": [
            "WARNING:absl:You are saving your model as an HDF5 file via `model.save()` or `keras.saving.save_model(model)`. This file format is considered legacy. We recommend using instead the native Keras format, e.g. `model.save('my_model.keras')` or `keras.saving.save_model(model, 'my_model.keras')`. \n"
          ]
        },
        {
          "name": "stdout",
          "output_type": "stream",
          "text": [
            "391/391 - 42s - 108ms/step - accuracy: 0.8064 - loss: 0.5533 - val_accuracy: 0.7403 - val_loss: 0.7618\n",
            "Epoch 6/50\n",
            "391/391 - 40s - 102ms/step - accuracy: 0.8329 - loss: 0.4760 - val_accuracy: 0.7096 - val_loss: 0.9423\n",
            "Epoch 7/50\n",
            "391/391 - 42s - 108ms/step - accuracy: 0.8534 - loss: 0.4119 - val_accuracy: 0.6797 - val_loss: 1.1364\n",
            "Epoch 8/50\n",
            "391/391 - 41s - 104ms/step - accuracy: 0.8810 - loss: 0.3400 - val_accuracy: 0.7174 - val_loss: 0.9654\n",
            "Epoch 9/50\n",
            "391/391 - 40s - 102ms/step - accuracy: 0.8964 - loss: 0.2906 - val_accuracy: 0.6505 - val_loss: 1.4389\n",
            "Epoch 10/50\n",
            "391/391 - 41s - 105ms/step - accuracy: 0.9159 - loss: 0.2351 - val_accuracy: 0.6534 - val_loss: 1.3954\n"
          ]
        }
      ],
      "source": [
        "# 1. Load dataset\n",
        "(x_train, y_train), (x_test, y_test) = tf.keras.datasets.cifar10.load_data()\n",
        "x_train, x_test = x_train / 255.0, x_test / 255.0\n",
        "\n",
        "# 2. Build your ResNet-56\n",
        "model = build_resnet56()  # Replace with your function\n",
        "\n",
        "# 3. Get SNIP scores from a small batch\n",
        "batch_x, batch_y = x_train[:512], y_train[:512]\n",
        "snip_scores = compute_snip_scores(model, batch_x, batch_y)\n",
        "\n",
        "# 4. Apply pruning with desired sparsity\n",
        "snip_prune_model(model, snip_scores, sparsity=0.3)\n",
        "\n",
        "# 5. Train pruned model\n",
        "history = train_pruned_model(model, x_train, y_train, x_test, y_test)"
      ]
    },
    {
      "cell_type": "code",
      "execution_count": 11,
      "metadata": {
        "colab": {
          "base_uri": "https://localhost:8080/"
        },
        "id": "iEd33rwH02HL",
        "outputId": "9512c2f6-95df-4f60-ca2e-ca64250d7636"
      },
      "outputs": [
        {
          "name": "stdout",
          "output_type": "stream",
          "text": [
            "Epoch 1/50\n"
          ]
        },
        {
          "name": "stderr",
          "output_type": "stream",
          "text": [
            "WARNING:absl:You are saving your model as an HDF5 file via `model.save()` or `keras.saving.save_model(model)`. This file format is considered legacy. We recommend using instead the native Keras format, e.g. `model.save('my_model.keras')` or `keras.saving.save_model(model, 'my_model.keras')`. \n"
          ]
        },
        {
          "name": "stdout",
          "output_type": "stream",
          "text": [
            "391/391 - 98s - 252ms/step - accuracy: 0.4757 - loss: 1.4870 - val_accuracy: 0.4880 - val_loss: 1.5281\n",
            "Epoch 2/50\n"
          ]
        },
        {
          "name": "stderr",
          "output_type": "stream",
          "text": [
            "WARNING:absl:You are saving your model as an HDF5 file via `model.save()` or `keras.saving.save_model(model)`. This file format is considered legacy. We recommend using instead the native Keras format, e.g. `model.save('my_model.keras')` or `keras.saving.save_model(model, 'my_model.keras')`. \n"
          ]
        },
        {
          "name": "stdout",
          "output_type": "stream",
          "text": [
            "391/391 - 51s - 129ms/step - accuracy: 0.6381 - loss: 1.0220 - val_accuracy: 0.5555 - val_loss: 1.2856\n",
            "Epoch 3/50\n"
          ]
        },
        {
          "name": "stderr",
          "output_type": "stream",
          "text": [
            "WARNING:absl:You are saving your model as an HDF5 file via `model.save()` or `keras.saving.save_model(model)`. This file format is considered legacy. We recommend using instead the native Keras format, e.g. `model.save('my_model.keras')` or `keras.saving.save_model(model, 'my_model.keras')`. \n"
          ]
        },
        {
          "name": "stdout",
          "output_type": "stream",
          "text": [
            "391/391 - 41s - 105ms/step - accuracy: 0.7093 - loss: 0.8243 - val_accuracy: 0.6108 - val_loss: 1.2367\n",
            "Epoch 4/50\n"
          ]
        },
        {
          "name": "stderr",
          "output_type": "stream",
          "text": [
            "WARNING:absl:You are saving your model as an HDF5 file via `model.save()` or `keras.saving.save_model(model)`. This file format is considered legacy. We recommend using instead the native Keras format, e.g. `model.save('my_model.keras')` or `keras.saving.save_model(model, 'my_model.keras')`. \n"
          ]
        },
        {
          "name": "stdout",
          "output_type": "stream",
          "text": [
            "391/391 - 40s - 102ms/step - accuracy: 0.7589 - loss: 0.6884 - val_accuracy: 0.6962 - val_loss: 0.8799\n",
            "Epoch 5/50\n",
            "391/391 - 29s - 74ms/step - accuracy: 0.7943 - loss: 0.5877 - val_accuracy: 0.6089 - val_loss: 1.3514\n",
            "Epoch 6/50\n",
            "391/391 - 42s - 107ms/step - accuracy: 0.8225 - loss: 0.5066 - val_accuracy: 0.6816 - val_loss: 1.0406\n",
            "Epoch 7/50\n",
            "391/391 - 29s - 74ms/step - accuracy: 0.8485 - loss: 0.4316 - val_accuracy: 0.6668 - val_loss: 1.2577\n",
            "Epoch 8/50\n",
            "391/391 - 41s - 104ms/step - accuracy: 0.8689 - loss: 0.3699 - val_accuracy: 0.6390 - val_loss: 1.4140\n",
            "Epoch 9/50\n",
            "391/391 - 42s - 106ms/step - accuracy: 0.8901 - loss: 0.3121 - val_accuracy: 0.7385 - val_loss: 0.9246\n"
          ]
        }
      ],
      "source": [
        "# 1. Load dataset\n",
        "(x_train, y_train), (x_test, y_test) = tf.keras.datasets.cifar10.load_data()\n",
        "x_train, x_test = x_train / 255.0, x_test / 255.0\n",
        "\n",
        "# 2. Build your ResNet-56\n",
        "model = build_resnet56()  # Replace with your function\n",
        "\n",
        "# 3. Get SNIP scores from a small batch\n",
        "batch_x, batch_y = x_train[:512], y_train[:512]\n",
        "snip_scores = compute_snip_scores(model, batch_x, batch_y)\n",
        "\n",
        "# 4. Apply pruning with desired sparsity\n",
        "snip_prune_model(model, snip_scores, sparsity=0.7)\n",
        "\n",
        "# 5. Train pruned model\n",
        "history = train_pruned_model(model, x_train, y_train, x_test, y_test)"
      ]
    },
    {
      "cell_type": "code",
      "execution_count": null,
      "metadata": {
        "id": "m6W1hBbp1N_k"
      },
      "outputs": [],
      "source": []
    }
  ],
  "metadata": {
    "accelerator": "GPU",
    "colab": {
      "authorship_tag": "ABX9TyP17k5j+cSZSsaFbLPMgXyR",
      "gpuType": "T4",
      "include_colab_link": true,
      "provenance": []
    },
    "kernelspec": {
      "display_name": "tf",
      "language": "python",
      "name": "python3"
    },
    "language_info": {
      "codemirror_mode": {
        "name": "ipython",
        "version": 3
      },
      "file_extension": ".py",
      "mimetype": "text/x-python",
      "name": "python",
      "nbconvert_exporter": "python",
      "pygments_lexer": "ipython3",
      "version": "3.9.15"
    }
  },
  "nbformat": 4,
  "nbformat_minor": 0
}
