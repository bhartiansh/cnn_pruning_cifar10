{
  "nbformat": 4,
  "nbformat_minor": 0,
  "metadata": {
    "colab": {
      "provenance": [],
      "gpuType": "A100",
      "include_colab_link": true
    },
    "kernelspec": {
      "name": "python3",
      "display_name": "Python 3"
    },
    "language_info": {
      "name": "python"
    },
    "accelerator": "GPU"
  },
  "cells": [
    {
      "cell_type": "markdown",
      "metadata": {
        "id": "view-in-github",
        "colab_type": "text"
      },
      "source": [
        "<a href=\"https://colab.research.google.com/github/bhartiansh/cnn_pruning_cifar10/blob/main/ResNet20_baseline_model.ipynb\" target=\"_parent\"><img src=\"https://colab.research.google.com/assets/colab-badge.svg\" alt=\"Open In Colab\"/></a>"
      ]
    },
    {
      "cell_type": "code",
      "execution_count": 1,
      "metadata": {
        "colab": {
          "base_uri": "https://localhost:8080/"
        },
        "id": "tZYQi1WAhUAN",
        "outputId": "8d43de1b-8e70-4e30-8187-04242bbd2629"
      },
      "outputs": [
        {
          "output_type": "stream",
          "name": "stdout",
          "text": [
            "Cloning into 'cnn_pruning_cifar10'...\n",
            "remote: Enumerating objects: 171, done.\u001b[K\n",
            "remote: Counting objects: 100% (27/27), done.\u001b[K\n",
            "remote: Compressing objects: 100% (25/25), done.\u001b[K\n",
            "remote: Total 171 (delta 11), reused 2 (delta 2), pack-reused 144 (from 1)\u001b[K\n",
            "Receiving objects: 100% (171/171), 98.16 KiB | 1.20 MiB/s, done.\n",
            "Resolving deltas: 100% (74/74), done.\n",
            "/content/cnn_pruning_cifar10\n"
          ]
        }
      ],
      "source": [
        "# Clone repo and move into directory\n",
        "!git clone https://github.com/bhartiansh/cnn_pruning_cifar10.git\n",
        "%cd cnn_pruning_cifar10"
      ]
    },
    {
      "cell_type": "code",
      "source": [
        "%ls"
      ],
      "metadata": {
        "colab": {
          "base_uri": "https://localhost:8080/"
        },
        "id": "wwfv_WTSl1uo",
        "outputId": "0763612a-8bfb-47dd-b276-afb92f0f2844"
      },
      "execution_count": 2,
      "outputs": [
        {
          "output_type": "stream",
          "name": "stdout",
          "text": [
            " \u001b[0m\u001b[01;34mdata\u001b[0m/\n",
            " lth_pruning_20_40_60.ipynb\n",
            " \u001b[01;34mmodels\u001b[0m/\n",
            "'pruning1(lth).ipynb'\n",
            "'pruning2(SNIP).ipynb'\n",
            "'pruning3(MAG_50).ipynb'\n",
            "'pruning4(L1_Norm_Filter).ipynb'\n",
            "'pruning4(One_cycle_Structured_Pruning_with_Stability_Driven_Structure_Search).ipynb'\n",
            "'pruning5(Random_Pruning_Unstructured).ipynb'\n",
            " README.md\n",
            " ResNet56_baseline_model.ipynb\n",
            " \u001b[01;34mtraning\u001b[0m/\n"
          ]
        }
      ]
    },
    {
      "cell_type": "code",
      "source": [
        "# ✅ Imports\n",
        "from data.preprocessing import load_cifar10_data\n",
        "from models.resnet20 import build_resnet20\n",
        "import tensorflow as tf"
      ],
      "metadata": {
        "id": "zGCS9irHiIdj"
      },
      "execution_count": 3,
      "outputs": []
    },
    {
      "cell_type": "code",
      "source": [
        "# ✅ Load CIFAR-10 with custom test size\n",
        "(x_train, y_train), (x_val, y_val) = load_cifar10_data(test_size=0.2)\n",
        "\n",
        "# ✅ Model\n",
        "model = build_resnet20()\n",
        "\n",
        "# ✅ Compile\n",
        "model.compile(optimizer='adam',\n",
        "              loss='sparse_categorical_crossentropy',\n",
        "              metrics=['accuracy'])\n"
      ],
      "metadata": {
        "colab": {
          "base_uri": "https://localhost:8080/"
        },
        "id": "yx9LO5kHiQnk",
        "outputId": "20b913ac-f0cf-45da-8ab2-b6bc588bbde5"
      },
      "execution_count": 4,
      "outputs": [
        {
          "output_type": "stream",
          "name": "stdout",
          "text": [
            "Downloading data from https://www.cs.toronto.edu/~kriz/cifar-10-python.tar.gz\n",
            "\u001b[1m170498071/170498071\u001b[0m \u001b[32m━━━━━━━━━━━━━━━━━━━━\u001b[0m\u001b[37m\u001b[0m \u001b[1m2s\u001b[0m 0us/step\n"
          ]
        }
      ]
    },
    {
      "cell_type": "code",
      "source": [
        "# ✅ Callbacks (EarlyStopping only after 100 epochs)\n",
        "class MinEpochEarlyStopping(tf.keras.callbacks.EarlyStopping):\n",
        "    def __init__(self, min_epoch=100, *args, **kwargs):\n",
        "        super().__init__(*args, **kwargs)\n",
        "        self.min_epoch = min_epoch\n",
        "\n",
        "    def on_epoch_end(self, epoch, logs=None):\n",
        "        if epoch + 1 >= self.min_epoch:\n",
        "            super().on_epoch_end(epoch, logs)\n",
        "\n",
        "callbacks = [\n",
        "    MinEpochEarlyStopping(monitor='val_accuracy', patience=10, min_epoch=100, restore_best_weights=True)\n",
        "]"
      ],
      "metadata": {
        "id": "rm0_izYmiRz5"
      },
      "execution_count": 5,
      "outputs": []
    },
    {
      "cell_type": "code",
      "source": [
        "# ✅ Train (set epochs=100)\n",
        "model.fit(x_train, y_train,\n",
        "          validation_data=(x_val, y_val),\n",
        "          epochs=100,\n",
        "          batch_size=64,\n",
        "          callbacks=callbacks)"
      ],
      "metadata": {
        "colab": {
          "base_uri": "https://localhost:8080/"
        },
        "id": "pdspgyM9if0T",
        "outputId": "570fc3c7-a9d1-4229-d064-ab1c248fe58c"
      },
      "execution_count": 6,
      "outputs": [
        {
          "output_type": "stream",
          "name": "stdout",
          "text": [
            "Epoch 1/100\n",
            "\u001b[1m625/625\u001b[0m \u001b[32m━━━━━━━━━━━━━━━━━━━━\u001b[0m\u001b[37m\u001b[0m \u001b[1m29s\u001b[0m 13ms/step - accuracy: 0.3917 - loss: 1.6770 - val_accuracy: 0.5000 - val_loss: 1.3979\n",
            "Epoch 2/100\n",
            "\u001b[1m625/625\u001b[0m \u001b[32m━━━━━━━━━━━━━━━━━━━━\u001b[0m\u001b[37m\u001b[0m \u001b[1m5s\u001b[0m 8ms/step - accuracy: 0.6241 - loss: 1.0432 - val_accuracy: 0.5633 - val_loss: 1.2727\n",
            "Epoch 3/100\n",
            "\u001b[1m625/625\u001b[0m \u001b[32m━━━━━━━━━━━━━━━━━━━━\u001b[0m\u001b[37m\u001b[0m \u001b[1m5s\u001b[0m 8ms/step - accuracy: 0.7143 - loss: 0.8133 - val_accuracy: 0.7081 - val_loss: 0.8277\n",
            "Epoch 4/100\n",
            "\u001b[1m625/625\u001b[0m \u001b[32m━━━━━━━━━━━━━━━━━━━━\u001b[0m\u001b[37m\u001b[0m \u001b[1m5s\u001b[0m 8ms/step - accuracy: 0.7613 - loss: 0.6875 - val_accuracy: 0.6611 - val_loss: 1.0092\n",
            "Epoch 5/100\n",
            "\u001b[1m625/625\u001b[0m \u001b[32m━━━━━━━━━━━━━━━━━━━━\u001b[0m\u001b[37m\u001b[0m \u001b[1m5s\u001b[0m 8ms/step - accuracy: 0.7920 - loss: 0.5922 - val_accuracy: 0.7191 - val_loss: 0.8276\n",
            "Epoch 6/100\n",
            "\u001b[1m625/625\u001b[0m \u001b[32m━━━━━━━━━━━━━━━━━━━━\u001b[0m\u001b[37m\u001b[0m \u001b[1m5s\u001b[0m 8ms/step - accuracy: 0.8292 - loss: 0.5023 - val_accuracy: 0.6920 - val_loss: 0.9355\n",
            "Epoch 7/100\n",
            "\u001b[1m625/625\u001b[0m \u001b[32m━━━━━━━━━━━━━━━━━━━━\u001b[0m\u001b[37m\u001b[0m \u001b[1m5s\u001b[0m 8ms/step - accuracy: 0.8435 - loss: 0.4483 - val_accuracy: 0.6887 - val_loss: 0.9318\n",
            "Epoch 8/100\n",
            "\u001b[1m625/625\u001b[0m \u001b[32m━━━━━━━━━━━━━━━━━━━━\u001b[0m\u001b[37m\u001b[0m \u001b[1m5s\u001b[0m 8ms/step - accuracy: 0.8637 - loss: 0.3931 - val_accuracy: 0.7552 - val_loss: 0.7845\n",
            "Epoch 9/100\n",
            "\u001b[1m625/625\u001b[0m \u001b[32m━━━━━━━━━━━━━━━━━━━━\u001b[0m\u001b[37m\u001b[0m \u001b[1m5s\u001b[0m 8ms/step - accuracy: 0.8850 - loss: 0.3327 - val_accuracy: 0.6910 - val_loss: 1.1160\n",
            "Epoch 10/100\n",
            "\u001b[1m625/625\u001b[0m \u001b[32m━━━━━━━━━━━━━━━━━━━━\u001b[0m\u001b[37m\u001b[0m \u001b[1m5s\u001b[0m 8ms/step - accuracy: 0.9002 - loss: 0.2925 - val_accuracy: 0.7419 - val_loss: 0.8473\n",
            "Epoch 11/100\n",
            "\u001b[1m625/625\u001b[0m \u001b[32m━━━━━━━━━━━━━━━━━━━━\u001b[0m\u001b[37m\u001b[0m \u001b[1m5s\u001b[0m 8ms/step - accuracy: 0.9122 - loss: 0.2554 - val_accuracy: 0.7472 - val_loss: 0.8524\n",
            "Epoch 12/100\n",
            "\u001b[1m625/625\u001b[0m \u001b[32m━━━━━━━━━━━━━━━━━━━━\u001b[0m\u001b[37m\u001b[0m \u001b[1m5s\u001b[0m 8ms/step - accuracy: 0.9236 - loss: 0.2205 - val_accuracy: 0.7523 - val_loss: 0.8327\n",
            "Epoch 13/100\n",
            "\u001b[1m625/625\u001b[0m \u001b[32m━━━━━━━━━━━━━━━━━━━━\u001b[0m\u001b[37m\u001b[0m \u001b[1m5s\u001b[0m 8ms/step - accuracy: 0.9363 - loss: 0.1843 - val_accuracy: 0.7674 - val_loss: 0.8133\n",
            "Epoch 14/100\n",
            "\u001b[1m625/625\u001b[0m \u001b[32m━━━━━━━━━━━━━━━━━━━━\u001b[0m\u001b[37m\u001b[0m \u001b[1m5s\u001b[0m 8ms/step - accuracy: 0.9416 - loss: 0.1699 - val_accuracy: 0.7414 - val_loss: 0.9864\n",
            "Epoch 15/100\n",
            "\u001b[1m625/625\u001b[0m \u001b[32m━━━━━━━━━━━━━━━━━━━━\u001b[0m\u001b[37m\u001b[0m \u001b[1m5s\u001b[0m 8ms/step - accuracy: 0.9491 - loss: 0.1436 - val_accuracy: 0.7592 - val_loss: 0.9709\n",
            "Epoch 16/100\n",
            "\u001b[1m625/625\u001b[0m \u001b[32m━━━━━━━━━━━━━━━━━━━━\u001b[0m\u001b[37m\u001b[0m \u001b[1m5s\u001b[0m 8ms/step - accuracy: 0.9518 - loss: 0.1399 - val_accuracy: 0.7343 - val_loss: 1.0998\n",
            "Epoch 17/100\n",
            "\u001b[1m625/625\u001b[0m \u001b[32m━━━━━━━━━━━━━━━━━━━━\u001b[0m\u001b[37m\u001b[0m \u001b[1m5s\u001b[0m 8ms/step - accuracy: 0.9585 - loss: 0.1185 - val_accuracy: 0.7635 - val_loss: 0.9197\n",
            "Epoch 18/100\n",
            "\u001b[1m625/625\u001b[0m \u001b[32m━━━━━━━━━━━━━━━━━━━━\u001b[0m\u001b[37m\u001b[0m \u001b[1m5s\u001b[0m 8ms/step - accuracy: 0.9635 - loss: 0.1057 - val_accuracy: 0.7666 - val_loss: 0.9272\n",
            "Epoch 19/100\n",
            "\u001b[1m625/625\u001b[0m \u001b[32m━━━━━━━━━━━━━━━━━━━━\u001b[0m\u001b[37m\u001b[0m \u001b[1m5s\u001b[0m 8ms/step - accuracy: 0.9654 - loss: 0.1005 - val_accuracy: 0.7723 - val_loss: 0.8991\n",
            "Epoch 20/100\n",
            "\u001b[1m625/625\u001b[0m \u001b[32m━━━━━━━━━━━━━━━━━━━━\u001b[0m\u001b[37m\u001b[0m \u001b[1m5s\u001b[0m 8ms/step - accuracy: 0.9693 - loss: 0.0901 - val_accuracy: 0.7734 - val_loss: 0.9077\n",
            "Epoch 21/100\n",
            "\u001b[1m625/625\u001b[0m \u001b[32m━━━━━━━━━━━━━━━━━━━━\u001b[0m\u001b[37m\u001b[0m \u001b[1m5s\u001b[0m 8ms/step - accuracy: 0.9670 - loss: 0.0951 - val_accuracy: 0.7508 - val_loss: 1.1558\n",
            "Epoch 22/100\n",
            "\u001b[1m625/625\u001b[0m \u001b[32m━━━━━━━━━━━━━━━━━━━━\u001b[0m\u001b[37m\u001b[0m \u001b[1m5s\u001b[0m 8ms/step - accuracy: 0.9722 - loss: 0.0827 - val_accuracy: 0.7480 - val_loss: 1.0741\n",
            "Epoch 23/100\n",
            "\u001b[1m625/625\u001b[0m \u001b[32m━━━━━━━━━━━━━━━━━━━━\u001b[0m\u001b[37m\u001b[0m \u001b[1m5s\u001b[0m 8ms/step - accuracy: 0.9743 - loss: 0.0753 - val_accuracy: 0.7718 - val_loss: 0.9932\n",
            "Epoch 24/100\n",
            "\u001b[1m625/625\u001b[0m \u001b[32m━━━━━━━━━━━━━━━━━━━━\u001b[0m\u001b[37m\u001b[0m \u001b[1m5s\u001b[0m 8ms/step - accuracy: 0.9744 - loss: 0.0734 - val_accuracy: 0.7480 - val_loss: 1.1326\n",
            "Epoch 25/100\n",
            "\u001b[1m625/625\u001b[0m \u001b[32m━━━━━━━━━━━━━━━━━━━━\u001b[0m\u001b[37m\u001b[0m \u001b[1m5s\u001b[0m 8ms/step - accuracy: 0.9753 - loss: 0.0729 - val_accuracy: 0.7616 - val_loss: 1.0873\n",
            "Epoch 26/100\n",
            "\u001b[1m625/625\u001b[0m \u001b[32m━━━━━━━━━━━━━━━━━━━━\u001b[0m\u001b[37m\u001b[0m \u001b[1m5s\u001b[0m 8ms/step - accuracy: 0.9773 - loss: 0.0669 - val_accuracy: 0.7484 - val_loss: 1.3214\n",
            "Epoch 27/100\n",
            "\u001b[1m625/625\u001b[0m \u001b[32m━━━━━━━━━━━━━━━━━━━━\u001b[0m\u001b[37m\u001b[0m \u001b[1m5s\u001b[0m 8ms/step - accuracy: 0.9740 - loss: 0.0748 - val_accuracy: 0.7513 - val_loss: 1.1869\n",
            "Epoch 28/100\n",
            "\u001b[1m625/625\u001b[0m \u001b[32m━━━━━━━━━━━━━━━━━━━━\u001b[0m\u001b[37m\u001b[0m \u001b[1m5s\u001b[0m 8ms/step - accuracy: 0.9793 - loss: 0.0596 - val_accuracy: 0.7666 - val_loss: 1.1436\n",
            "Epoch 29/100\n",
            "\u001b[1m625/625\u001b[0m \u001b[32m━━━━━━━━━━━━━━━━━━━━\u001b[0m\u001b[37m\u001b[0m \u001b[1m5s\u001b[0m 8ms/step - accuracy: 0.9821 - loss: 0.0530 - val_accuracy: 0.7793 - val_loss: 1.0670\n",
            "Epoch 30/100\n",
            "\u001b[1m625/625\u001b[0m \u001b[32m━━━━━━━━━━━━━━━━━━━━\u001b[0m\u001b[37m\u001b[0m \u001b[1m5s\u001b[0m 8ms/step - accuracy: 0.9819 - loss: 0.0541 - val_accuracy: 0.7474 - val_loss: 1.3582\n",
            "Epoch 31/100\n",
            "\u001b[1m625/625\u001b[0m \u001b[32m━━━━━━━━━━━━━━━━━━━━\u001b[0m\u001b[37m\u001b[0m \u001b[1m5s\u001b[0m 8ms/step - accuracy: 0.9788 - loss: 0.0625 - val_accuracy: 0.7173 - val_loss: 1.6588\n",
            "Epoch 32/100\n",
            "\u001b[1m625/625\u001b[0m \u001b[32m━━━━━━━━━━━━━━━━━━━━\u001b[0m\u001b[37m\u001b[0m \u001b[1m5s\u001b[0m 8ms/step - accuracy: 0.9812 - loss: 0.0536 - val_accuracy: 0.7788 - val_loss: 1.1658\n",
            "Epoch 33/100\n",
            "\u001b[1m625/625\u001b[0m \u001b[32m━━━━━━━━━━━━━━━━━━━━\u001b[0m\u001b[37m\u001b[0m \u001b[1m5s\u001b[0m 8ms/step - accuracy: 0.9778 - loss: 0.0607 - val_accuracy: 0.7697 - val_loss: 1.1894\n",
            "Epoch 34/100\n",
            "\u001b[1m625/625\u001b[0m \u001b[32m━━━━━━━━━━━━━━━━━━━━\u001b[0m\u001b[37m\u001b[0m \u001b[1m5s\u001b[0m 8ms/step - accuracy: 0.9831 - loss: 0.0484 - val_accuracy: 0.7801 - val_loss: 1.1017\n",
            "Epoch 35/100\n",
            "\u001b[1m625/625\u001b[0m \u001b[32m━━━━━━━━━━━━━━━━━━━━\u001b[0m\u001b[37m\u001b[0m \u001b[1m5s\u001b[0m 8ms/step - accuracy: 0.9809 - loss: 0.0551 - val_accuracy: 0.7759 - val_loss: 1.1130\n",
            "Epoch 36/100\n",
            "\u001b[1m625/625\u001b[0m \u001b[32m━━━━━━━━━━━━━━━━━━━━\u001b[0m\u001b[37m\u001b[0m \u001b[1m5s\u001b[0m 8ms/step - accuracy: 0.9845 - loss: 0.0427 - val_accuracy: 0.7595 - val_loss: 1.3344\n",
            "Epoch 37/100\n",
            "\u001b[1m625/625\u001b[0m \u001b[32m━━━━━━━━━━━━━━━━━━━━\u001b[0m\u001b[37m\u001b[0m \u001b[1m5s\u001b[0m 8ms/step - accuracy: 0.9834 - loss: 0.0478 - val_accuracy: 0.7635 - val_loss: 1.2443\n",
            "Epoch 38/100\n",
            "\u001b[1m625/625\u001b[0m \u001b[32m━━━━━━━━━━━━━━━━━━━━\u001b[0m\u001b[37m\u001b[0m \u001b[1m5s\u001b[0m 8ms/step - accuracy: 0.9820 - loss: 0.0527 - val_accuracy: 0.7609 - val_loss: 1.3516\n",
            "Epoch 39/100\n",
            "\u001b[1m625/625\u001b[0m \u001b[32m━━━━━━━━━━━━━━━━━━━━\u001b[0m\u001b[37m\u001b[0m \u001b[1m5s\u001b[0m 8ms/step - accuracy: 0.9847 - loss: 0.0437 - val_accuracy: 0.7724 - val_loss: 1.1733\n",
            "Epoch 40/100\n",
            "\u001b[1m625/625\u001b[0m \u001b[32m━━━━━━━━━━━━━━━━━━━━\u001b[0m\u001b[37m\u001b[0m \u001b[1m5s\u001b[0m 8ms/step - accuracy: 0.9852 - loss: 0.0420 - val_accuracy: 0.7580 - val_loss: 1.2923\n",
            "Epoch 41/100\n",
            "\u001b[1m625/625\u001b[0m \u001b[32m━━━━━━━━━━━━━━━━━━━━\u001b[0m\u001b[37m\u001b[0m \u001b[1m5s\u001b[0m 8ms/step - accuracy: 0.9843 - loss: 0.0439 - val_accuracy: 0.8016 - val_loss: 1.0610\n",
            "Epoch 42/100\n",
            "\u001b[1m625/625\u001b[0m \u001b[32m━━━━━━━━━━━━━━━━━━━━\u001b[0m\u001b[37m\u001b[0m \u001b[1m5s\u001b[0m 8ms/step - accuracy: 0.9855 - loss: 0.0423 - val_accuracy: 0.7833 - val_loss: 1.2016\n",
            "Epoch 43/100\n",
            "\u001b[1m625/625\u001b[0m \u001b[32m━━━━━━━━━━━━━━━━━━━━\u001b[0m\u001b[37m\u001b[0m \u001b[1m5s\u001b[0m 8ms/step - accuracy: 0.9841 - loss: 0.0449 - val_accuracy: 0.7805 - val_loss: 1.1415\n",
            "Epoch 44/100\n",
            "\u001b[1m625/625\u001b[0m \u001b[32m━━━━━━━━━━━━━━━━━━━━\u001b[0m\u001b[37m\u001b[0m \u001b[1m5s\u001b[0m 8ms/step - accuracy: 0.9865 - loss: 0.0396 - val_accuracy: 0.7621 - val_loss: 1.3603\n",
            "Epoch 45/100\n",
            "\u001b[1m625/625\u001b[0m \u001b[32m━━━━━━━━━━━━━━━━━━━━\u001b[0m\u001b[37m\u001b[0m \u001b[1m5s\u001b[0m 8ms/step - accuracy: 0.9883 - loss: 0.0336 - val_accuracy: 0.7845 - val_loss: 1.1286\n",
            "Epoch 46/100\n",
            "\u001b[1m625/625\u001b[0m \u001b[32m━━━━━━━━━━━━━━━━━━━━\u001b[0m\u001b[37m\u001b[0m \u001b[1m5s\u001b[0m 8ms/step - accuracy: 0.9841 - loss: 0.0448 - val_accuracy: 0.7805 - val_loss: 1.2536\n",
            "Epoch 47/100\n",
            "\u001b[1m625/625\u001b[0m \u001b[32m━━━━━━━━━━━━━━━━━━━━\u001b[0m\u001b[37m\u001b[0m \u001b[1m5s\u001b[0m 8ms/step - accuracy: 0.9870 - loss: 0.0374 - val_accuracy: 0.7810 - val_loss: 1.2318\n",
            "Epoch 48/100\n",
            "\u001b[1m625/625\u001b[0m \u001b[32m━━━━━━━━━━━━━━━━━━━━\u001b[0m\u001b[37m\u001b[0m \u001b[1m5s\u001b[0m 8ms/step - accuracy: 0.9877 - loss: 0.0368 - val_accuracy: 0.7653 - val_loss: 1.3645\n",
            "Epoch 49/100\n",
            "\u001b[1m625/625\u001b[0m \u001b[32m━━━━━━━━━━━━━━━━━━━━\u001b[0m\u001b[37m\u001b[0m \u001b[1m5s\u001b[0m 8ms/step - accuracy: 0.9898 - loss: 0.0318 - val_accuracy: 0.7857 - val_loss: 1.1453\n",
            "Epoch 50/100\n",
            "\u001b[1m625/625\u001b[0m \u001b[32m━━━━━━━━━━━━━━━━━━━━\u001b[0m\u001b[37m\u001b[0m \u001b[1m5s\u001b[0m 8ms/step - accuracy: 0.9872 - loss: 0.0388 - val_accuracy: 0.7770 - val_loss: 1.2646\n",
            "Epoch 51/100\n",
            "\u001b[1m625/625\u001b[0m \u001b[32m━━━━━━━━━━━━━━━━━━━━\u001b[0m\u001b[37m\u001b[0m \u001b[1m5s\u001b[0m 8ms/step - accuracy: 0.9885 - loss: 0.0333 - val_accuracy: 0.7898 - val_loss: 1.1411\n",
            "Epoch 52/100\n",
            "\u001b[1m625/625\u001b[0m \u001b[32m━━━━━━━━━━━━━━━━━━━━\u001b[0m\u001b[37m\u001b[0m \u001b[1m5s\u001b[0m 8ms/step - accuracy: 0.9904 - loss: 0.0290 - val_accuracy: 0.7656 - val_loss: 1.4105\n",
            "Epoch 53/100\n",
            "\u001b[1m625/625\u001b[0m \u001b[32m━━━━━━━━━━━━━━━━━━━━\u001b[0m\u001b[37m\u001b[0m \u001b[1m5s\u001b[0m 8ms/step - accuracy: 0.9868 - loss: 0.0379 - val_accuracy: 0.7619 - val_loss: 1.3855\n",
            "Epoch 54/100\n",
            "\u001b[1m625/625\u001b[0m \u001b[32m━━━━━━━━━━━━━━━━━━━━\u001b[0m\u001b[37m\u001b[0m \u001b[1m5s\u001b[0m 8ms/step - accuracy: 0.9877 - loss: 0.0359 - val_accuracy: 0.7766 - val_loss: 1.3158\n",
            "Epoch 55/100\n",
            "\u001b[1m625/625\u001b[0m \u001b[32m━━━━━━━━━━━━━━━━━━━━\u001b[0m\u001b[37m\u001b[0m \u001b[1m5s\u001b[0m 8ms/step - accuracy: 0.9901 - loss: 0.0295 - val_accuracy: 0.7769 - val_loss: 1.3211\n",
            "Epoch 56/100\n",
            "\u001b[1m625/625\u001b[0m \u001b[32m━━━━━━━━━━━━━━━━━━━━\u001b[0m\u001b[37m\u001b[0m \u001b[1m5s\u001b[0m 8ms/step - accuracy: 0.9892 - loss: 0.0313 - val_accuracy: 0.7901 - val_loss: 1.1499\n",
            "Epoch 57/100\n",
            "\u001b[1m625/625\u001b[0m \u001b[32m━━━━━━━━━━━━━━━━━━━━\u001b[0m\u001b[37m\u001b[0m \u001b[1m5s\u001b[0m 8ms/step - accuracy: 0.9887 - loss: 0.0330 - val_accuracy: 0.7733 - val_loss: 1.3931\n",
            "Epoch 58/100\n",
            "\u001b[1m625/625\u001b[0m \u001b[32m━━━━━━━━━━━━━━━━━━━━\u001b[0m\u001b[37m\u001b[0m \u001b[1m5s\u001b[0m 8ms/step - accuracy: 0.9886 - loss: 0.0324 - val_accuracy: 0.7911 - val_loss: 1.1497\n",
            "Epoch 59/100\n",
            "\u001b[1m625/625\u001b[0m \u001b[32m━━━━━━━━━━━━━━━━━━━━\u001b[0m\u001b[37m\u001b[0m \u001b[1m5s\u001b[0m 8ms/step - accuracy: 0.9879 - loss: 0.0319 - val_accuracy: 0.7836 - val_loss: 1.2772\n",
            "Epoch 60/100\n",
            "\u001b[1m625/625\u001b[0m \u001b[32m━━━━━━━━━━━━━━━━━━━━\u001b[0m\u001b[37m\u001b[0m \u001b[1m5s\u001b[0m 8ms/step - accuracy: 0.9927 - loss: 0.0219 - val_accuracy: 0.7706 - val_loss: 1.4890\n",
            "Epoch 61/100\n",
            "\u001b[1m625/625\u001b[0m \u001b[32m━━━━━━━━━━━━━━━━━━━━\u001b[0m\u001b[37m\u001b[0m \u001b[1m5s\u001b[0m 8ms/step - accuracy: 0.9906 - loss: 0.0273 - val_accuracy: 0.7888 - val_loss: 1.1255\n",
            "Epoch 62/100\n",
            "\u001b[1m625/625\u001b[0m \u001b[32m━━━━━━━━━━━━━━━━━━━━\u001b[0m\u001b[37m\u001b[0m \u001b[1m5s\u001b[0m 8ms/step - accuracy: 0.9884 - loss: 0.0333 - val_accuracy: 0.7781 - val_loss: 1.3092\n",
            "Epoch 63/100\n",
            "\u001b[1m625/625\u001b[0m \u001b[32m━━━━━━━━━━━━━━━━━━━━\u001b[0m\u001b[37m\u001b[0m \u001b[1m5s\u001b[0m 8ms/step - accuracy: 0.9881 - loss: 0.0342 - val_accuracy: 0.7899 - val_loss: 1.2405\n",
            "Epoch 64/100\n",
            "\u001b[1m625/625\u001b[0m \u001b[32m━━━━━━━━━━━━━━━━━━━━\u001b[0m\u001b[37m\u001b[0m \u001b[1m5s\u001b[0m 8ms/step - accuracy: 0.9911 - loss: 0.0262 - val_accuracy: 0.7974 - val_loss: 1.1958\n",
            "Epoch 65/100\n",
            "\u001b[1m625/625\u001b[0m \u001b[32m━━━━━━━━━━━━━━━━━━━━\u001b[0m\u001b[37m\u001b[0m \u001b[1m5s\u001b[0m 8ms/step - accuracy: 0.9910 - loss: 0.0257 - val_accuracy: 0.7912 - val_loss: 1.2275\n",
            "Epoch 66/100\n",
            "\u001b[1m625/625\u001b[0m \u001b[32m━━━━━━━━━━━━━━━━━━━━\u001b[0m\u001b[37m\u001b[0m \u001b[1m5s\u001b[0m 8ms/step - accuracy: 0.9925 - loss: 0.0218 - val_accuracy: 0.8008 - val_loss: 1.2135\n",
            "Epoch 67/100\n",
            "\u001b[1m625/625\u001b[0m \u001b[32m━━━━━━━━━━━━━━━━━━━━\u001b[0m\u001b[37m\u001b[0m \u001b[1m5s\u001b[0m 8ms/step - accuracy: 0.9920 - loss: 0.0228 - val_accuracy: 0.7874 - val_loss: 1.2460\n",
            "Epoch 68/100\n",
            "\u001b[1m625/625\u001b[0m \u001b[32m━━━━━━━━━━━━━━━━━━━━\u001b[0m\u001b[37m\u001b[0m \u001b[1m5s\u001b[0m 8ms/step - accuracy: 0.9867 - loss: 0.0408 - val_accuracy: 0.7801 - val_loss: 1.2545\n",
            "Epoch 69/100\n",
            "\u001b[1m625/625\u001b[0m \u001b[32m━━━━━━━━━━━━━━━━━━━━\u001b[0m\u001b[37m\u001b[0m \u001b[1m5s\u001b[0m 8ms/step - accuracy: 0.9911 - loss: 0.0271 - val_accuracy: 0.7937 - val_loss: 1.2663\n",
            "Epoch 70/100\n",
            "\u001b[1m625/625\u001b[0m \u001b[32m━━━━━━━━━━━━━━━━━━━━\u001b[0m\u001b[37m\u001b[0m \u001b[1m5s\u001b[0m 8ms/step - accuracy: 0.9915 - loss: 0.0251 - val_accuracy: 0.7852 - val_loss: 1.2143\n",
            "Epoch 71/100\n",
            "\u001b[1m625/625\u001b[0m \u001b[32m━━━━━━━━━━━━━━━━━━━━\u001b[0m\u001b[37m\u001b[0m \u001b[1m5s\u001b[0m 8ms/step - accuracy: 0.9920 - loss: 0.0235 - val_accuracy: 0.7825 - val_loss: 1.2538\n",
            "Epoch 72/100\n",
            "\u001b[1m625/625\u001b[0m \u001b[32m━━━━━━━━━━━━━━━━━━━━\u001b[0m\u001b[37m\u001b[0m \u001b[1m5s\u001b[0m 8ms/step - accuracy: 0.9929 - loss: 0.0227 - val_accuracy: 0.7926 - val_loss: 1.1854\n",
            "Epoch 73/100\n",
            "\u001b[1m625/625\u001b[0m \u001b[32m━━━━━━━━━━━━━━━━━━━━\u001b[0m\u001b[37m\u001b[0m \u001b[1m5s\u001b[0m 8ms/step - accuracy: 0.9891 - loss: 0.0319 - val_accuracy: 0.7850 - val_loss: 1.3533\n",
            "Epoch 74/100\n",
            "\u001b[1m625/625\u001b[0m \u001b[32m━━━━━━━━━━━━━━━━━━━━\u001b[0m\u001b[37m\u001b[0m \u001b[1m5s\u001b[0m 8ms/step - accuracy: 0.9925 - loss: 0.0231 - val_accuracy: 0.7805 - val_loss: 1.2882\n",
            "Epoch 75/100\n",
            "\u001b[1m625/625\u001b[0m \u001b[32m━━━━━━━━━━━━━━━━━━━━\u001b[0m\u001b[37m\u001b[0m \u001b[1m5s\u001b[0m 8ms/step - accuracy: 0.9932 - loss: 0.0208 - val_accuracy: 0.7857 - val_loss: 1.2833\n",
            "Epoch 76/100\n",
            "\u001b[1m625/625\u001b[0m \u001b[32m━━━━━━━━━━━━━━━━━━━━\u001b[0m\u001b[37m\u001b[0m \u001b[1m5s\u001b[0m 8ms/step - accuracy: 0.9923 - loss: 0.0236 - val_accuracy: 0.7693 - val_loss: 1.4657\n",
            "Epoch 77/100\n",
            "\u001b[1m625/625\u001b[0m \u001b[32m━━━━━━━━━━━━━━━━━━━━\u001b[0m\u001b[37m\u001b[0m \u001b[1m5s\u001b[0m 8ms/step - accuracy: 0.9903 - loss: 0.0266 - val_accuracy: 0.7543 - val_loss: 1.6232\n",
            "Epoch 78/100\n",
            "\u001b[1m625/625\u001b[0m \u001b[32m━━━━━━━━━━━━━━━━━━━━\u001b[0m\u001b[37m\u001b[0m \u001b[1m5s\u001b[0m 8ms/step - accuracy: 0.9902 - loss: 0.0292 - val_accuracy: 0.7878 - val_loss: 1.2990\n",
            "Epoch 79/100\n",
            "\u001b[1m625/625\u001b[0m \u001b[32m━━━━━━━━━━━━━━━━━━━━\u001b[0m\u001b[37m\u001b[0m \u001b[1m5s\u001b[0m 8ms/step - accuracy: 0.9930 - loss: 0.0202 - val_accuracy: 0.7880 - val_loss: 1.3169\n",
            "Epoch 80/100\n",
            "\u001b[1m625/625\u001b[0m \u001b[32m━━━━━━━━━━━━━━━━━━━━\u001b[0m\u001b[37m\u001b[0m \u001b[1m5s\u001b[0m 8ms/step - accuracy: 0.9912 - loss: 0.0250 - val_accuracy: 0.7969 - val_loss: 1.1943\n",
            "Epoch 81/100\n",
            "\u001b[1m625/625\u001b[0m \u001b[32m━━━━━━━━━━━━━━━━━━━━\u001b[0m\u001b[37m\u001b[0m \u001b[1m5s\u001b[0m 8ms/step - accuracy: 0.9934 - loss: 0.0211 - val_accuracy: 0.7883 - val_loss: 1.3154\n",
            "Epoch 82/100\n",
            "\u001b[1m625/625\u001b[0m \u001b[32m━━━━━━━━━━━━━━━━━━━━\u001b[0m\u001b[37m\u001b[0m \u001b[1m5s\u001b[0m 8ms/step - accuracy: 0.9920 - loss: 0.0228 - val_accuracy: 0.7803 - val_loss: 1.3420\n",
            "Epoch 83/100\n",
            "\u001b[1m625/625\u001b[0m \u001b[32m━━━━━━━━━━━━━━━━━━━━\u001b[0m\u001b[37m\u001b[0m \u001b[1m5s\u001b[0m 8ms/step - accuracy: 0.9922 - loss: 0.0239 - val_accuracy: 0.7778 - val_loss: 1.3612\n",
            "Epoch 84/100\n",
            "\u001b[1m625/625\u001b[0m \u001b[32m━━━━━━━━━━━━━━━━━━━━\u001b[0m\u001b[37m\u001b[0m \u001b[1m5s\u001b[0m 8ms/step - accuracy: 0.9917 - loss: 0.0245 - val_accuracy: 0.7901 - val_loss: 1.2871\n",
            "Epoch 85/100\n",
            "\u001b[1m625/625\u001b[0m \u001b[32m━━━━━━━━━━━━━━━━━━━━\u001b[0m\u001b[37m\u001b[0m \u001b[1m5s\u001b[0m 8ms/step - accuracy: 0.9938 - loss: 0.0182 - val_accuracy: 0.7905 - val_loss: 1.2553\n",
            "Epoch 86/100\n",
            "\u001b[1m625/625\u001b[0m \u001b[32m━━━━━━━━━━━━━━━━━━━━\u001b[0m\u001b[37m\u001b[0m \u001b[1m5s\u001b[0m 8ms/step - accuracy: 0.9945 - loss: 0.0164 - val_accuracy: 0.7945 - val_loss: 1.2885\n",
            "Epoch 87/100\n",
            "\u001b[1m625/625\u001b[0m \u001b[32m━━━━━━━━━━━━━━━━━━━━\u001b[0m\u001b[37m\u001b[0m \u001b[1m5s\u001b[0m 8ms/step - accuracy: 0.9920 - loss: 0.0240 - val_accuracy: 0.7669 - val_loss: 1.6078\n",
            "Epoch 88/100\n",
            "\u001b[1m625/625\u001b[0m \u001b[32m━━━━━━━━━━━━━━━━━━━━\u001b[0m\u001b[37m\u001b[0m \u001b[1m5s\u001b[0m 8ms/step - accuracy: 0.9924 - loss: 0.0229 - val_accuracy: 0.7976 - val_loss: 1.3011\n",
            "Epoch 89/100\n",
            "\u001b[1m625/625\u001b[0m \u001b[32m━━━━━━━━━━━━━━━━━━━━\u001b[0m\u001b[37m\u001b[0m \u001b[1m5s\u001b[0m 8ms/step - accuracy: 0.9940 - loss: 0.0176 - val_accuracy: 0.7942 - val_loss: 1.3356\n",
            "Epoch 90/100\n",
            "\u001b[1m625/625\u001b[0m \u001b[32m━━━━━━━━━━━━━━━━━━━━\u001b[0m\u001b[37m\u001b[0m \u001b[1m5s\u001b[0m 8ms/step - accuracy: 0.9935 - loss: 0.0193 - val_accuracy: 0.7824 - val_loss: 1.4536\n",
            "Epoch 91/100\n",
            "\u001b[1m625/625\u001b[0m \u001b[32m━━━━━━━━━━━━━━━━━━━━\u001b[0m\u001b[37m\u001b[0m \u001b[1m5s\u001b[0m 8ms/step - accuracy: 0.9933 - loss: 0.0197 - val_accuracy: 0.7933 - val_loss: 1.2696\n",
            "Epoch 92/100\n",
            "\u001b[1m625/625\u001b[0m \u001b[32m━━━━━━━━━━━━━━━━━━━━\u001b[0m\u001b[37m\u001b[0m \u001b[1m5s\u001b[0m 8ms/step - accuracy: 0.9949 - loss: 0.0149 - val_accuracy: 0.7993 - val_loss: 1.2460\n",
            "Epoch 93/100\n",
            "\u001b[1m625/625\u001b[0m \u001b[32m━━━━━━━━━━━━━━━━━━━━\u001b[0m\u001b[37m\u001b[0m \u001b[1m5s\u001b[0m 8ms/step - accuracy: 0.9935 - loss: 0.0188 - val_accuracy: 0.7861 - val_loss: 1.2880\n",
            "Epoch 94/100\n",
            "\u001b[1m625/625\u001b[0m \u001b[32m━━━━━━━━━━━━━━━━━━━━\u001b[0m\u001b[37m\u001b[0m \u001b[1m5s\u001b[0m 8ms/step - accuracy: 0.9943 - loss: 0.0173 - val_accuracy: 0.7900 - val_loss: 1.3244\n",
            "Epoch 95/100\n",
            "\u001b[1m625/625\u001b[0m \u001b[32m━━━━━━━━━━━━━━━━━━━━\u001b[0m\u001b[37m\u001b[0m \u001b[1m5s\u001b[0m 8ms/step - accuracy: 0.9941 - loss: 0.0163 - val_accuracy: 0.7900 - val_loss: 1.3641\n",
            "Epoch 96/100\n",
            "\u001b[1m625/625\u001b[0m \u001b[32m━━━━━━━━━━━━━━━━━━━━\u001b[0m\u001b[37m\u001b[0m \u001b[1m5s\u001b[0m 8ms/step - accuracy: 0.9915 - loss: 0.0230 - val_accuracy: 0.7833 - val_loss: 1.3176\n",
            "Epoch 97/100\n",
            "\u001b[1m625/625\u001b[0m \u001b[32m━━━━━━━━━━━━━━━━━━━━\u001b[0m\u001b[37m\u001b[0m \u001b[1m5s\u001b[0m 8ms/step - accuracy: 0.9929 - loss: 0.0190 - val_accuracy: 0.7996 - val_loss: 1.3148\n",
            "Epoch 98/100\n",
            "\u001b[1m625/625\u001b[0m \u001b[32m━━━━━━━━━━━━━━━━━━━━\u001b[0m\u001b[37m\u001b[0m \u001b[1m5s\u001b[0m 8ms/step - accuracy: 0.9946 - loss: 0.0170 - val_accuracy: 0.7723 - val_loss: 1.5225\n",
            "Epoch 99/100\n",
            "\u001b[1m625/625\u001b[0m \u001b[32m━━━━━━━━━━━━━━━━━━━━\u001b[0m\u001b[37m\u001b[0m \u001b[1m5s\u001b[0m 8ms/step - accuracy: 0.9913 - loss: 0.0234 - val_accuracy: 0.7880 - val_loss: 1.3806\n",
            "Epoch 100/100\n",
            "\u001b[1m625/625\u001b[0m \u001b[32m━━━━━━━━━━━━━━━━━━━━\u001b[0m\u001b[37m\u001b[0m \u001b[1m5s\u001b[0m 8ms/step - accuracy: 0.9933 - loss: 0.0203 - val_accuracy: 0.7927 - val_loss: 1.3636\n"
          ]
        },
        {
          "output_type": "execute_result",
          "data": {
            "text/plain": [
              "<keras.src.callbacks.history.History at 0x7dcca209b290>"
            ]
          },
          "metadata": {},
          "execution_count": 6
        }
      ]
    },
    {
      "cell_type": "code",
      "source": [],
      "metadata": {
        "id": "gVlTUxlymLlN"
      },
      "execution_count": null,
      "outputs": []
    }
  ]
}