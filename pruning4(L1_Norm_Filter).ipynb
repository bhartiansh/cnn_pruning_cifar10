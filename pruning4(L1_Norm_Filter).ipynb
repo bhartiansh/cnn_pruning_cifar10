{
  "nbformat": 4,
  "nbformat_minor": 0,
  "metadata": {
    "colab": {
      "provenance": [],
      "gpuType": "T4",
      "authorship_tag": "ABX9TyOunxtvJdMmIGbvTTRTCZB7",
      "include_colab_link": true
    },
    "kernelspec": {
      "name": "python3",
      "display_name": "Python 3"
    },
    "language_info": {
      "name": "python"
    },
    "accelerator": "GPU"
  },
  "cells": [
    {
      "cell_type": "markdown",
      "metadata": {
        "id": "view-in-github",
        "colab_type": "text"
      },
      "source": [
        "<a href=\"https://colab.research.google.com/github/bhartiansh/cnn_pruning_cifar10/blob/main/pruning4(L1_Norm_Filter).ipynb\" target=\"_parent\"><img src=\"https://colab.research.google.com/assets/colab-badge.svg\" alt=\"Open In Colab\"/></a>"
      ]
    },
    {
      "cell_type": "code",
      "execution_count": 1,
      "metadata": {
        "colab": {
          "base_uri": "https://localhost:8080/"
        },
        "id": "WzCDbgDOaF2p",
        "outputId": "24658190-25de-4d13-aad2-2833df716a79"
      },
      "outputs": [
        {
          "output_type": "stream",
          "name": "stdout",
          "text": [
            "Cloning into 'cnn_pruning_cifar10'...\n",
            "remote: Enumerating objects: 99, done.\u001b[K\n",
            "remote: Counting objects: 100% (99/99), done.\u001b[K\n",
            "remote: Compressing objects: 100% (95/95), done.\u001b[K\n",
            "remote: Total 99 (delta 38), reused 0 (delta 0), pack-reused 0 (from 0)\u001b[K\n",
            "Receiving objects: 100% (99/99), 59.73 KiB | 8.53 MiB/s, done.\n",
            "Resolving deltas: 100% (38/38), done.\n",
            "/content/cnn_pruning_cifar10\n"
          ]
        }
      ],
      "source": [
        "!git clone https://github.com/bhartiansh/cnn_pruning_cifar10.git\n",
        "%cd cnn_pruning_cifar10"
      ]
    },
    {
      "cell_type": "code",
      "source": [
        "!pip install -q tensorflow-model-optimization"
      ],
      "metadata": {
        "colab": {
          "base_uri": "https://localhost:8080/"
        },
        "id": "WRjCwaBiaOU1",
        "outputId": "63b2582b-8d58-477c-b1e3-8bd81367de8a"
      },
      "execution_count": 2,
      "outputs": [
        {
          "output_type": "stream",
          "name": "stdout",
          "text": [
            "\u001b[?25l   \u001b[90m━━━━━━━━━━━━━━━━━━━━━━━━━━━━━━━━━━━━━━━━\u001b[0m \u001b[32m0.0/242.5 kB\u001b[0m \u001b[31m?\u001b[0m eta \u001b[36m-:--:--\u001b[0m\r\u001b[2K   \u001b[90m━━━━━━━━━━━━━━━━━━━━━━━━━━━━━━━━━━━━━━━━\u001b[0m \u001b[32m242.5/242.5 kB\u001b[0m \u001b[31m15.1 MB/s\u001b[0m eta \u001b[36m0:00:00\u001b[0m\n",
            "\u001b[?25h"
          ]
        }
      ]
    },
    {
      "cell_type": "code",
      "source": [
        "import tensorflow as tf\n",
        "import numpy as np\n",
        "import matplotlib.pyplot as plt\n",
        "import tensorflow_model_optimization as tfmot\n",
        "from models.resnet56_baseline import build_resnet56"
      ],
      "metadata": {
        "id": "nE-i8H4NaQCo"
      },
      "execution_count": 3,
      "outputs": []
    },
    {
      "cell_type": "code",
      "source": [
        "def get_prunable_layers(model):\n",
        "    return [layer for layer in model.layers if isinstance(layer, tf.keras.layers.Conv2D)]\n",
        "def get_l1_norms(layer):\n",
        "    weights = layer.get_weights()[0]  # shape: (k, k, in_channels, out_channels)\n",
        "    l1_norms = np.sum(np.abs(weights), axis=(0, 1, 2))  # per filter\n",
        "    return l1_norms\n"
      ],
      "metadata": {
        "id": "lW-RsDhjaR7J"
      },
      "execution_count": 4,
      "outputs": []
    },
    {
      "cell_type": "code",
      "source": [
        "def apply_l1_filter_pruning(model, sparsity=0.3):\n",
        "    prunable_layers = get_prunable_layers(model)\n",
        "    for layer in prunable_layers:\n",
        "        weights, bias = layer.get_weights() if len(layer.get_weights()) == 2 else (layer.get_weights()[0], None)\n",
        "        l1_norms = np.sum(np.abs(weights), axis=(0, 1, 2))\n",
        "        num_filters = weights.shape[-1]\n",
        "        k = int(sparsity * num_filters)\n",
        "        prune_indices = np.argsort(l1_norms)[:k]\n",
        "\n",
        "        # Zero-out selected filters\n",
        "        for i in prune_indices:\n",
        "            weights[..., i] = 0\n",
        "            if bias is not None:\n",
        "                bias[i] = 0\n",
        "\n",
        "        if bias is not None:\n",
        "            layer.set_weights([weights, bias])\n",
        "        else:\n",
        "            layer.set_weights([weights])\n"
      ],
      "metadata": {
        "id": "x-L_c22TaUNM"
      },
      "execution_count": 5,
      "outputs": []
    },
    {
      "cell_type": "code",
      "source": [
        "def train_l1_pruned_model(build_model_fn, x_train, y_train, x_val, y_val,\n",
        "                          sparsity=0.3, epochs=50, batch_size=128, save_path='l1prune_model.h5'):\n",
        "    model = build_model_fn()\n",
        "    apply_l1_filter_pruning(model, sparsity)\n",
        "\n",
        "    early_stop = tf.keras.callbacks.EarlyStopping(patience=5, restore_best_weights=True)\n",
        "    checkpoint = tf.keras.callbacks.ModelCheckpoint(save_path, save_best_only=True)\n",
        "\n",
        "    model.compile(optimizer='adam',\n",
        "                  loss='sparse_categorical_crossentropy',\n",
        "                  metrics=['accuracy'])\n",
        "\n",
        "    history = model.fit(x_train, y_train,\n",
        "                        validation_data=(x_val, y_val),\n",
        "                        epochs=epochs,\n",
        "                        batch_size=batch_size,\n",
        "                        callbacks=[early_stop, checkpoint],\n",
        "                        verbose=2)\n",
        "\n",
        "    return model, history\n"
      ],
      "metadata": {
        "id": "NgqN3obcaY-0"
      },
      "execution_count": 6,
      "outputs": []
    },
    {
      "cell_type": "code",
      "source": [
        "# Load and normalize CIFAR-10\n",
        "(x_train, y_train), (x_test, y_test) = tf.keras.datasets.cifar10.load_data()\n",
        "x_train, x_test = x_train / 255.0, x_test / 255.0\n",
        "\n",
        "# Train structured pruned model\n",
        "model, history = train_l1_pruned_model(\n",
        "    build_model_fn=build_resnet56,\n",
        "    x_train=x_train,\n",
        "    y_train=y_train,\n",
        "    x_val=x_test,\n",
        "    y_val=y_test,\n",
        "    sparsity=0.3,  # Prune 30% filters\n",
        "    save_path='l1prune_model.h5'\n",
        ")\n"
      ],
      "metadata": {
        "colab": {
          "base_uri": "https://localhost:8080/"
        },
        "id": "qceGFD8baatd",
        "outputId": "8b7667ff-b1c8-4f78-e6d8-ce98a6ab4c4b"
      },
      "execution_count": 7,
      "outputs": [
        {
          "output_type": "stream",
          "name": "stdout",
          "text": [
            "Downloading data from https://www.cs.toronto.edu/~kriz/cifar-10-python.tar.gz\n",
            "\u001b[1m170498071/170498071\u001b[0m \u001b[32m━━━━━━━━━━━━━━━━━━━━\u001b[0m\u001b[37m\u001b[0m \u001b[1m14s\u001b[0m 0us/step\n",
            "Epoch 1/50\n"
          ]
        },
        {
          "output_type": "stream",
          "name": "stderr",
          "text": [
            "WARNING:absl:You are saving your model as an HDF5 file via `model.save()` or `keras.saving.save_model(model)`. This file format is considered legacy. We recommend using instead the native Keras format, e.g. `model.save('my_model.keras')` or `keras.saving.save_model(model, 'my_model.keras')`. \n"
          ]
        },
        {
          "output_type": "stream",
          "name": "stdout",
          "text": [
            "391/391 - 101s - 258ms/step - accuracy: 0.4232 - loss: 1.6060 - val_accuracy: 0.4636 - val_loss: 1.5088\n",
            "Epoch 2/50\n"
          ]
        },
        {
          "output_type": "stream",
          "name": "stderr",
          "text": [
            "WARNING:absl:You are saving your model as an HDF5 file via `model.save()` or `keras.saving.save_model(model)`. This file format is considered legacy. We recommend using instead the native Keras format, e.g. `model.save('my_model.keras')` or `keras.saving.save_model(model, 'my_model.keras')`. \n"
          ]
        },
        {
          "output_type": "stream",
          "name": "stdout",
          "text": [
            "391/391 - 47s - 120ms/step - accuracy: 0.5981 - loss: 1.1168 - val_accuracy: 0.5264 - val_loss: 1.3259\n",
            "Epoch 3/50\n",
            "391/391 - 39s - 101ms/step - accuracy: 0.6866 - loss: 0.8822 - val_accuracy: 0.5508 - val_loss: 1.4677\n",
            "Epoch 4/50\n"
          ]
        },
        {
          "output_type": "stream",
          "name": "stderr",
          "text": [
            "WARNING:absl:You are saving your model as an HDF5 file via `model.save()` or `keras.saving.save_model(model)`. This file format is considered legacy. We recommend using instead the native Keras format, e.g. `model.save('my_model.keras')` or `keras.saving.save_model(model, 'my_model.keras')`. \n"
          ]
        },
        {
          "output_type": "stream",
          "name": "stdout",
          "text": [
            "391/391 - 29s - 75ms/step - accuracy: 0.7378 - loss: 0.7407 - val_accuracy: 0.6347 - val_loss: 1.1221\n",
            "Epoch 5/50\n"
          ]
        },
        {
          "output_type": "stream",
          "name": "stderr",
          "text": [
            "WARNING:absl:You are saving your model as an HDF5 file via `model.save()` or `keras.saving.save_model(model)`. This file format is considered legacy. We recommend using instead the native Keras format, e.g. `model.save('my_model.keras')` or `keras.saving.save_model(model, 'my_model.keras')`. \n"
          ]
        },
        {
          "output_type": "stream",
          "name": "stdout",
          "text": [
            "391/391 - 41s - 105ms/step - accuracy: 0.7796 - loss: 0.6299 - val_accuracy: 0.7008 - val_loss: 0.9262\n",
            "Epoch 6/50\n"
          ]
        },
        {
          "output_type": "stream",
          "name": "stderr",
          "text": [
            "WARNING:absl:You are saving your model as an HDF5 file via `model.save()` or `keras.saving.save_model(model)`. This file format is considered legacy. We recommend using instead the native Keras format, e.g. `model.save('my_model.keras')` or `keras.saving.save_model(model, 'my_model.keras')`. \n"
          ]
        },
        {
          "output_type": "stream",
          "name": "stdout",
          "text": [
            "391/391 - 41s - 106ms/step - accuracy: 0.8072 - loss: 0.5519 - val_accuracy: 0.7129 - val_loss: 0.8532\n",
            "Epoch 7/50\n",
            "391/391 - 39s - 99ms/step - accuracy: 0.8304 - loss: 0.4811 - val_accuracy: 0.6584 - val_loss: 1.1734\n",
            "Epoch 8/50\n",
            "391/391 - 29s - 74ms/step - accuracy: 0.8497 - loss: 0.4230 - val_accuracy: 0.7259 - val_loss: 0.9460\n",
            "Epoch 9/50\n",
            "391/391 - 39s - 101ms/step - accuracy: 0.8705 - loss: 0.3683 - val_accuracy: 0.6864 - val_loss: 1.0908\n",
            "Epoch 10/50\n"
          ]
        },
        {
          "output_type": "stream",
          "name": "stderr",
          "text": [
            "WARNING:absl:You are saving your model as an HDF5 file via `model.save()` or `keras.saving.save_model(model)`. This file format is considered legacy. We recommend using instead the native Keras format, e.g. `model.save('my_model.keras')` or `keras.saving.save_model(model, 'my_model.keras')`. \n"
          ]
        },
        {
          "output_type": "stream",
          "name": "stdout",
          "text": [
            "391/391 - 44s - 112ms/step - accuracy: 0.8881 - loss: 0.3176 - val_accuracy: 0.7683 - val_loss: 0.7603\n",
            "Epoch 11/50\n",
            "391/391 - 29s - 74ms/step - accuracy: 0.9023 - loss: 0.2738 - val_accuracy: 0.7263 - val_loss: 0.9759\n",
            "Epoch 12/50\n",
            "391/391 - 28s - 70ms/step - accuracy: 0.9147 - loss: 0.2348 - val_accuracy: 0.6591 - val_loss: 1.4414\n",
            "Epoch 13/50\n",
            "391/391 - 28s - 71ms/step - accuracy: 0.9287 - loss: 0.1979 - val_accuracy: 0.6784 - val_loss: 1.6478\n",
            "Epoch 14/50\n",
            "391/391 - 41s - 105ms/step - accuracy: 0.9393 - loss: 0.1709 - val_accuracy: 0.7124 - val_loss: 1.1624\n",
            "Epoch 15/50\n",
            "391/391 - 28s - 71ms/step - accuracy: 0.9478 - loss: 0.1455 - val_accuracy: 0.7171 - val_loss: 1.4336\n"
          ]
        }
      ]
    },
    {
      "cell_type": "code",
      "source": [
        "# Load and normalize CIFAR-10\n",
        "(x_train, y_train), (x_test, y_test) = tf.keras.datasets.cifar10.load_data()\n",
        "x_train, x_test = x_train / 255.0, x_test / 255.0\n",
        "\n",
        "# Train structured pruned model\n",
        "model, history = train_l1_pruned_model(\n",
        "    build_model_fn=build_resnet56,\n",
        "    x_train=x_train,\n",
        "    y_train=y_train,\n",
        "    x_val=x_test,\n",
        "    y_val=y_test,\n",
        "    sparsity=0.5,  # Prune 50% filters\n",
        "    save_path='l1prune_model.h5'\n",
        ")\n"
      ],
      "metadata": {
        "colab": {
          "base_uri": "https://localhost:8080/"
        },
        "id": "sTHBxrD-acS0",
        "outputId": "c6ae841f-f495-4165-cf6f-98ec7cf05253"
      },
      "execution_count": 8,
      "outputs": [
        {
          "output_type": "stream",
          "name": "stdout",
          "text": [
            "Epoch 1/50\n"
          ]
        },
        {
          "output_type": "stream",
          "name": "stderr",
          "text": [
            "WARNING:absl:You are saving your model as an HDF5 file via `model.save()` or `keras.saving.save_model(model)`. This file format is considered legacy. We recommend using instead the native Keras format, e.g. `model.save('my_model.keras')` or `keras.saving.save_model(model, 'my_model.keras')`. \n"
          ]
        },
        {
          "output_type": "stream",
          "name": "stdout",
          "text": [
            "391/391 - 96s - 245ms/step - accuracy: 0.4350 - loss: 1.5824 - val_accuracy: 0.3271 - val_loss: 2.0344\n",
            "Epoch 2/50\n"
          ]
        },
        {
          "output_type": "stream",
          "name": "stderr",
          "text": [
            "WARNING:absl:You are saving your model as an HDF5 file via `model.save()` or `keras.saving.save_model(model)`. This file format is considered legacy. We recommend using instead the native Keras format, e.g. `model.save('my_model.keras')` or `keras.saving.save_model(model, 'my_model.keras')`. \n"
          ]
        },
        {
          "output_type": "stream",
          "name": "stdout",
          "text": [
            "391/391 - 29s - 75ms/step - accuracy: 0.6060 - loss: 1.1067 - val_accuracy: 0.5465 - val_loss: 1.3425\n",
            "Epoch 3/50\n"
          ]
        },
        {
          "output_type": "stream",
          "name": "stderr",
          "text": [
            "WARNING:absl:You are saving your model as an HDF5 file via `model.save()` or `keras.saving.save_model(model)`. This file format is considered legacy. We recommend using instead the native Keras format, e.g. `model.save('my_model.keras')` or `keras.saving.save_model(model, 'my_model.keras')`. \n"
          ]
        },
        {
          "output_type": "stream",
          "name": "stdout",
          "text": [
            "391/391 - 39s - 101ms/step - accuracy: 0.6749 - loss: 0.9119 - val_accuracy: 0.6019 - val_loss: 1.2364\n",
            "Epoch 4/50\n"
          ]
        },
        {
          "output_type": "stream",
          "name": "stderr",
          "text": [
            "WARNING:absl:You are saving your model as an HDF5 file via `model.save()` or `keras.saving.save_model(model)`. This file format is considered legacy. We recommend using instead the native Keras format, e.g. `model.save('my_model.keras')` or `keras.saving.save_model(model, 'my_model.keras')`. \n"
          ]
        },
        {
          "output_type": "stream",
          "name": "stdout",
          "text": [
            "391/391 - 42s - 107ms/step - accuracy: 0.7197 - loss: 0.7898 - val_accuracy: 0.6380 - val_loss: 1.0626\n",
            "Epoch 5/50\n"
          ]
        },
        {
          "output_type": "stream",
          "name": "stderr",
          "text": [
            "WARNING:absl:You are saving your model as an HDF5 file via `model.save()` or `keras.saving.save_model(model)`. This file format is considered legacy. We recommend using instead the native Keras format, e.g. `model.save('my_model.keras')` or `keras.saving.save_model(model, 'my_model.keras')`. \n"
          ]
        },
        {
          "output_type": "stream",
          "name": "stdout",
          "text": [
            "391/391 - 28s - 71ms/step - accuracy: 0.7538 - loss: 0.6971 - val_accuracy: 0.6620 - val_loss: 1.0181\n",
            "Epoch 6/50\n"
          ]
        },
        {
          "output_type": "stream",
          "name": "stderr",
          "text": [
            "WARNING:absl:You are saving your model as an HDF5 file via `model.save()` or `keras.saving.save_model(model)`. This file format is considered legacy. We recommend using instead the native Keras format, e.g. `model.save('my_model.keras')` or `keras.saving.save_model(model, 'my_model.keras')`. \n"
          ]
        },
        {
          "output_type": "stream",
          "name": "stdout",
          "text": [
            "391/391 - 42s - 108ms/step - accuracy: 0.7825 - loss: 0.6173 - val_accuracy: 0.7030 - val_loss: 0.8705\n",
            "Epoch 7/50\n",
            "391/391 - 39s - 100ms/step - accuracy: 0.8084 - loss: 0.5440 - val_accuracy: 0.6800 - val_loss: 1.0013\n",
            "Epoch 8/50\n",
            "391/391 - 41s - 104ms/step - accuracy: 0.8293 - loss: 0.4879 - val_accuracy: 0.6561 - val_loss: 1.0871\n",
            "Epoch 9/50\n",
            "391/391 - 28s - 71ms/step - accuracy: 0.8483 - loss: 0.4309 - val_accuracy: 0.6510 - val_loss: 1.2013\n",
            "Epoch 10/50\n",
            "391/391 - 28s - 72ms/step - accuracy: 0.8658 - loss: 0.3787 - val_accuracy: 0.7257 - val_loss: 0.8885\n",
            "Epoch 11/50\n",
            "391/391 - 40s - 103ms/step - accuracy: 0.8809 - loss: 0.3387 - val_accuracy: 0.7191 - val_loss: 0.9385\n"
          ]
        }
      ]
    },
    {
      "cell_type": "code",
      "source": [
        "# Load and normalize CIFAR-10\n",
        "(x_train, y_train), (x_test, y_test) = tf.keras.datasets.cifar10.load_data()\n",
        "x_train, x_test = x_train / 255.0, x_test / 255.0\n",
        "\n",
        "# Train structured pruned model\n",
        "model, history = train_l1_pruned_model(\n",
        "    build_model_fn=build_resnet56,\n",
        "    x_train=x_train,\n",
        "    y_train=y_train,\n",
        "    x_val=x_test,\n",
        "    y_val=y_test,\n",
        "    sparsity=0.7,  # Prune 70% filters\n",
        "    save_path='l1prune_model.h5'\n",
        ")\n"
      ],
      "metadata": {
        "colab": {
          "base_uri": "https://localhost:8080/"
        },
        "id": "op7K7HDua8fM",
        "outputId": "8d9aa34d-ba6e-49a3-90ba-453216479a8e"
      },
      "execution_count": 9,
      "outputs": [
        {
          "output_type": "stream",
          "name": "stdout",
          "text": [
            "Epoch 1/50\n"
          ]
        },
        {
          "output_type": "stream",
          "name": "stderr",
          "text": [
            "WARNING:absl:You are saving your model as an HDF5 file via `model.save()` or `keras.saving.save_model(model)`. This file format is considered legacy. We recommend using instead the native Keras format, e.g. `model.save('my_model.keras')` or `keras.saving.save_model(model, 'my_model.keras')`. \n"
          ]
        },
        {
          "output_type": "stream",
          "name": "stdout",
          "text": [
            "391/391 - 97s - 248ms/step - accuracy: 0.4134 - loss: 1.6136 - val_accuracy: 0.2934 - val_loss: 1.9230\n",
            "Epoch 2/50\n"
          ]
        },
        {
          "output_type": "stream",
          "name": "stderr",
          "text": [
            "WARNING:absl:You are saving your model as an HDF5 file via `model.save()` or `keras.saving.save_model(model)`. This file format is considered legacy. We recommend using instead the native Keras format, e.g. `model.save('my_model.keras')` or `keras.saving.save_model(model, 'my_model.keras')`. \n"
          ]
        },
        {
          "output_type": "stream",
          "name": "stdout",
          "text": [
            "391/391 - 29s - 75ms/step - accuracy: 0.5653 - loss: 1.2133 - val_accuracy: 0.5259 - val_loss: 1.3937\n",
            "Epoch 3/50\n",
            "391/391 - 40s - 103ms/step - accuracy: 0.6441 - loss: 1.0035 - val_accuracy: 0.5321 - val_loss: 1.4187\n",
            "Epoch 4/50\n"
          ]
        },
        {
          "output_type": "stream",
          "name": "stderr",
          "text": [
            "WARNING:absl:You are saving your model as an HDF5 file via `model.save()` or `keras.saving.save_model(model)`. This file format is considered legacy. We recommend using instead the native Keras format, e.g. `model.save('my_model.keras')` or `keras.saving.save_model(model, 'my_model.keras')`. \n"
          ]
        },
        {
          "output_type": "stream",
          "name": "stdout",
          "text": [
            "391/391 - 42s - 106ms/step - accuracy: 0.6943 - loss: 0.8662 - val_accuracy: 0.6399 - val_loss: 1.0543\n",
            "Epoch 5/50\n"
          ]
        },
        {
          "output_type": "stream",
          "name": "stderr",
          "text": [
            "WARNING:absl:You are saving your model as an HDF5 file via `model.save()` or `keras.saving.save_model(model)`. This file format is considered legacy. We recommend using instead the native Keras format, e.g. `model.save('my_model.keras')` or `keras.saving.save_model(model, 'my_model.keras')`. \n"
          ]
        },
        {
          "output_type": "stream",
          "name": "stdout",
          "text": [
            "391/391 - 41s - 104ms/step - accuracy: 0.7340 - loss: 0.7594 - val_accuracy: 0.6589 - val_loss: 0.9829\n",
            "Epoch 6/50\n"
          ]
        },
        {
          "output_type": "stream",
          "name": "stderr",
          "text": [
            "WARNING:absl:You are saving your model as an HDF5 file via `model.save()` or `keras.saving.save_model(model)`. This file format is considered legacy. We recommend using instead the native Keras format, e.g. `model.save('my_model.keras')` or `keras.saving.save_model(model, 'my_model.keras')`. \n"
          ]
        },
        {
          "output_type": "stream",
          "name": "stdout",
          "text": [
            "391/391 - 40s - 101ms/step - accuracy: 0.7599 - loss: 0.6857 - val_accuracy: 0.7090 - val_loss: 0.8821\n",
            "Epoch 7/50\n",
            "391/391 - 40s - 103ms/step - accuracy: 0.7823 - loss: 0.6214 - val_accuracy: 0.6629 - val_loss: 1.0522\n",
            "Epoch 8/50\n",
            "391/391 - 41s - 104ms/step - accuracy: 0.8023 - loss: 0.5675 - val_accuracy: 0.6250 - val_loss: 1.2435\n",
            "Epoch 9/50\n",
            "391/391 - 28s - 73ms/step - accuracy: 0.8195 - loss: 0.5176 - val_accuracy: 0.6942 - val_loss: 0.9262\n",
            "Epoch 10/50\n",
            "391/391 - 40s - 101ms/step - accuracy: 0.8296 - loss: 0.4838 - val_accuracy: 0.6525 - val_loss: 1.2405\n",
            "Epoch 11/50\n",
            "391/391 - 29s - 74ms/step - accuracy: 0.8478 - loss: 0.4349 - val_accuracy: 0.6636 - val_loss: 1.1216\n"
          ]
        }
      ]
    },
    {
      "cell_type": "code",
      "source": [],
      "metadata": {
        "id": "GDVYe6cyoON8"
      },
      "execution_count": null,
      "outputs": []
    }
  ]
}